{
 "cells": [
  {
   "cell_type": "markdown",
   "metadata": {},
   "source": [
    "# Project 17 - Numerical Methods"
   ]
  },
  {
   "cell_type": "markdown",
   "metadata": {},
   "source": [
    "Rusty Bargain used car sales service is developing an app to attract new customers. In that app, you can quickly find out the market value of your car. You have access to historical data: technical specifications, trim versions, and prices. You need to build the model to determine the value. \n",
    "\n",
    "Rusty Bargain is interested in:\n",
    "\n",
    "- the quality of the prediction;\n",
    "- the speed of the prediction;\n",
    "- the time required for training"
   ]
  },
  {
   "cell_type": "code",
   "execution_count": 1,
   "metadata": {
    "collapsed": true
   },
   "outputs": [
    {
     "name": "stdout",
     "output_type": "stream",
     "text": [
      "Defaulting to user installation because normal site-packages is not writeable\n",
      "Collecting seaborn\n",
      "  Downloading seaborn-0.11.2-py3-none-any.whl (292 kB)\n",
      "\u001b[K     |████████████████████████████████| 292 kB 1.3 MB/s eta 0:00:01\n",
      "\u001b[?25hRequirement already satisfied, skipping upgrade: pandas>=0.23 in /opt/conda/lib/python3.7/site-packages (from seaborn) (0.25.1)\n",
      "Requirement already satisfied, skipping upgrade: scipy>=1.0 in /opt/conda/lib/python3.7/site-packages (from seaborn) (1.4.1)\n",
      "Requirement already satisfied, skipping upgrade: numpy>=1.15 in /opt/conda/lib/python3.7/site-packages (from seaborn) (1.19.5)\n",
      "Requirement already satisfied, skipping upgrade: matplotlib>=2.2 in /opt/conda/lib/python3.7/site-packages (from seaborn) (3.1.0)\n",
      "Requirement already satisfied, skipping upgrade: python-dateutil>=2.6.1 in /opt/conda/lib/python3.7/site-packages (from pandas>=0.23->seaborn) (2.8.1)\n",
      "Requirement already satisfied, skipping upgrade: pytz>=2017.2 in /opt/conda/lib/python3.7/site-packages (from pandas>=0.23->seaborn) (2021.1)\n",
      "Requirement already satisfied, skipping upgrade: cycler>=0.10 in /opt/conda/lib/python3.7/site-packages (from matplotlib>=2.2->seaborn) (0.10.0)\n",
      "Requirement already satisfied, skipping upgrade: pyparsing!=2.0.4,!=2.1.2,!=2.1.6,>=2.0.1 in /opt/conda/lib/python3.7/site-packages (from matplotlib>=2.2->seaborn) (2.4.7)\n",
      "Requirement already satisfied, skipping upgrade: kiwisolver>=1.0.1 in /opt/conda/lib/python3.7/site-packages (from matplotlib>=2.2->seaborn) (1.3.1)\n",
      "Requirement already satisfied, skipping upgrade: six>=1.5 in /opt/conda/lib/python3.7/site-packages (from python-dateutil>=2.6.1->pandas>=0.23->seaborn) (1.15.0)\n",
      "Installing collected packages: seaborn\n",
      "Successfully installed seaborn-0.11.2\n"
     ]
    }
   ],
   "source": [
    "!pip install --upgrade seaborn -q"
   ]
  },
  {
   "cell_type": "code",
   "execution_count": 3,
   "metadata": {},
   "outputs": [],
   "source": [
    "from sklearn.pipeline import Pipeline\n",
    "import math\n",
    "\n",
    "# Basic\n",
    "import timeit\n",
    "import pandas as pd\n",
    "import numpy as np\n",
    "import seaborn as sns\n",
    "import matplotlib.pyplot as plt\n",
    "import plotly.express as px\n",
    "import warnings\n",
    "from scipy import stats as st\n",
    "from pprint import pprint\n",
    "warnings.filterwarnings(\"ignore\")\n",
    "\n",
    "# Preprocessing\n",
    "from sklearn.model_selection import train_test_split\n",
    "from sklearn.preprocessing import StandardScaler \n",
    "from sklearn.utils import shuffle\n",
    "from sklearn.preprocessing import OrdinalEncoder \n",
    "\n",
    "# Modelling\n",
    "from sklearn.ensemble import RandomForestRegressor\n",
    "from sklearn.model_selection import RandomizedSearchCV\n",
    "from sklearn.linear_model import LogisticRegression \n",
    "from sklearn.model_selection import GridSearchCV\n",
    "from sklearn import tree\n",
    "from sklearn.linear_model import LogisticRegressionCV\n",
    "from sklearn.model_selection import cross_val_score\n",
    "from sklearn.model_selection import StratifiedKFold\n",
    "from sklearn.linear_model import LinearRegression\n",
    "from sklearn.linear_model import Lasso\n",
    "from sklearn.tree import DecisionTreeRegressor\n",
    "from catboost import CatBoostRegressor\n",
    "from lightgbm import LGBMRegressor\n",
    "from xgboost import XGBRegressor\n",
    "\n",
    "# Metrics\n",
    "from sklearn.metrics import mean_squared_error\n",
    "\n",
    "# Visualization\n",
    "import seaborn as sns\n",
    "\n",
    "RANDOM_STATE = 2128506\n",
    "NEIGHBORS = 5"
   ]
  },
  {
   "cell_type": "markdown",
   "metadata": {},
   "source": [
    "## Data preparation"
   ]
  },
  {
   "cell_type": "markdown",
   "metadata": {},
   "source": [
    "__Download the data__"
   ]
  },
  {
   "cell_type": "code",
   "execution_count": 4,
   "metadata": {},
   "outputs": [],
   "source": [
    "path_windows = ''\n",
    "path_OSX = '/Users/stainer/Desktop/Jupyter/Data_Sets/'\n",
    "try:\n",
    "    df = pd.read_csv('/datasets/car_data.csv')\n",
    "except:\n",
    "    try:\n",
    "        df = pd.read_csv(path_OSX + 'car_data.csv')\n",
    "    except:\n",
    "        df = pd.read_csv(path_windows + 'car_data.csv')"
   ]
  },
  {
   "cell_type": "markdown",
   "metadata": {},
   "source": [
    "__Change column names to lowercase__"
   ]
  },
  {
   "cell_type": "code",
   "execution_count": 5,
   "metadata": {},
   "outputs": [],
   "source": [
    "# df = df.sample(10000)"
   ]
  },
  {
   "cell_type": "code",
   "execution_count": 6,
   "metadata": {},
   "outputs": [],
   "source": [
    "df.columns = df.columns.str.lower()"
   ]
  },
  {
   "cell_type": "markdown",
   "metadata": {},
   "source": [
    "__Quick peek at our data__"
   ]
  },
  {
   "cell_type": "code",
   "execution_count": 7,
   "metadata": {},
   "outputs": [
    {
     "name": "stdout",
     "output_type": "stream",
     "text": [
      "<class 'pandas.core.frame.DataFrame'>\n",
      "RangeIndex: 354369 entries, 0 to 354368\n",
      "Data columns (total 16 columns):\n",
      "datecrawled          354369 non-null object\n",
      "price                354369 non-null int64\n",
      "vehicletype          316879 non-null object\n",
      "registrationyear     354369 non-null int64\n",
      "gearbox              334536 non-null object\n",
      "power                354369 non-null int64\n",
      "model                334664 non-null object\n",
      "mileage              354369 non-null int64\n",
      "registrationmonth    354369 non-null int64\n",
      "fueltype             321474 non-null object\n",
      "brand                354369 non-null object\n",
      "notrepaired          283215 non-null object\n",
      "datecreated          354369 non-null object\n",
      "numberofpictures     354369 non-null int64\n",
      "postalcode           354369 non-null int64\n",
      "lastseen             354369 non-null object\n",
      "dtypes: int64(7), object(9)\n",
      "memory usage: 43.3+ MB\n"
     ]
    }
   ],
   "source": [
    "df.info()"
   ]
  },
  {
   "cell_type": "code",
   "execution_count": 8,
   "metadata": {
    "scrolled": true
   },
   "outputs": [
    {
     "data": {
      "text/html": [
       "<div>\n",
       "<style scoped>\n",
       "    .dataframe tbody tr th:only-of-type {\n",
       "        vertical-align: middle;\n",
       "    }\n",
       "\n",
       "    .dataframe tbody tr th {\n",
       "        vertical-align: top;\n",
       "    }\n",
       "\n",
       "    .dataframe thead th {\n",
       "        text-align: right;\n",
       "    }\n",
       "</style>\n",
       "<table border=\"1\" class=\"dataframe\">\n",
       "  <thead>\n",
       "    <tr style=\"text-align: right;\">\n",
       "      <th></th>\n",
       "      <th>datecrawled</th>\n",
       "      <th>price</th>\n",
       "      <th>vehicletype</th>\n",
       "      <th>registrationyear</th>\n",
       "      <th>gearbox</th>\n",
       "      <th>power</th>\n",
       "      <th>model</th>\n",
       "      <th>mileage</th>\n",
       "      <th>registrationmonth</th>\n",
       "      <th>fueltype</th>\n",
       "      <th>brand</th>\n",
       "      <th>notrepaired</th>\n",
       "      <th>datecreated</th>\n",
       "      <th>numberofpictures</th>\n",
       "      <th>postalcode</th>\n",
       "      <th>lastseen</th>\n",
       "    </tr>\n",
       "  </thead>\n",
       "  <tbody>\n",
       "    <tr>\n",
       "      <td>0</td>\n",
       "      <td>24/03/2016 11:52</td>\n",
       "      <td>480</td>\n",
       "      <td>NaN</td>\n",
       "      <td>1993</td>\n",
       "      <td>manual</td>\n",
       "      <td>0</td>\n",
       "      <td>golf</td>\n",
       "      <td>150000</td>\n",
       "      <td>0</td>\n",
       "      <td>petrol</td>\n",
       "      <td>volkswagen</td>\n",
       "      <td>NaN</td>\n",
       "      <td>24/03/2016 00:00</td>\n",
       "      <td>0</td>\n",
       "      <td>70435</td>\n",
       "      <td>07/04/2016 03:16</td>\n",
       "    </tr>\n",
       "    <tr>\n",
       "      <td>1</td>\n",
       "      <td>24/03/2016 10:58</td>\n",
       "      <td>18300</td>\n",
       "      <td>coupe</td>\n",
       "      <td>2011</td>\n",
       "      <td>manual</td>\n",
       "      <td>190</td>\n",
       "      <td>NaN</td>\n",
       "      <td>125000</td>\n",
       "      <td>5</td>\n",
       "      <td>gasoline</td>\n",
       "      <td>audi</td>\n",
       "      <td>yes</td>\n",
       "      <td>24/03/2016 00:00</td>\n",
       "      <td>0</td>\n",
       "      <td>66954</td>\n",
       "      <td>07/04/2016 01:46</td>\n",
       "    </tr>\n",
       "    <tr>\n",
       "      <td>2</td>\n",
       "      <td>14/03/2016 12:52</td>\n",
       "      <td>9800</td>\n",
       "      <td>suv</td>\n",
       "      <td>2004</td>\n",
       "      <td>auto</td>\n",
       "      <td>163</td>\n",
       "      <td>grand</td>\n",
       "      <td>125000</td>\n",
       "      <td>8</td>\n",
       "      <td>gasoline</td>\n",
       "      <td>jeep</td>\n",
       "      <td>NaN</td>\n",
       "      <td>14/03/2016 00:00</td>\n",
       "      <td>0</td>\n",
       "      <td>90480</td>\n",
       "      <td>05/04/2016 12:47</td>\n",
       "    </tr>\n",
       "    <tr>\n",
       "      <td>3</td>\n",
       "      <td>17/03/2016 16:54</td>\n",
       "      <td>1500</td>\n",
       "      <td>small</td>\n",
       "      <td>2001</td>\n",
       "      <td>manual</td>\n",
       "      <td>75</td>\n",
       "      <td>golf</td>\n",
       "      <td>150000</td>\n",
       "      <td>6</td>\n",
       "      <td>petrol</td>\n",
       "      <td>volkswagen</td>\n",
       "      <td>no</td>\n",
       "      <td>17/03/2016 00:00</td>\n",
       "      <td>0</td>\n",
       "      <td>91074</td>\n",
       "      <td>17/03/2016 17:40</td>\n",
       "    </tr>\n",
       "    <tr>\n",
       "      <td>4</td>\n",
       "      <td>31/03/2016 17:25</td>\n",
       "      <td>3600</td>\n",
       "      <td>small</td>\n",
       "      <td>2008</td>\n",
       "      <td>manual</td>\n",
       "      <td>69</td>\n",
       "      <td>fabia</td>\n",
       "      <td>90000</td>\n",
       "      <td>7</td>\n",
       "      <td>gasoline</td>\n",
       "      <td>skoda</td>\n",
       "      <td>no</td>\n",
       "      <td>31/03/2016 00:00</td>\n",
       "      <td>0</td>\n",
       "      <td>60437</td>\n",
       "      <td>06/04/2016 10:17</td>\n",
       "    </tr>\n",
       "  </tbody>\n",
       "</table>\n",
       "</div>"
      ],
      "text/plain": [
       "        datecrawled  price vehicletype  registrationyear gearbox  power  \\\n",
       "0  24/03/2016 11:52    480         NaN              1993  manual      0   \n",
       "1  24/03/2016 10:58  18300       coupe              2011  manual    190   \n",
       "2  14/03/2016 12:52   9800         suv              2004    auto    163   \n",
       "3  17/03/2016 16:54   1500       small              2001  manual     75   \n",
       "4  31/03/2016 17:25   3600       small              2008  manual     69   \n",
       "\n",
       "   model  mileage  registrationmonth  fueltype       brand notrepaired  \\\n",
       "0   golf   150000                  0    petrol  volkswagen         NaN   \n",
       "1    NaN   125000                  5  gasoline        audi         yes   \n",
       "2  grand   125000                  8  gasoline        jeep         NaN   \n",
       "3   golf   150000                  6    petrol  volkswagen          no   \n",
       "4  fabia    90000                  7  gasoline       skoda          no   \n",
       "\n",
       "        datecreated  numberofpictures  postalcode          lastseen  \n",
       "0  24/03/2016 00:00                 0       70435  07/04/2016 03:16  \n",
       "1  24/03/2016 00:00                 0       66954  07/04/2016 01:46  \n",
       "2  14/03/2016 00:00                 0       90480  05/04/2016 12:47  \n",
       "3  17/03/2016 00:00                 0       91074  17/03/2016 17:40  \n",
       "4  31/03/2016 00:00                 0       60437  06/04/2016 10:17  "
      ]
     },
     "execution_count": 8,
     "metadata": {},
     "output_type": "execute_result"
    }
   ],
   "source": [
    "df.head()"
   ]
  },
  {
   "cell_type": "markdown",
   "metadata": {},
   "source": [
    "DateCrawled, DateCreated and LastSeen columns probably should be converted to datetime format \\\n",
    "Those fields together with postal code could be used as an entrie identifier \\ \n",
    "NotRepaired can be converted into boolean after we take care of missing values"
   ]
  },
  {
   "cell_type": "markdown",
   "metadata": {},
   "source": [
    "__Convert dates from object to datetime__\n",
    "Data set is large, it will take a minute or two"
   ]
  },
  {
   "cell_type": "markdown",
   "metadata": {},
   "source": [
    "Alternatively we can leave it be for now and just drop them after we check for duplicates"
   ]
  },
  {
   "cell_type": "code",
   "execution_count": 9,
   "metadata": {
    "scrolled": true
   },
   "outputs": [],
   "source": [
    "# df.datecrawled = pd.to_datetime(df.datecrawled)\n",
    "# df.datecreated = pd.to_datetime(df.datecreated)\n",
    "# df.lastseen = pd.to_datetime(df.lastseen)"
   ]
  },
  {
   "cell_type": "markdown",
   "metadata": {},
   "source": [
    "__Missing values__"
   ]
  },
  {
   "cell_type": "code",
   "execution_count": 10,
   "metadata": {},
   "outputs": [
    {
     "data": {
      "text/plain": [
       "vehicletype    37490\n",
       "gearbox        19833\n",
       "model          19705\n",
       "fueltype       32895\n",
       "notrepaired    71154\n",
       "dtype: int64"
      ]
     },
     "execution_count": 10,
     "metadata": {},
     "output_type": "execute_result"
    }
   ],
   "source": [
    "df.isnull().sum()[df.isnull().sum() > 0]"
   ]
  },
  {
   "cell_type": "markdown",
   "metadata": {},
   "source": [
    "We have 5 fields with missing values. Let's look at them closely. \\"
   ]
  },
  {
   "cell_type": "code",
   "execution_count": 11,
   "metadata": {},
   "outputs": [
    {
     "name": "stdout",
     "output_type": "stream",
     "text": [
      "golf\n"
     ]
    },
    {
     "data": {
      "text/plain": [
       "sedan          14744\n",
       "small           3911\n",
       "wagon           3181\n",
       "convertible     1962\n",
       "bus              760\n",
       "coupe            429\n",
       "other            185\n",
       "suv               25\n",
       "Name: vehicletype, dtype: int64"
      ]
     },
     "execution_count": 11,
     "metadata": {},
     "output_type": "execute_result"
    }
   ],
   "source": [
    "print(df[df.vehicletype.isna()].iloc[0]['model'])\n",
    "df[df.model == df[df.vehicletype.isna()].iloc[0]['model']]['vehicletype'].value_counts()"
   ]
  },
  {
   "cell_type": "markdown",
   "metadata": {},
   "source": [
    "__Vehicle type:__ \\\n",
    "First of all, looking at exmple above, this field looks full of bs. Golf bus and Golf SUV? That's new. Convertible cannot be small? This field is confusing and there is possibility we would be better without it \\\n",
    "Having range of posible values this weird it would be hard to restore missing values"
   ]
  },
  {
   "cell_type": "code",
   "execution_count": 12,
   "metadata": {},
   "outputs": [
    {
     "data": {
      "text/plain": [
       "manual    268251\n",
       "auto       66285\n",
       "Name: gearbox, dtype: int64"
      ]
     },
     "execution_count": 12,
     "metadata": {},
     "output_type": "execute_result"
    }
   ],
   "source": [
    "df.gearbox.value_counts()"
   ]
  },
  {
   "cell_type": "code",
   "execution_count": 13,
   "metadata": {
    "scrolled": true
   },
   "outputs": [
    {
     "data": {
      "text/plain": [
       "gearbox\n",
       "auto       499.50000\n",
       "manual    1466.06057\n",
       "Name: price, dtype: float64"
      ]
     },
     "execution_count": 13,
     "metadata": {},
     "output_type": "execute_result"
    }
   ],
   "source": [
    "df[df.model == df[df.gearbox.isna()].iloc[0]['model']].groupby('gearbox')['price'].mean()"
   ]
  },
  {
   "cell_type": "code",
   "execution_count": 14,
   "metadata": {},
   "outputs": [
    {
     "data": {
      "text/plain": [
       "gearbox\n",
       "auto      6842.065007\n",
       "manual    3980.757507\n",
       "Name: price, dtype: float64"
      ]
     },
     "execution_count": 14,
     "metadata": {},
     "output_type": "execute_result"
    }
   ],
   "source": [
    "df.groupby('gearbox')['price'].mean()"
   ]
  },
  {
   "cell_type": "markdown",
   "metadata": {},
   "source": [
    "__NOTE__\n",
    "The block of code below, where I try to restore missing values takes a pretty long time to run. \\\n",
    "If you run this on your machine you could possibly comment it out, as it prooved not that effective in the end, as I will say in conclusion.\\\n",
    "Suggestions on its' optimization are welcome :)"
   ]
  },
  {
   "cell_type": "markdown",
   "metadata": {},
   "source": [
    "__Gearbox:__ \\\n",
    "Theoretically price should be dependant on type of gearbox. We could try and replace missing values with most common among k nearest neighbors. We would take a slice of original data frame that represents data on vehicles of same model, brand, engine(power) and fuel type. Among them we would search for k closest records based on registration year and price and take most common. \\\n",
    "With data set of this size it can be time consuming. We will create two separate data sets, one with missing values removed, and one where we first tried to restore part of those values with previously mentioned methond. Later we will compare performance of models with both data sets."
   ]
  },
  {
   "cell_type": "code",
   "execution_count": 15,
   "metadata": {},
   "outputs": [],
   "source": [
    "filled_data = df.copy()"
   ]
  },
  {
   "cell_type": "code",
   "execution_count": 16,
   "metadata": {},
   "outputs": [],
   "source": [
    "def restore_gearbox(row):\n",
    "    # if gearbox tyoe is not missing, continue to next row\n",
    "    if not pd.isna(row.gearbox):\n",
    "        return row.gearbox\n",
    "    else:\n",
    "        model = row.model\n",
    "        brand = row.brand\n",
    "        fueltype = row.fueltype\n",
    "        power = row.power\n",
    "        # data slice with same model, brand fuel type and power as of row in question\n",
    "        data = filled_data[(filled_data.power == power) & \n",
    "           (filled_data.brand == brand) &\n",
    "           (filled_data.model == model) &\n",
    "           (filled_data.fueltype == fueltype)\n",
    "          ]\n",
    "        # if no records with those restrictions were found, we are unable to restore missing value, return NaN\n",
    "        if data.empty:\n",
    "            return row.gearbox\n",
    "        else:\n",
    "            # Scale data\n",
    "            scaler = StandardScaler()\n",
    "            data[['registrationyear','price']] = scaler.fit_transform(data[['registrationyear','price']])\n",
    "            # Calculate distance and find k(5 in this case)\n",
    "            mtrx = data[['registrationyear','price']].to_numpy()\n",
    "            vector = data.loc[row.name][['registrationyear','price']].to_numpy()\n",
    "            nearest = (mtrx - vector).dot(np.array([1,1])).argsort()[1:NEIGHBORS]\n",
    "            common = data.iloc[nearest].gearbox.mode()\n",
    "            if common.empty:\n",
    "                return row.gearbox\n",
    "            else:\n",
    "                return common[0]"
   ]
  },
  {
   "cell_type": "code",
   "execution_count": 17,
   "metadata": {},
   "outputs": [],
   "source": [
    "# filled_data['gearbox'] = filled_data.apply(restore_gearbox, axis=1)"
   ]
  },
  {
   "cell_type": "markdown",
   "metadata": {},
   "source": [
    "__Model__ \\\n",
    "This time we could take a slice with same brand,fuel type, engine power and apply method similar to one we used to restore gearbox type."
   ]
  },
  {
   "cell_type": "code",
   "execution_count": 18,
   "metadata": {},
   "outputs": [],
   "source": [
    "def restore_model(row):\n",
    "    if not pd.isna(row.model):\n",
    "        return row.model\n",
    "    else:\n",
    "        brand = row.brand\n",
    "        fueltype = row.fueltype\n",
    "        power = row.power\n",
    "        data = filled_data[(filled_data.power == power) & \n",
    "           (filled_data.brand == brand) &\n",
    "           (filled_data.fueltype == fueltype)\n",
    "          ]\n",
    "        if data.empty:\n",
    "            return row.model\n",
    "        else:\n",
    "            scaler = StandardScaler()\n",
    "            data[['registrationyear','price']] = scaler.fit_transform(data[['registrationyear','price']])\n",
    "            mtrx = data[['registrationyear','price']].to_numpy()\n",
    "            vector = data.loc[row.name][['registrationyear','price']].to_numpy()\n",
    "            nearest = (mtrx - vector).dot(np.array([1,1])).argsort()[1:NEIGHBORS]\n",
    "            common = data.iloc[nearest].model.mode()\n",
    "            if common.empty:\n",
    "                return row.model\n",
    "            else:\n",
    "                return common[0]"
   ]
  },
  {
   "cell_type": "code",
   "execution_count": 19,
   "metadata": {},
   "outputs": [],
   "source": [
    "# filled_data['model'] = filled_data.apply(restore_model, axis=1)"
   ]
  },
  {
   "cell_type": "markdown",
   "metadata": {},
   "source": [
    "__Fuel type:__ \\\n",
    "Same old, same old. "
   ]
  },
  {
   "cell_type": "code",
   "execution_count": 20,
   "metadata": {},
   "outputs": [],
   "source": [
    "def restore_fueltype(row):\n",
    "    # if fuel type is not missing, continue to next row\n",
    "    if not pd.isna(row.fueltype):\n",
    "        return row.fueltype\n",
    "    else:\n",
    "        model = row.model\n",
    "        brand = row.brand\n",
    "        power = row.power\n",
    "        # data slice with same model, brand fuel type and power as of row in question\n",
    "        data = filled_data[(filled_data.power == power) & \n",
    "           (filled_data.brand == brand) &\n",
    "           (filled_data.model == model)\n",
    "          ]\n",
    "        # if no records with those restrictions were found, we are unable to restore missing value, return NaN\n",
    "        if data.empty:\n",
    "            return row.fueltype\n",
    "        else:\n",
    "            # Scale data\n",
    "            scaler = StandardScaler()\n",
    "            data[['registrationyear','price']] = scaler.fit_transform(data[['registrationyear','price']])\n",
    "            # Calculate distance and find k(5 in this case)\n",
    "            mtrx = data[['registrationyear','price']].to_numpy()\n",
    "            vector = data.loc[row.name][['registrationyear','price']].to_numpy()\n",
    "            nearest = (mtrx - vector).dot(np.array([1,1])).argsort()[1:NEIGHBORS]\n",
    "            common = data.iloc[nearest].fueltype.mode()\n",
    "            if common.empty:\n",
    "                return row.fueltype\n",
    "            else:\n",
    "                return common[0]"
   ]
  },
  {
   "cell_type": "code",
   "execution_count": 21,
   "metadata": {},
   "outputs": [],
   "source": [
    "# filled_data['fueltype'] = filled_data.apply(restore_fueltype, axis=1)"
   ]
  },
  {
   "cell_type": "markdown",
   "metadata": {},
   "source": [
    "__Not repaired__"
   ]
  },
  {
   "cell_type": "code",
   "execution_count": 22,
   "metadata": {},
   "outputs": [],
   "source": [
    "def restore_repaired(row):\n",
    "    # if repaired status is not missing, continue to next row\n",
    "    if not pd.isna(row.notrepaired):\n",
    "        return row.notrepaired\n",
    "    else:\n",
    "        model = row.model\n",
    "        brand = row.brand\n",
    "        power = row.power\n",
    "        gearbox = row.gearbox\n",
    "        fueltype = row.fueltype\n",
    "        # data slice with same model, brand fuel type and power as of row in question\n",
    "        data = filled_data[(filled_data.power == power) & \n",
    "                  (filled_data.brand == brand) & \n",
    "                  (filled_data.model == model) &\n",
    "                  (filled_data.gearbox == gearbox) &\n",
    "                  (filled_data.fueltype == fueltype)\n",
    "          ]\n",
    "        # if no records with those restrictions were found, we are unable to restore missing value, return NaN\n",
    "        if data.empty:\n",
    "            return row.notrepaired\n",
    "        else:\n",
    "            # Scale data\n",
    "            scaler = StandardScaler()\n",
    "            data[['registrationyear','price']] = scaler.fit_transform(data[['registrationyear','price']])\n",
    "            # Calculate distance and find k(5 in this case)\n",
    "            mtrx = data[['registrationyear','price']].to_numpy()\n",
    "            vector = data.loc[row.name][['registrationyear','price']].to_numpy()\n",
    "            nearest = (mtrx - vector).dot(np.array([1,1])).argsort()[1:NEIGHBORS]\n",
    "            common = data.iloc[nearest].notrepaired.mode()\n",
    "            if common.empty:\n",
    "                return row.notrepaired\n",
    "            else:\n",
    "                return common[0]"
   ]
  },
  {
   "cell_type": "code",
   "execution_count": 23,
   "metadata": {
    "scrolled": true
   },
   "outputs": [],
   "source": [
    "# %%time\n",
    "\n",
    "# filled_data['notrepaired'] = filled_data.apply(restore_repaired, axis=1)"
   ]
  },
  {
   "cell_type": "code",
   "execution_count": 24,
   "metadata": {},
   "outputs": [],
   "source": [
    "def restore_type(row):\n",
    "    # if repaired status is not missing, continue to next row\n",
    "    if not pd.isna(row.fueltype):\n",
    "        return row.vehicletype\n",
    "    else:\n",
    "        model = row.model\n",
    "        brand = row.brand\n",
    "        power = row.power\n",
    "        gearbox = row.gearbox\n",
    "        fueltype = row.fueltype\n",
    "        # data slice with same model, brand fuel type and power as of row in question\n",
    "        data = df[(df.power == power) & \n",
    "                  (df.brand == brand) & \n",
    "                  (df.model == model) &\n",
    "                  (df.gearbox == gearbox) &\n",
    "                  (df.fueltype == fueltype)\n",
    "          ]\n",
    "        # if no records with those restrictions were found, we are unable to restore missing value, return NaN\n",
    "        if data.empty:\n",
    "            return row.vehicletype\n",
    "        else:\n",
    "            # Scale data\n",
    "            scaler = StandardScaler()\n",
    "            data[['registrationyear','price']] = scaler.fit_transform(data[['registrationyear','price']])\n",
    "            # Calculate distance and find k(5 in this case)\n",
    "            mtrx = data[['registrationyear','price']].to_numpy()\n",
    "            vector = data.loc[row.name][['registrationyear','price']].to_numpy()\n",
    "            nearest = (mtrx - vector).dot(np.array([1,1])).argsort()[1:NEIGHBORS]\n",
    "            common = data.iloc[nearest].vehicletype.mode()\n",
    "            if common.empty:\n",
    "                return row.vehicletype\n",
    "            else:\n",
    "                return common[0]"
   ]
  },
  {
   "cell_type": "code",
   "execution_count": 25,
   "metadata": {},
   "outputs": [],
   "source": [
    "# %%time\n",
    "\n",
    "# filled_data['restored_vehicles_type'] = filled_data.apply(restore_type, axis=1)"
   ]
  },
  {
   "cell_type": "code",
   "execution_count": 26,
   "metadata": {},
   "outputs": [],
   "source": [
    "data = df.copy()\n",
    "data.dropna(inplace=True)\n",
    "data.notrepaired = data.notrepaired == 'yes'"
   ]
  },
  {
   "cell_type": "code",
   "execution_count": 28,
   "metadata": {},
   "outputs": [],
   "source": [
    "filled_data.dropna(inplace=True)"
   ]
  },
  {
   "cell_type": "code",
   "execution_count": 29,
   "metadata": {},
   "outputs": [
    {
     "name": "stdout",
     "output_type": "stream",
     "text": [
      "Field not found\n"
     ]
    }
   ],
   "source": [
    "try:\n",
    "    filled_data.drop('restored_vehicles_type', axis=1, inplace=True)\n",
    "except:\n",
    "    print('Field not found')"
   ]
  },
  {
   "cell_type": "code",
   "execution_count": 30,
   "metadata": {
    "scrolled": true
   },
   "outputs": [
    {
     "data": {
      "text/plain": [
       "datecrawled          0\n",
       "price                0\n",
       "vehicletype          0\n",
       "registrationyear     0\n",
       "gearbox              0\n",
       "power                0\n",
       "model                0\n",
       "mileage              0\n",
       "registrationmonth    0\n",
       "fueltype             0\n",
       "brand                0\n",
       "notrepaired          0\n",
       "datecreated          0\n",
       "numberofpictures     0\n",
       "postalcode           0\n",
       "lastseen             0\n",
       "dtype: int64"
      ]
     },
     "execution_count": 30,
     "metadata": {},
     "output_type": "execute_result"
    }
   ],
   "source": [
    "data.isna().sum()"
   ]
  },
  {
   "cell_type": "code",
   "execution_count": 31,
   "metadata": {},
   "outputs": [],
   "source": [
    "# filled_data.isna().sum()"
   ]
  },
  {
   "cell_type": "code",
   "execution_count": 32,
   "metadata": {},
   "outputs": [
    {
     "name": "stdout",
     "output_type": "stream",
     "text": [
      "Ommiting missing values we end up with 69.37% of initial data set\n"
     ]
    }
   ],
   "source": [
    "print(f'Ommiting missing values we end up with {data.shape[0]/df.shape[0]:.2%} of initial data set')\n",
    "# print(f'Restoring part of the values beforehand leaves us with {filled_data.shape[0]/df.shape[0]:.2%} of initial data set')"
   ]
  },
  {
   "cell_type": "markdown",
   "metadata": {},
   "source": [
    "__Summary__\\\n",
    "Difference is significant, however we will need to see, how those assumtions affect performance of our models"
   ]
  },
  {
   "cell_type": "markdown",
   "metadata": {},
   "source": [
    "__Duplicate Values__"
   ]
  },
  {
   "cell_type": "code",
   "execution_count": 33,
   "metadata": {},
   "outputs": [
    {
     "name": "stdout",
     "output_type": "stream",
     "text": [
      "Found 247 duplicated entries in data set\n"
     ]
    }
   ],
   "source": [
    "print(f\"Found {data.duplicated().sum()} duplicated entries in data set\")\n",
    "# print(f\"Found {filled_data.duplicated().sum()} duplicated entries in data set with restored values\")"
   ]
  },
  {
   "cell_type": "code",
   "execution_count": 34,
   "metadata": {},
   "outputs": [],
   "source": [
    "data.drop_duplicates(inplace=True)\n",
    "filled_data.drop_duplicates(inplace=True)"
   ]
  },
  {
   "cell_type": "code",
   "execution_count": 35,
   "metadata": {},
   "outputs": [],
   "source": [
    "data.drop(['datecrawled', 'datecreated', 'lastseen'], axis = 1, inplace=True)"
   ]
  },
  {
   "cell_type": "markdown",
   "metadata": {},
   "source": [
    "__Let's look at distribution of numerical values in our data sets__"
   ]
  },
  {
   "cell_type": "markdown",
   "metadata": {},
   "source": [
    "Postal code field is probably should be considered as part of an id \\\n",
    "And registration month should probably not used for vehicles' price evaluation, but as a tool for analyzing data throughout the year(cohorts and stuff)"
   ]
  },
  {
   "cell_type": "code",
   "execution_count": 36,
   "metadata": {},
   "outputs": [],
   "source": [
    "datetime_columns = data.select_dtypes(include=['datetime']).columns.to_list()\n",
    "categorical_columns = data.select_dtypes(include=['object', 'bool']).columns.to_list()\n",
    "numeric_columns = data.select_dtypes(include=['int']).columns.to_list()\n",
    "# price does not depend on postal code and probably not on registration month\n",
    "numeric_columns.remove('postalcode')\n",
    "numeric_columns.remove('registrationmonth')"
   ]
  },
  {
   "cell_type": "code",
   "execution_count": 37,
   "metadata": {},
   "outputs": [
    {
     "data": {
      "image/png": "[encoded data removed]",
      "text/plain": [
       "<Figure size 936x1440 with 5 Axes>"
      ]
     },
     "metadata": {
      "needs_background": "light"
     },
     "output_type": "display_data"
    }
   ],
   "source": [
    "fig, axes = plt.subplots(nrows=len(numeric_columns), ncols=1, figsize=(13,20))\n",
    "for index, column in enumerate(numeric_columns):\n",
    "    sns.distplot(data[column],ax=axes[index], bins = min(50, data[column].max() - data[column].min() + 1))\n",
    "#     sns.histplot(filled_data[column],ax=axes[index,1], bins = min(50, filled_data[column].max() - filled_data[column].min() + 1))\n",
    "    axes[index].set_title(f'{column} distribution')\n",
    "#     axes[index,1].set_title(f'{column} distribution with filled data set')\n",
    "plt.tight_layout()   "
   ]
  },
  {
   "cell_type": "markdown",
   "metadata": {},
   "source": [
    "__We have couple of problems here__\n",
    "- outliers in engine power\n",
    "- outliers registration year\n",
    "- number of pictures features is practically useless"
   ]
  },
  {
   "cell_type": "code",
   "execution_count": 38,
   "metadata": {},
   "outputs": [],
   "source": [
    "numeric_columns.remove('numberofpictures')"
   ]
  },
  {
   "cell_type": "code",
   "execution_count": 39,
   "metadata": {},
   "outputs": [],
   "source": [
    "# np.percentile(df.power, 99)\n",
    "# np.percentile(df.registrationyear, 1)\n",
    "\n",
    "data = data[\n",
    "    (data.power < np.percentile(data.power, 99)) &\n",
    "    (data.registrationyear > np.percentile(data.registrationyear, 1))]\n",
    "filled_data = filled_data[\n",
    "    (filled_data.power < np.percentile(filled_data.power, 99)) &\n",
    "    (filled_data.registrationyear > np.percentile(filled_data.registrationyear, 1))]\n"
   ]
  },
  {
   "cell_type": "code",
   "execution_count": 40,
   "metadata": {},
   "outputs": [
    {
     "data": {
      "image/png": "[encoded data removed]",
      "text/plain": [
       "<Figure size 936x1440 with 4 Axes>"
      ]
     },
     "metadata": {
      "needs_background": "light"
     },
     "output_type": "display_data"
    }
   ],
   "source": [
    "fig, axes = plt.subplots(nrows=len(numeric_columns), ncols=1, figsize=(13,20))\n",
    "for index, column in enumerate(numeric_columns):\n",
    "    sns.distplot(data[column],ax=axes[index], bins = min(50, data[column].max() - data[column].min() + 1))\n",
    "#     sns.histplot(filled_data[column],ax=axes[index,1], bins = min(50, filled_data[column].max() - filled_data[column].min() + 1))\n",
    "    axes[index].set_title(f'{column} distribution')\n",
    "#     axes[index,1].set_title(f'{column} distribution with filled data set')\n",
    "plt.tight_layout()   "
   ]
  },
  {
   "cell_type": "markdown",
   "metadata": {},
   "source": [
    "This looks much better, however, vehicles with 0 power are useless, lets ommit them :)"
   ]
  },
  {
   "cell_type": "code",
   "execution_count": 41,
   "metadata": {
    "scrolled": false
   },
   "outputs": [],
   "source": [
    "data = data[data.power > np.percentile(data.power, 1)]\n",
    "filled_data = filled_data[filled_data.power > np.percentile(filled_data.power, 1)]"
   ]
  },
  {
   "cell_type": "code",
   "execution_count": 42,
   "metadata": {},
   "outputs": [
    {
     "name": "stdout",
     "output_type": "stream",
     "text": [
      "                              |     percentage of initial data set     |\n",
      "Filtered data set             |                 65.23%                 |\n"
     ]
    }
   ],
   "source": [
    "print(f\"{'':<30}|{'percentage of initial data set':^40}|\")\n",
    "print(f\"{'Filtered data set':<30}|{data.shape[0]/df.shape[0]:^40.2%}|\")\n",
    "# print(f\"{'Data set with restored values':<30}|{filled_data.shape[0]/df.shape[0]:^40.2%}|\")"
   ]
  },
  {
   "cell_type": "markdown",
   "metadata": {},
   "source": [
    "We've lost big chunk of data. Let's train some models and see, whether it was worth trying to restore the data"
   ]
  },
  {
   "cell_type": "code",
   "execution_count": 43,
   "metadata": {},
   "outputs": [],
   "source": [
    "data.reset_index(inplace=True, drop=True)\n",
    "filled_data.reset_index(inplace=True, drop=True)"
   ]
  },
  {
   "cell_type": "code",
   "execution_count": 44,
   "metadata": {},
   "outputs": [],
   "source": [
    "target_col = ['price']\n",
    "cat_features = categorical_columns\n",
    "num_features = numeric_columns\n",
    "num_features.remove('price')"
   ]
  },
  {
   "cell_type": "markdown",
   "metadata": {},
   "source": [
    "Drop columns that are not in features or target"
   ]
  },
  {
   "cell_type": "code",
   "execution_count": 45,
   "metadata": {},
   "outputs": [],
   "source": [
    "data.drop([x for x in data.columns if x not in num_features + cat_features + target_col], axis=1, inplace=True)"
   ]
  },
  {
   "cell_type": "markdown",
   "metadata": {},
   "source": [
    "## Model training"
   ]
  },
  {
   "cell_type": "markdown",
   "metadata": {},
   "source": [
    "__Base: Linear Regression__"
   ]
  },
  {
   "cell_type": "markdown",
   "metadata": {},
   "source": [
    "Encode our categorical features, split into train and test sets and scale numerical features"
   ]
  },
  {
   "cell_type": "code",
   "execution_count": 46,
   "metadata": {},
   "outputs": [],
   "source": [
    "results = dict()"
   ]
  },
  {
   "cell_type": "code",
   "execution_count": 47,
   "metadata": {},
   "outputs": [],
   "source": [
    "def encode_scale_set(data):\n",
    "    \"\"\"Takes data set, encodes categorical values with OrdinalEncoder,\n",
    "    splits data into train and test sets,\n",
    "    scales numerical features with Standart Scaler\n",
    "    and returns resulting data slices\"\"\"\n",
    "    \n",
    "    target = data[target_col]\n",
    "    features = data[cat_features+num_features]\n",
    "    encoder = OrdinalEncoder()\n",
    "    features[cat_features] = encoder.fit_transform(features[cat_features])\n",
    "\n",
    "    X_train, X_test, y_train, y_test = train_test_split(features, target, test_size=0.25, random_state=RANDOM_STATE)\n",
    "\n",
    "    scaler = StandardScaler()\n",
    "    scaler.fit(X_train[num_features])\n",
    "    X_train[num_features] = scaler.transform(X_train[num_features])\n",
    "    X_test[num_features] = scaler.transform(X_test[num_features])\n",
    "    return X_train, X_test, y_train, y_test"
   ]
  },
  {
   "cell_type": "code",
   "execution_count": 48,
   "metadata": {},
   "outputs": [],
   "source": [
    "results['Linear Regression'] = dict([('Filtered Data',dict()), ('Filled Data', dict())])"
   ]
  },
  {
   "cell_type": "code",
   "execution_count": 49,
   "metadata": {
    "scrolled": true
   },
   "outputs": [
    {
     "name": "stdout",
     "output_type": "stream",
     "text": [
      "RMSE: 2659.97\n",
      "Train time: 0.05 sec\n",
      "Prediction time: 0.00 sec\n"
     ]
    }
   ],
   "source": [
    "X_train, X_test, y_train, y_test = encode_scale_set(data)\n",
    "\n",
    "start_train = timeit.default_timer()\n",
    "lr = LinearRegression()\n",
    "lr.fit(X_train, y_train)\n",
    "end_train = timeit.default_timer()\n",
    "\n",
    "start_prediction = timeit.default_timer()\n",
    "predictions = lr.predict(X_test)\n",
    "end_prediction = timeit.default_timer()\n",
    "\n",
    "rmse = math.sqrt(mean_squared_error(y_test, predictions))\n",
    "\n",
    "print(f\"RMSE: {rmse:.2f}\")\n",
    "results['Linear Regression']['Filtered Data']['RMSE'] = f\"{rmse:.2f}\"\n",
    "print(f\"Train time: {end_train - start_train:.2f} sec\")\n",
    "results['Linear Regression']['Filtered Data']['Train Time'] = f\"{end_train - start_train:.2f} sec\"\n",
    "print(f\"Prediction time: {end_prediction - start_prediction:.2f} sec\")\n",
    "results['Linear Regression']['Filtered Data']['Prediction Time'] = f\"{end_prediction - start_prediction:.2f} sec\""
   ]
  },
  {
   "cell_type": "code",
   "execution_count": 50,
   "metadata": {},
   "outputs": [],
   "source": [
    "# X_train, X_test, y_train, y_test = encode_scale_set(filled_data)\n",
    "\n",
    "# start_train = timeit.default_timer()\n",
    "# lr = LinearRegression()\n",
    "# lr.fit(X_train, y_train)\n",
    "# end_train = timeit.default_timer()\n",
    "\n",
    "# start_prediction = timeit.default_timer()\n",
    "# predictions = lr.predict(X_test)\n",
    "# end_prediction = timeit.default_timer()\n",
    "\n",
    "# rmse = math.sqrt(mean_squared_error(y_test, predictions))\n",
    "\n",
    "# print(f\"RMSE: {rmse:.2f}\")\n",
    "# results['Linear Regression']['Filled Data']['RMSE'] = f\"{rmse:.2f}\"\n",
    "# print(f\"Train time: {end_train - start_train:.2f} sec\")\n",
    "# results['Linear Regression']['Filled Data']['Train Time'] = f\"{end_train - start_train:.2f} sec\"\n",
    "# print(f\"Prediction time: {end_prediction - start_prediction:.2f} sec\")\n",
    "# results['Linear Regression']['Filled Data']['Prediction Time'] = f\"{end_prediction - start_prediction:.2f} sec\""
   ]
  },
  {
   "cell_type": "markdown",
   "metadata": {},
   "source": [
    "This will be our dummie model"
   ]
  },
  {
   "cell_type": "markdown",
   "metadata": {},
   "source": [
    "__Decision Tree__"
   ]
  },
  {
   "cell_type": "code",
   "execution_count": 51,
   "metadata": {},
   "outputs": [],
   "source": [
    "results['Decision Tree'] = dict([('Filtered Data',dict()), ('Filled Data', dict())])"
   ]
  },
  {
   "cell_type": "code",
   "execution_count": 52,
   "metadata": {},
   "outputs": [],
   "source": [
    "def ohe_scale_set(data):\n",
    "    \"\"\"Takes data set, encodes categorical values with OHE,\n",
    "    splits data into train and test sets,\n",
    "    scales numerical features with Standart Scaler\n",
    "    and returns resulting data slices\"\"\"\n",
    "\n",
    "    target = data[target_col]\n",
    "    ohe_features = pd.get_dummies(data[cat_features], drop_first=True)\n",
    "    features = pd.concat([data[num_features], ohe_features], axis=1)\n",
    "    \n",
    "    X_train, X_test, y_train, y_test = train_test_split(features, target, test_size=0.25, random_state=RANDOM_STATE)\n",
    "    \n",
    "    scaler = StandardScaler()\n",
    "    scaler.fit(X_train[num_features])\n",
    "    X_train[num_features] = scaler.transform(X_train[num_features])\n",
    "    X_test[num_features] = scaler.transform(X_test[num_features])\n",
    "    return X_train, X_test, y_train, y_test"
   ]
  },
  {
   "cell_type": "code",
   "execution_count": 53,
   "metadata": {
    "scrolled": false
   },
   "outputs": [
    {
     "name": "stdout",
     "output_type": "stream",
     "text": [
      "{'max_depth': 12, 'min_samples_split': 18} 5101050.612855374\n",
      "RMSE: 1799.10\n",
      "Train time: 48.97 sec\n",
      "Prediction time: 1.14 sec\n"
     ]
    }
   ],
   "source": [
    "X_train, X_test, y_train, y_test = ohe_scale_set(data.sample(10000, random_state=RANDOM_STATE))\n",
    "\n",
    "parameters = {'max_depth': range(3, 20, 3), 'min_samples_split' : range(2, 20, 2)}\n",
    "model = GridSearchCV(DecisionTreeRegressor(random_state=RANDOM_STATE), parameters, cv=5, scoring = 'neg_mean_squared_error')\n",
    "\n",
    "start_train = timeit.default_timer()\n",
    "model.fit(X_train, y_train)\n",
    "end_train = timeit.default_timer()\n",
    "\n",
    "print(model.best_params_, abs(model.best_score_))\n",
    "\n",
    "X_train, X_test, y_train, y_test = ohe_scale_set(data)\n",
    "\n",
    "# dtr = DecisionTreeRegressor(random_state=RANDOM_STATE, max_depth=model.best_params_['max_depth'], min_samples_split=model.best_params_['min_samples_split'])\n",
    "dtr = DecisionTreeRegressor(random_state=RANDOM_STATE)\n",
    "dtr.fit(X_train, y_train)\n",
    "start_prediction = timeit.default_timer()\n",
    "predictions = dtr.predict(X_test)\n",
    "end_prediction = timeit.default_timer()\n",
    "\n",
    "rmse = math.sqrt(mean_squared_error(y_test, predictions))\n",
    "\n",
    "print(f\"RMSE: {rmse:.2f}\")\n",
    "results['Decision Tree']['Filtered Data']['RMSE'] = f\"{rmse:.2f}\"\n",
    "print(f\"Train time: {end_train - start_train:.2f} sec\")\n",
    "results['Decision Tree']['Filtered Data']['Train Time'] = f\"{end_train - start_train:.2f} sec\"\n",
    "print(f\"Prediction time: {end_prediction - start_prediction:.2f} sec\")\n",
    "results['Decision Tree']['Filtered Data']['Prediction Time'] = f\"{end_prediction - start_prediction:.2f} sec\""
   ]
  },
  {
   "cell_type": "code",
   "execution_count": 54,
   "metadata": {
    "scrolled": true
   },
   "outputs": [],
   "source": [
    "# %%time\n",
    "\n",
    "# X_train, X_test, y_train, y_test = ohe_scale_set(filled_data)\n",
    "\n",
    "# parameters = {'max_depth': range(3, 20, 3), 'min_samples_split' : range(1, 20, 2)}\n",
    "# dtr = GridSearchCV(DecisionTreeRegressor(random_state=RANDOM_STATE), parameters, cv=5, scoring = 'neg_root_mean_squared_error')\n",
    "\n",
    "# start_train = timeit.default_timer()\n",
    "# dtr.fit(X_train, y_train)\n",
    "# end_train = timeit.default_timer()\n",
    "\n",
    "# print(dtr.best_params_, abs(dtr.best_score_))\n",
    "\n",
    "# start_prediction = timeit.default_timer()\n",
    "# predictions = dtr.predict(X_test)\n",
    "# end_prediction = timeit.default_timer()\n",
    "\n",
    "# rmse = mean_squared_error(y_test, predictions, squared=False)\n",
    "\n",
    "# print(f\"RMSE: {rmse:.2f}\")\n",
    "# results['Decision Tree']['Filled Data']['RMSE'] = f\"{rmse:.2f}\"\n",
    "# print(f\"Train time: {end_train - start_train:.2f} sec\")\n",
    "# results['Decision Tree']['Filled Data']['Train Time'] = f\"{end_train - start_train:.2f} sec\"\n",
    "# print(f\"Prediction time: {end_prediction - start_prediction:.2f} sec\")\n",
    "# results['Decision Tree']['Filled Data']['Prediction Time'] = f\"{end_prediction - start_prediction:.2f} sec\""
   ]
  },
  {
   "cell_type": "markdown",
   "metadata": {},
   "source": [
    "__Random Forest__"
   ]
  },
  {
   "cell_type": "code",
   "execution_count": 55,
   "metadata": {},
   "outputs": [],
   "source": [
    "results['Random Forest'] = dict([('Filtered Data',dict()), ('Filled Data', dict())])"
   ]
  },
  {
   "cell_type": "code",
   "execution_count": 56,
   "metadata": {
    "scrolled": true
   },
   "outputs": [
    {
     "name": "stdout",
     "output_type": "stream",
     "text": [
      "{'max_depth': 18, 'n_estimators': 25} 3780656.990731113\n",
      "RMSE: 1600.13\n",
      "Train time: 88.72 sec\n",
      "Prediction time: 1.57 sec\n"
     ]
    }
   ],
   "source": [
    "X_train, X_test, y_train, y_test = ohe_scale_set(data.sample(10000, random_state=RANDOM_STATE))\n",
    "\n",
    "parameters = {'n_estimators' : range(20,30,5),'max_depth' : range(15, 21, 1)}\n",
    "\n",
    "model = GridSearchCV(RandomForestRegressor(random_state=RANDOM_STATE), parameters, cv=5, scoring = 'neg_mean_squared_error')\n",
    "\n",
    "start_train = timeit.default_timer()\n",
    "model.fit(X_train, y_train)\n",
    "end_train = timeit.default_timer()\n",
    "\n",
    "print(model.best_params_, abs(model.best_score_))\n",
    "\n",
    "X_train, X_test, y_train, y_test = ohe_scale_set(data)\n",
    "\n",
    "rfr = RandomForestRegressor(random_state=RANDOM_STATE, max_depth=model.best_params_['max_depth'], n_estimators=model.best_params_['n_estimators'])\n",
    "rfr.fit(X_train, y_train)\n",
    "\n",
    "start_prediction = timeit.default_timer()\n",
    "predictions = rfr.predict(X_test)\n",
    "end_prediction = timeit.default_timer()\n",
    "\n",
    "rmse = math.sqrt(mean_squared_error(y_test, predictions))\n",
    "\n",
    "print(f\"RMSE: {rmse:.2f}\")\n",
    "results['Random Forest']['Filtered Data']['RMSE'] = f\"{rmse:.2f}\"\n",
    "print(f\"Train time: {end_train - start_train:.2f} sec\")\n",
    "results['Random Forest']['Filtered Data']['Train Time'] = f\"{end_train - start_train:.2f} sec\"\n",
    "print(f\"Prediction time: {end_prediction - start_prediction:.2f} sec\")\n",
    "results['Random Forest']['Filtered Data']['Prediction Time'] = f\"{end_prediction - start_prediction:.2f} sec\""
   ]
  },
  {
   "cell_type": "code",
   "execution_count": 57,
   "metadata": {
    "scrolled": false
   },
   "outputs": [],
   "source": [
    "# %%time\n",
    "\n",
    "# X_train, X_test, y_train, y_test = ohe_scale_set(filled_data)\n",
    "\n",
    "# parameters = {'n_estimators' : range(10,21,5),'max_depth' : range(10, 21, 1)}\n",
    "\n",
    "# rfr = GridSearchCV(RandomForestRegressor(random_state=RANDOM_STATE), parameters, cv=4, scoring = 'neg_root_mean_squared_error')\n",
    "\n",
    "# start_train = timeit.default_timer()\n",
    "# rfr.fit(X_train, y_train)\n",
    "# end_train = timeit.default_timer()\n",
    "\n",
    "# print(rfr.best_params_, abs(rfr.best_score_))\n",
    "\n",
    "# start_prediction = timeit.default_timer()\n",
    "# predictions = rfr.predict(X_test)\n",
    "# end_prediction = timeit.default_timer()\n",
    "\n",
    "# rmse = mean_squared_error(y_test, predictions, squared=False)\n",
    "\n",
    "# print(f\"RMSE: {rmse:.2f}\")\n",
    "# results['Random Forest']['Filled Data']['RMSE'] = f\"{rmse:.2f}\"\n",
    "# print(f\"Train time: {end_train - start_train:.2f} sec\")\n",
    "# results['Random Forest']['Filled Data']['Train Time'] = f\"{end_train - start_train:.2f} sec\"\n",
    "# print(f\"Prediction time: {end_prediction - start_prediction:.2f} sec\")\n",
    "# results['Random Forest']['Filled Data']['Prediction Time'] = f\"{end_prediction - start_prediction:.2f} sec\""
   ]
  },
  {
   "cell_type": "markdown",
   "metadata": {},
   "source": [
    "__Cat Boost__"
   ]
  },
  {
   "cell_type": "code",
   "execution_count": 58,
   "metadata": {},
   "outputs": [],
   "source": [
    "results['CatBoostRegressor'] = dict([('Filtered Data',dict()), ('Filled Data', dict())])"
   ]
  },
  {
   "cell_type": "markdown",
   "metadata": {},
   "source": [
    "This one took around 10 min"
   ]
  },
  {
   "cell_type": "code",
   "execution_count": 59,
   "metadata": {
    "scrolled": false
   },
   "outputs": [
    {
     "name": "stdout",
     "output_type": "stream",
     "text": [
      "RMSE: 1604.70\n",
      "Train time: 506.76 sec\n",
      "Prediction time: 0.05 sec\n"
     ]
    }
   ],
   "source": [
    "X_train, X_test, y_train, y_test = encode_scale_set(data.sample(10000, random_state=RANDOM_STATE))\n",
    "\n",
    "# catr = CatBoostRegressor(n_estimators=1000, learning_rate=0.15,loss_function=\"RMSE\", random_state=RANDOM_STATE)\n",
    "\n",
    "parameters = {'learning_rate' : np.arange(0.05, 0.2, 0.05)}\n",
    "model = GridSearchCV(CatBoostRegressor(random_state=RANDOM_STATE), parameters, cv=5, scoring = 'neg_mean_squared_error')\n",
    "\n",
    "start_train = timeit.default_timer()\n",
    "model.fit(X_train, y_train, verbose=0)\n",
    "end_train = timeit.default_timer()\n",
    "\n",
    "X_train, X_test, y_train, y_test = encode_scale_set(data)\n",
    "\n",
    "catr = CatBoostRegressor(random_state=RANDOM_STATE, learning_rate = model.best_params_['learning_rate'])\n",
    "catr.fit(X_train, y_train, verbose=0)\n",
    "start_prediction = timeit.default_timer()\n",
    "predictions = catr.predict(X_test)\n",
    "end_prediction = timeit.default_timer()\n",
    "\n",
    "rmse = math.sqrt(mean_squared_error(y_test, predictions))\n",
    "\n",
    "print(f\"RMSE: {rmse:.2f}\")\n",
    "results['CatBoostRegressor']['Filtered Data']['RMSE'] = f\"{rmse:.2f}\"\n",
    "print(f\"Train time: {end_train - start_train:.2f} sec\")\n",
    "results['CatBoostRegressor']['Filtered Data']['Train Time'] = f\"{end_train - start_train:.2f} sec\"\n",
    "print(f\"Prediction time: {end_prediction - start_prediction:.2f} sec\")\n",
    "results['CatBoostRegressor']['Filtered Data']['Prediction Time'] = f\"{end_prediction - start_prediction:.2f} sec\""
   ]
  },
  {
   "cell_type": "code",
   "execution_count": 60,
   "metadata": {},
   "outputs": [],
   "source": [
    "# %%time\n",
    "# X_train, X_test, y_train, y_test = encode_scale_set(filled_data)\n",
    "\n",
    "# catr = CatBoostRegressor(loss_function=\"RMSE\", random_state=RANDOM_STATE)\n",
    "\n",
    "# start_train = timeit.default_timer()\n",
    "# catr.fit(X_train, y_train, verbose=100)\n",
    "# end_train = timeit.default_timer()\n",
    "\n",
    "# start_prediction = timeit.default_timer()\n",
    "# predictions = catr.predict(X_test)\n",
    "# end_prediction = timeit.default_timer()\n",
    "\n",
    "# rmse = mean_squared_error(y_test, predictions, squared=False)\n",
    "\n",
    "# print(f\"RMSE: {rmse:.2f}\")\n",
    "# results['CatBoostRegressor']['Filled Data']['RMSE'] = f\"{rmse:.2f}\"\n",
    "# print(f\"Train time: {end_train - start_train:.2f} sec\")\n",
    "# results['CatBoostRegressor']['Filled Data']['Train Time'] = f\"{end_train - start_train:.2f} sec\"\n",
    "# print(f\"Prediction time: {end_prediction - start_prediction:.2f} sec\")\n",
    "# results['CatBoostRegressor']['Filled Data']['Prediction Time'] = f\"{end_prediction - start_prediction:.2f} sec\""
   ]
  },
  {
   "cell_type": "markdown",
   "metadata": {},
   "source": [
    "__LightGBM__"
   ]
  },
  {
   "cell_type": "code",
   "execution_count": 61,
   "metadata": {},
   "outputs": [],
   "source": [
    "results['LGBMRegressor'] = dict([('Filtered Data',dict()), ('Filled Data', dict())])"
   ]
  },
  {
   "cell_type": "code",
   "execution_count": 62,
   "metadata": {
    "scrolled": true
   },
   "outputs": [
    {
     "name": "stdout",
     "output_type": "stream",
     "text": [
      "1812.736096111342 {'learning_rate': 0.05, 'n_estimators': 200}\n",
      "RMSE: 1656.23\n",
      "Train time: 94.84 sec\n",
      "Prediction time: 1.50 sec\n"
     ]
    }
   ],
   "source": [
    "X_train, X_test, y_train, y_test = encode_scale_set(data.sample(10000, random_state=RANDOM_STATE))\n",
    "\n",
    "parameters = {'n_estimators': range(100, 300, 100), 'learning_rate':np.arange(0.05,0.31,0.05)}\n",
    "model = GridSearchCV(LGBMRegressor(random_state=RANDOM_STATE), parameters, cv=3, scoring = 'neg_mean_squared_error')\n",
    "# lgbr = LGBMRegressor(n_estimators=500, learning_rate = 0.3, random_state=RANDOM_STATE)\n",
    "\n",
    "start_train = timeit.default_timer()\n",
    "model.fit(X_train, y_train, feature_name=cat_features+num_features, categorical_feature=cat_features, eval_metric='rmse')\n",
    "end_train = timeit.default_timer()\n",
    "\n",
    "print(math.sqrt(abs(model.best_score_)), model.best_params_)\n",
    "\n",
    "X_train, X_test, y_train, y_test = encode_scale_set(data)\n",
    "\n",
    "lgbr = LGBMRegressor(n_estimators=model.best_params_['n_estimators'], learning_rate = model.best_params_['learning_rate'], random_state=RANDOM_STATE)\n",
    "lgbr.fit(X_train, y_train)\n",
    "start_prediction = timeit.default_timer()\n",
    "predictions = lgbr.predict(X_test)\n",
    "end_prediction = timeit.default_timer()\n",
    "\n",
    "rmse = math.sqrt(mean_squared_error(y_test, predictions))\n",
    "\n",
    "print(f\"RMSE: {rmse:.2f}\")\n",
    "results['LGBMRegressor']['Filtered Data']['RMSE'] = f\"{rmse:.2f}\"\n",
    "print(f\"Train time: {end_train - start_train:.2f} sec\")\n",
    "results['LGBMRegressor']['Filtered Data']['Train Time'] = f\"{end_train - start_train:.2f} sec\"\n",
    "print(f\"Prediction time: {end_prediction - start_prediction:.2f} sec\")\n",
    "results['LGBMRegressor']['Filtered Data']['Prediction Time'] = f\"{end_prediction - start_prediction:.2f} sec\""
   ]
  },
  {
   "cell_type": "code",
   "execution_count": 63,
   "metadata": {},
   "outputs": [],
   "source": [
    "# %%time\n",
    "\n",
    "# X_train, X_test, y_train, y_test = encode_scale_set(filled_data)\n",
    "\n",
    "# parameters = {'n_estimators': range(100, 1000, 100), 'learning_rate':np.arange(0.05,1,0.05)}\n",
    "# lgbr = GridSearchCV(LGBMRegressor(random_state=RANDOM_STATE), parameters, cv=5, scoring = 'neg_root_mean_squared_error')\n",
    "\n",
    "# start_train = timeit.default_timer()\n",
    "# lgbr.fit(X_train, y_train, feature_name=cat_features+num_features, categorical_feature=cat_features, eval_metric='rmse')\n",
    "# end_train = timeit.default_timer()\n",
    "\n",
    "# print(abs(lgbr.best_score_), lgbr.best_params_)\n",
    "\n",
    "# start_prediction = timeit.default_timer()\n",
    "# predictions = lgbr.predict(X_test)\n",
    "# end_prediction = timeit.default_timer()\n",
    "\n",
    "# rmse = mean_squared_error(y_test, predictions, squared=False)\n",
    "\n",
    "# print(f\"RMSE: {rmse:.2f}\")\n",
    "# results['LGBMRegressor']['Filled Data']['RMSE'] = f\"{rmse:.2f}\"\n",
    "# print(f\"Train time: {end_train - start_train:.2f} sec\")\n",
    "# results['LGBMRegressor']['Filled Data']['Train Time'] = f\"{end_train - start_train:.2f} sec\"\n",
    "# print(f\"Prediction time: {end_prediction - start_prediction:.2f} sec\")\n",
    "# results['LGBMRegressor']['Filled Data']['Prediction Time'] = f\"{end_prediction - start_prediction:.2f} sec\""
   ]
  },
  {
   "cell_type": "markdown",
   "metadata": {},
   "source": [
    "__XGBoost__"
   ]
  },
  {
   "cell_type": "code",
   "execution_count": 64,
   "metadata": {},
   "outputs": [],
   "source": [
    "results['XGBRegressor'] = dict([('Filtered Data',dict()), ('Filled Data', dict())])"
   ]
  },
  {
   "cell_type": "code",
   "execution_count": 65,
   "metadata": {
    "scrolled": true
   },
   "outputs": [
    {
     "name": "stdout",
     "output_type": "stream",
     "text": [
      "[08:27:28] WARNING: /workspace/src/objective/regression_obj.cu:152: reg:linear is now deprecated in favor of reg:squarederror.\n",
      "RMSE: 1843.39\n",
      "Train time: 159.34 sec\n",
      "Prediction time: 1.76 sec\n",
      "CPU times: user 2min 38s, sys: 1.68 s, total: 2min 39s\n",
      "Wall time: 2min 42s\n"
     ]
    }
   ],
   "source": [
    "%%time\n",
    "\n",
    "X_train, X_test, y_train, y_test = ohe_scale_set(data)\n",
    "\n",
    "xgbr = XGBRegressor(eval_metric='rmse')\n",
    "\n",
    "start_train = timeit.default_timer()\n",
    "xgbr.fit(X_train, y_train)\n",
    "end_train = timeit.default_timer()\n",
    "\n",
    "start_prediction = timeit.default_timer()\n",
    "predictions = xgbr.predict(X_test)\n",
    "end_prediction = timeit.default_timer()\n",
    "\n",
    "rmse = math.sqrt(mean_squared_error(y_test, predictions))\n",
    "\n",
    "print(f\"RMSE: {rmse:.2f}\")\n",
    "results['XGBRegressor']['Filtered Data']['RMSE'] = f\"{rmse:.2f}\"\n",
    "print(f\"Train time: {end_train - start_train:.2f} sec\")\n",
    "results['XGBRegressor']['Filtered Data']['Train Time'] = f\"{end_train - start_train:.2f} sec\"\n",
    "print(f\"Prediction time: {end_prediction - start_prediction:.2f} sec\")\n",
    "results['XGBRegressor']['Filtered Data']['Prediction Time'] = f\"{end_prediction - start_prediction:.2f} sec\""
   ]
  },
  {
   "cell_type": "code",
   "execution_count": 66,
   "metadata": {},
   "outputs": [],
   "source": [
    "# %%time\n",
    "\n",
    "# X_train, X_test, y_train, y_test = ohe_scale_set(filled_data)\n",
    "\n",
    "# xgbr = XGBRegressor(eval_metric='rmse')\n",
    "\n",
    "# start_train = timeit.default_timer()\n",
    "# xgbr.fit(X_train, y_train)\n",
    "# end_train = timeit.default_timer()\n",
    "\n",
    "# start_prediction = timeit.default_timer()\n",
    "# predictions = xgbr.predict(X_test)\n",
    "# end_prediction = timeit.default_timer()\n",
    "\n",
    "# rmse = mean_squared_error(y_test, predictions, squared=False)\n",
    "\n",
    "# print(f\"RMSE: {rmse:.2f}\")\n",
    "# results['XGBRegressor']['Filled Data']['RMSE'] = f\"{rmse:.2f}\"\n",
    "# print(f\"Train time: {end_train - start_train:.2f} sec\")\n",
    "# results['XGBRegressor']['Filled Data']['Train Time'] = f\"{end_train - start_train:.2f} sec\"\n",
    "# print(f\"Prediction time: {end_prediction - start_prediction:.2f} sec\")\n",
    "# results['XGBRegressor']['Filled Data']['Prediction Time'] = f\"{end_prediction - start_prediction:.2f} sec\""
   ]
  },
  {
   "cell_type": "markdown",
   "metadata": {},
   "source": [
    "## Model analysis"
   ]
  },
  {
   "cell_type": "code",
   "execution_count": 67,
   "metadata": {
    "scrolled": true
   },
   "outputs": [],
   "source": [
    "# print(f\"{'':^18}|{'Filtered Data':^42}|{'Filled Data':^42}\")\n",
    "# print()\n",
    "# print(f\"{'Model':^18}|{'RMSE score':^10}|{'train time':^15}|{'pred time':^15}|{'RMSE score':^10}|{'train time':^15}|{'pred time':^15}\")\n",
    "# print(f\"{'':-^106}\")\n",
    "# for dictionary in results:\n",
    "#     print(f\"{dictionary:^18}|{results[dictionary]['Filtered Data']['RMSE']:^10}|{results[dictionary]['Filtered Data']['Train Time']:^15}|{results[dictionary]['Filtered Data']['Prediction Time']:^15}|{results[dictionary]['Filled Data']['RMSE']:^10}|{results[dictionary]['Filled Data']['Train Time']:^15}|{results[dictionary]['Filled Data']['Prediction Time']:^15}\"\"\")\n",
    "#     print(f\"{'':-^106}\")"
   ]
  },
  {
   "cell_type": "code",
   "execution_count": 68,
   "metadata": {},
   "outputs": [
    {
     "name": "stdout",
     "output_type": "stream",
     "text": [
      "                  |              Filtered Data               \n",
      "\n",
      "      Model       |RMSE score|  train time   |   pred time   \n",
      "------------------------------------------------------------\n",
      "Linear Regression | 2659.97  |   0.05 sec    |   0.00 sec    \n",
      "------------------------------------------------------------\n",
      "  Decision Tree   | 1799.10  |   48.97 sec   |   1.14 sec    \n",
      "------------------------------------------------------------\n",
      "  Random Forest   | 1600.13  |   88.72 sec   |   1.57 sec    \n",
      "------------------------------------------------------------\n",
      "CatBoostRegressor | 1604.70  |  506.76 sec   |   0.05 sec    \n",
      "------------------------------------------------------------\n",
      "  LGBMRegressor   | 1656.23  |   94.84 sec   |   1.50 sec    \n",
      "------------------------------------------------------------\n",
      "   XGBRegressor   | 1843.39  |  159.34 sec   |   1.76 sec    \n",
      "------------------------------------------------------------\n"
     ]
    }
   ],
   "source": [
    "print(f\"{'':^18}|{'Filtered Data':^42}\")\n",
    "print()\n",
    "print(f\"{'Model':^18}|{'RMSE score':^10}|{'train time':^15}|{'pred time':^15}\")\n",
    "print(f\"{'':-^60}\")\n",
    "for dictionary in results:\n",
    "    print(f\"{dictionary:^18}|{results[dictionary]['Filtered Data']['RMSE']:^10}|{results[dictionary]['Filtered Data']['Train Time']:^15}|{results[dictionary]['Filtered Data']['Prediction Time']:^15}\"\"\")\n",
    "    print(f\"{'':-^60}\")"
   ]
  },
  {
   "cell_type": "markdown",
   "metadata": {},
   "source": [
    "### Final evaluation\n",
    "- Linear regression: Our dummy. Fast to train, fast to predict, most inaccurate\n",
    "- XGBRegressor: We didn't make any hyperparameter tuning, relying on standart algorithms' magic. As a result, pretty bad RMSE and fast train time.Prediction time is relatively slow, compared to LR and CatBoost models\n",
    "- Decision Tree: Takes pretty long time to perform even basic hyperparameter adjustments. Achieves better results than Linear regression model, yet nothing spectaqular. Takes pretty long to make predictions\n",
    "- Random Forest: This model training took a very long time. And achieved results definitely were not worth the wait. RMSE score is not the best, and prediction time is the slowest among our trained models\n",
    "- CatBoostRegressor: We used didn't modify any hyperparameters, and got impressive results. Training process was quick, prediction time is shortest among the models, and with a bit of huperpameters tuning we could possibly achieve even better scores. In exchange for time that be. \n",
    "- LGBMRegressor: With this model we've spent a bit of time tuning hyperparameters. Similar to what we've spent on Decision Tree model. Final score is impressive, but prediction time is on the slow side"
   ]
  },
  {
   "cell_type": "markdown",
   "metadata": {},
   "source": [
    "## Conclusions\n",
    "- We've downloaded the data, and investigated potential problems\n",
    "- Changed date fields type to datetime for easier distinction(and space savings?)\n",
    "- We've made two versions of our data set:\n",
    "    - In one of them we've tried to restore part of missing values using KNN algorithm. Dropping entries with missing values afterwards\n",
    "    - With the second one we've dropped all records with missing values right away.\n",
    "- We've ommited duplicated records and analyzed data destribution, filtering out some outliers in the process.\n",
    "- Finaly we've decided on fields that we will not use as a feature in training process:\n",
    "    - Number of pictures, having 0 in every single record would be of no use\n",
    "    - Postal code probably acts as part of recors id, and should not have effect on price (having distinction based on state, or country region could have an affect, but that's another story)\n",
    "    - DateTime fields act as an identifyer as well\n",
    "    - Registration month. Feels like, I don't know, seasonal thing, that would be usefull for analysis of fluctuations in sales throughout the year, but should not affect vehicles price evaluation\n",
    "- With all that, we've trained and tuned couple of different models, prepairing(encoding and scaling) data for each of them.\n",
    "- Analyzing final results, if prediction time is the priority, CatBoostRegressor have the lead. With a little bit of time spent on tuning it be a sweet spot between spending hours, and probably days on tuning random forest model, and using booster model with standart hyperparameters\n",
    "- Restoring missing values prooved to have minimum, if not zero positive impact on our models performance. Considering how long it took to restore them, this step was questionable at the very least"
   ]
  }
 ],
 "metadata": {
  "ExecuteTimeLog": [
   {
    "duration": 3,
    "start_time": "2021-12-21T20:51:12.349Z"
   },
   {
    "duration": 3269,
    "start_time": "2021-12-21T20:51:12.355Z"
   },
   {
    "duration": 1289,
    "start_time": "2021-12-21T20:51:14.342Z"
   },
   {
    "duration": 1275,
    "start_time": "2021-12-21T20:51:14.357Z"
   },
   {
    "duration": 1273,
    "start_time": "2021-12-21T20:51:14.360Z"
   },
   {
    "duration": 1273,
    "start_time": "2021-12-21T20:51:14.362Z"
   },
   {
    "duration": 1267,
    "start_time": "2021-12-21T20:51:14.370Z"
   },
   {
    "duration": 1265,
    "start_time": "2021-12-21T20:51:14.373Z"
   },
   {
    "duration": 1264,
    "start_time": "2021-12-21T20:51:14.375Z"
   },
   {
    "duration": 1263,
    "start_time": "2021-12-21T20:51:14.378Z"
   },
   {
    "duration": 1256,
    "start_time": "2021-12-21T20:51:14.386Z"
   },
   {
    "duration": 1255,
    "start_time": "2021-12-21T20:51:14.388Z"
   },
   {
    "duration": 1255,
    "start_time": "2021-12-21T20:51:14.390Z"
   },
   {
    "duration": 1256,
    "start_time": "2021-12-21T20:51:14.392Z"
   },
   {
    "duration": 1224,
    "start_time": "2021-12-21T20:51:14.426Z"
   },
   {
    "duration": 1217,
    "start_time": "2021-12-21T20:51:14.434Z"
   },
   {
    "duration": 1218,
    "start_time": "2021-12-21T20:51:14.436Z"
   },
   {
    "duration": 1218,
    "start_time": "2021-12-21T20:51:14.438Z"
   },
   {
    "duration": 1217,
    "start_time": "2021-12-21T20:51:14.441Z"
   },
   {
    "duration": 1200,
    "start_time": "2021-12-21T20:51:14.460Z"
   },
   {
    "duration": 1176,
    "start_time": "2021-12-21T20:51:14.488Z"
   },
   {
    "duration": 1176,
    "start_time": "2021-12-21T20:51:14.490Z"
   },
   {
    "duration": 1176,
    "start_time": "2021-12-21T20:51:14.492Z"
   },
   {
    "duration": 1175,
    "start_time": "2021-12-21T20:51:14.494Z"
   },
   {
    "duration": 1217,
    "start_time": "2021-12-21T20:51:14.500Z"
   },
   {
    "duration": 1117,
    "start_time": "2021-12-21T20:51:14.603Z"
   },
   {
    "duration": 1006,
    "start_time": "2021-12-21T20:51:14.716Z"
   },
   {
    "duration": 1002,
    "start_time": "2021-12-21T20:51:14.722Z"
   },
   {
    "duration": 1002,
    "start_time": "2021-12-21T20:51:14.724Z"
   },
   {
    "duration": 1002,
    "start_time": "2021-12-21T20:51:14.726Z"
   },
   {
    "duration": 1001,
    "start_time": "2021-12-21T20:51:14.729Z"
   },
   {
    "duration": 1002,
    "start_time": "2021-12-21T20:51:14.731Z"
   },
   {
    "duration": 1001,
    "start_time": "2021-12-21T20:51:14.734Z"
   },
   {
    "duration": 1001,
    "start_time": "2021-12-21T20:51:14.736Z"
   },
   {
    "duration": 999,
    "start_time": "2021-12-21T20:51:14.740Z"
   },
   {
    "duration": 999,
    "start_time": "2021-12-21T20:51:14.742Z"
   },
   {
    "duration": 998,
    "start_time": "2021-12-21T20:51:14.745Z"
   },
   {
    "duration": 991,
    "start_time": "2021-12-21T20:51:14.754Z"
   },
   {
    "duration": 991,
    "start_time": "2021-12-21T20:51:14.756Z"
   },
   {
    "duration": 991,
    "start_time": "2021-12-21T20:51:14.758Z"
   },
   {
    "duration": 991,
    "start_time": "2021-12-21T20:51:14.760Z"
   },
   {
    "duration": 991,
    "start_time": "2021-12-21T20:51:14.762Z"
   },
   {
    "duration": 991,
    "start_time": "2021-12-21T20:51:14.764Z"
   },
   {
    "duration": 991,
    "start_time": "2021-12-21T20:51:14.766Z"
   },
   {
    "duration": 1048,
    "start_time": "2021-12-21T20:51:14.768Z"
   },
   {
    "duration": 1048,
    "start_time": "2021-12-21T20:51:14.770Z"
   },
   {
    "duration": 1049,
    "start_time": "2021-12-21T20:51:14.772Z"
   },
   {
    "duration": 1049,
    "start_time": "2021-12-21T20:51:14.774Z"
   },
   {
    "duration": 1049,
    "start_time": "2021-12-21T20:51:14.776Z"
   },
   {
    "duration": 1049,
    "start_time": "2021-12-21T20:51:14.778Z"
   },
   {
    "duration": 1048,
    "start_time": "2021-12-21T20:51:14.781Z"
   },
   {
    "duration": 1048,
    "start_time": "2021-12-21T20:51:14.783Z"
   },
   {
    "duration": 1048,
    "start_time": "2021-12-21T20:51:14.785Z"
   },
   {
    "duration": 1048,
    "start_time": "2021-12-21T20:51:14.787Z"
   },
   {
    "duration": 1048,
    "start_time": "2021-12-21T20:51:14.789Z"
   },
   {
    "duration": 1048,
    "start_time": "2021-12-21T20:51:14.791Z"
   },
   {
    "duration": 1048,
    "start_time": "2021-12-21T20:51:14.793Z"
   },
   {
    "duration": 1048,
    "start_time": "2021-12-21T20:51:14.795Z"
   },
   {
    "duration": 1048,
    "start_time": "2021-12-21T20:51:14.797Z"
   },
   {
    "duration": 1048,
    "start_time": "2021-12-21T20:51:14.799Z"
   },
   {
    "duration": 1048,
    "start_time": "2021-12-21T20:51:14.801Z"
   },
   {
    "duration": 1048,
    "start_time": "2021-12-21T20:51:14.803Z"
   },
   {
    "duration": 1048,
    "start_time": "2021-12-21T20:51:14.805Z"
   },
   {
    "duration": 1048,
    "start_time": "2021-12-21T20:51:14.807Z"
   },
   {
    "duration": 5,
    "start_time": "2021-12-21T20:51:43.163Z"
   },
   {
    "duration": 3096,
    "start_time": "2021-12-21T20:51:43.171Z"
   },
   {
    "duration": 8123,
    "start_time": "2021-12-21T20:51:46.271Z"
   },
   {
    "duration": 1229,
    "start_time": "2021-12-21T20:51:53.172Z"
   },
   {
    "duration": 1227,
    "start_time": "2021-12-21T20:51:53.175Z"
   },
   {
    "duration": 1227,
    "start_time": "2021-12-21T20:51:53.177Z"
   },
   {
    "duration": 1227,
    "start_time": "2021-12-21T20:51:53.179Z"
   },
   {
    "duration": 1221,
    "start_time": "2021-12-21T20:51:53.186Z"
   },
   {
    "duration": 1221,
    "start_time": "2021-12-21T20:51:53.188Z"
   },
   {
    "duration": 1220,
    "start_time": "2021-12-21T20:51:53.190Z"
   },
   {
    "duration": 1220,
    "start_time": "2021-12-21T20:51:53.192Z"
   },
   {
    "duration": 1220,
    "start_time": "2021-12-21T20:51:53.194Z"
   },
   {
    "duration": 1220,
    "start_time": "2021-12-21T20:51:53.196Z"
   },
   {
    "duration": 1219,
    "start_time": "2021-12-21T20:51:53.198Z"
   },
   {
    "duration": 1218,
    "start_time": "2021-12-21T20:51:53.200Z"
   },
   {
    "duration": 1218,
    "start_time": "2021-12-21T20:51:53.202Z"
   },
   {
    "duration": 1217,
    "start_time": "2021-12-21T20:51:53.204Z"
   },
   {
    "duration": 1217,
    "start_time": "2021-12-21T20:51:53.206Z"
   },
   {
    "duration": 1217,
    "start_time": "2021-12-21T20:51:53.207Z"
   },
   {
    "duration": 1216,
    "start_time": "2021-12-21T20:51:53.209Z"
   },
   {
    "duration": 1216,
    "start_time": "2021-12-21T20:51:53.211Z"
   },
   {
    "duration": 1215,
    "start_time": "2021-12-21T20:51:53.213Z"
   },
   {
    "duration": 1214,
    "start_time": "2021-12-21T20:51:53.215Z"
   },
   {
    "duration": 1214,
    "start_time": "2021-12-21T20:51:53.217Z"
   },
   {
    "duration": 1213,
    "start_time": "2021-12-21T20:51:53.219Z"
   },
   {
    "duration": 1212,
    "start_time": "2021-12-21T20:51:53.221Z"
   },
   {
    "duration": 1213,
    "start_time": "2021-12-21T20:51:53.222Z"
   },
   {
    "duration": 1212,
    "start_time": "2021-12-21T20:51:53.224Z"
   },
   {
    "duration": 1211,
    "start_time": "2021-12-21T20:51:53.226Z"
   },
   {
    "duration": 1204,
    "start_time": "2021-12-21T20:51:53.235Z"
   },
   {
    "duration": 1189,
    "start_time": "2021-12-21T20:51:53.251Z"
   },
   {
    "duration": 1189,
    "start_time": "2021-12-21T20:51:53.253Z"
   },
   {
    "duration": 1184,
    "start_time": "2021-12-21T20:51:53.259Z"
   },
   {
    "duration": 1183,
    "start_time": "2021-12-21T20:51:53.261Z"
   },
   {
    "duration": 1182,
    "start_time": "2021-12-21T20:51:53.264Z"
   },
   {
    "duration": 1181,
    "start_time": "2021-12-21T20:51:53.266Z"
   },
   {
    "duration": 1180,
    "start_time": "2021-12-21T20:51:53.268Z"
   },
   {
    "duration": 1179,
    "start_time": "2021-12-21T20:51:53.271Z"
   },
   {
    "duration": 1178,
    "start_time": "2021-12-21T20:51:53.273Z"
   },
   {
    "duration": 1178,
    "start_time": "2021-12-21T20:51:53.275Z"
   },
   {
    "duration": 1178,
    "start_time": "2021-12-21T20:51:53.276Z"
   },
   {
    "duration": 1177,
    "start_time": "2021-12-21T20:51:53.278Z"
   },
   {
    "duration": 1172,
    "start_time": "2021-12-21T20:51:53.285Z"
   },
   {
    "duration": 1170,
    "start_time": "2021-12-21T20:51:53.288Z"
   },
   {
    "duration": 1170,
    "start_time": "2021-12-21T20:51:53.289Z"
   },
   {
    "duration": 1226,
    "start_time": "2021-12-21T20:51:53.291Z"
   },
   {
    "duration": 1226,
    "start_time": "2021-12-21T20:51:53.293Z"
   },
   {
    "duration": 1220,
    "start_time": "2021-12-21T20:51:53.300Z"
   },
   {
    "duration": 1216,
    "start_time": "2021-12-21T20:51:53.306Z"
   },
   {
    "duration": 1148,
    "start_time": "2021-12-21T20:51:53.375Z"
   },
   {
    "duration": 1072,
    "start_time": "2021-12-21T20:51:53.453Z"
   },
   {
    "duration": 1055,
    "start_time": "2021-12-21T20:51:53.471Z"
   },
   {
    "duration": 1056,
    "start_time": "2021-12-21T20:51:53.472Z"
   },
   {
    "duration": 1055,
    "start_time": "2021-12-21T20:51:53.474Z"
   },
   {
    "duration": 1054,
    "start_time": "2021-12-21T20:51:53.476Z"
   },
   {
    "duration": 1054,
    "start_time": "2021-12-21T20:51:53.478Z"
   },
   {
    "duration": 1053,
    "start_time": "2021-12-21T20:51:53.480Z"
   },
   {
    "duration": 1052,
    "start_time": "2021-12-21T20:51:53.482Z"
   },
   {
    "duration": 1052,
    "start_time": "2021-12-21T20:51:53.484Z"
   },
   {
    "duration": 1051,
    "start_time": "2021-12-21T20:51:53.486Z"
   },
   {
    "duration": 1050,
    "start_time": "2021-12-21T20:51:53.488Z"
   },
   {
    "duration": 1050,
    "start_time": "2021-12-21T20:51:53.490Z"
   },
   {
    "duration": 1050,
    "start_time": "2021-12-21T20:51:53.491Z"
   },
   {
    "duration": 1049,
    "start_time": "2021-12-21T20:51:53.493Z"
   },
   {
    "duration": 2520,
    "start_time": "2021-12-21T20:52:25.002Z"
   },
   {
    "duration": 4,
    "start_time": "2021-12-21T20:52:42.717Z"
   },
   {
    "duration": 2968,
    "start_time": "2021-12-21T20:52:42.724Z"
   },
   {
    "duration": 2673,
    "start_time": "2021-12-21T20:52:45.695Z"
   },
   {
    "duration": 4,
    "start_time": "2021-12-21T20:52:48.371Z"
   },
   {
    "duration": 675,
    "start_time": "2021-12-21T20:52:48.377Z"
   },
   {
    "duration": 630,
    "start_time": "2021-12-21T20:52:49.055Z"
   },
   {
    "duration": 252,
    "start_time": "2021-12-21T20:52:49.687Z"
   },
   {
    "duration": 99376,
    "start_time": "2021-12-21T20:52:49.943Z"
   },
   {
    "duration": 219,
    "start_time": "2021-12-21T20:54:29.322Z"
   },
   {
    "duration": 243,
    "start_time": "2021-12-21T20:54:29.544Z"
   },
   {
    "duration": 741,
    "start_time": "2021-12-21T20:54:29.789Z"
   },
   {
    "duration": 773,
    "start_time": "2021-12-21T20:54:30.532Z"
   },
   {
    "duration": 622,
    "start_time": "2021-12-21T20:54:31.307Z"
   },
   {
    "duration": 402,
    "start_time": "2021-12-21T20:54:31.932Z"
   },
   {
    "duration": 497,
    "start_time": "2021-12-21T20:54:32.337Z"
   },
   {
    "duration": 510923,
    "start_time": "2021-12-21T20:54:32.837Z"
   },
   {
    "duration": 8,
    "start_time": "2021-12-21T21:03:03.762Z"
   },
   {
    "duration": 50272,
    "start_time": "2021-12-21T21:50:08.376Z"
   },
   {
    "duration": 119816,
    "start_time": "2021-12-21T21:51:35.855Z"
   },
   {
    "duration": 1515,
    "start_time": "2021-12-21T21:53:50.785Z"
   },
   {
    "duration": 6,
    "start_time": "2021-12-21T21:55:11.552Z"
   },
   {
    "duration": 886,
    "start_time": "2021-12-21T21:55:22.778Z"
   },
   {
    "duration": 5,
    "start_time": "2021-12-21T21:55:29.146Z"
   },
   {
    "duration": 117,
    "start_time": "2021-12-21T21:55:32.557Z"
   },
   {
    "duration": 15,
    "start_time": "2021-12-21T21:55:32.895Z"
   },
   {
    "duration": 49423,
    "start_time": "2021-12-21T21:55:53.280Z"
   },
   {
    "duration": 15,
    "start_time": "2021-12-21T21:57:00.788Z"
   },
   {
    "duration": 16,
    "start_time": "2021-12-21T21:57:04.650Z"
   },
   {
    "duration": 160,
    "start_time": "2021-12-21T21:57:11.457Z"
   },
   {
    "duration": 73,
    "start_time": "2021-12-21T21:57:12.765Z"
   },
   {
    "duration": 32,
    "start_time": "2021-12-21T21:57:23.478Z"
   },
   {
    "duration": 46,
    "start_time": "2021-12-21T21:57:24.427Z"
   },
   {
    "duration": 28,
    "start_time": "2021-12-21T21:57:24.808Z"
   },
   {
    "duration": 40,
    "start_time": "2021-12-21T21:57:42.100Z"
   },
   {
    "duration": 6,
    "start_time": "2021-12-21T21:57:55.008Z"
   },
   {
    "duration": 544128,
    "start_time": "2021-12-21T21:57:56.085Z"
   },
   {
    "duration": -179,
    "start_time": "2021-12-21T22:07:00.394Z"
   },
   {
    "duration": 61,
    "start_time": "2021-12-21T22:07:25.043Z"
   },
   {
    "duration": 993,
    "start_time": "2021-12-21T22:07:44.656Z"
   },
   {
    "duration": 983,
    "start_time": "2021-12-21T22:07:52.897Z"
   },
   {
    "duration": 58,
    "start_time": "2021-12-21T22:07:58.237Z"
   },
   {
    "duration": 33873,
    "start_time": "2021-12-21T22:08:06.660Z"
   },
   {
    "duration": 986,
    "start_time": "2021-12-21T22:08:40.536Z"
   },
   {
    "duration": 64,
    "start_time": "2021-12-21T22:09:12.788Z"
   },
   {
    "duration": 1072,
    "start_time": "2021-12-21T22:09:27.187Z"
   },
   {
    "duration": 63864,
    "start_time": "2021-12-21T22:09:36.958Z"
   },
   {
    "duration": 49773,
    "start_time": "2021-12-21T22:11:31.694Z"
   },
   {
    "duration": 18515,
    "start_time": "2021-12-21T22:12:40.748Z"
   },
   {
    "duration": 2,
    "start_time": "2021-12-21T22:13:55.272Z"
   },
   {
    "duration": 1899,
    "start_time": "2021-12-21T22:14:15.553Z"
   },
   {
    "duration": 997,
    "start_time": "2021-12-21T22:14:28.657Z"
   },
   {
    "duration": 1063,
    "start_time": "2021-12-21T22:14:38.565Z"
   },
   {
    "duration": 979,
    "start_time": "2021-12-21T22:15:15.252Z"
   },
   {
    "duration": 17176,
    "start_time": "2021-12-21T22:15:41.662Z"
   },
   {
    "duration": 1899,
    "start_time": "2021-12-21T22:16:05.094Z"
   },
   {
    "duration": 881,
    "start_time": "2021-12-21T22:16:58.464Z"
   },
   {
    "duration": 1444,
    "start_time": "2021-12-21T22:17:25.603Z"
   },
   {
    "duration": 6,
    "start_time": "2021-12-21T22:18:43.616Z"
   },
   {
    "duration": 662,
    "start_time": "2021-12-21T22:18:49.570Z"
   },
   {
    "duration": 3,
    "start_time": "2021-12-21T22:18:50.672Z"
   },
   {
    "duration": 121,
    "start_time": "2021-12-21T22:18:52.422Z"
   },
   {
    "duration": 21,
    "start_time": "2021-12-21T22:18:52.583Z"
   },
   {
    "duration": 48526,
    "start_time": "2021-12-21T22:18:57.671Z"
   },
   {
    "duration": 163,
    "start_time": "2021-12-21T22:19:50.050Z"
   },
   {
    "duration": 72,
    "start_time": "2021-12-21T22:19:50.896Z"
   },
   {
    "duration": 32,
    "start_time": "2021-12-21T22:19:54.823Z"
   },
   {
    "duration": 44,
    "start_time": "2021-12-21T22:19:56.071Z"
   },
   {
    "duration": 28,
    "start_time": "2021-12-21T22:19:56.266Z"
   },
   {
    "duration": 164,
    "start_time": "2021-12-21T22:26:35.658Z"
   },
   {
    "duration": 292,
    "start_time": "2021-12-21T22:26:37.056Z"
   },
   {
    "duration": 170,
    "start_time": "2021-12-21T22:26:37.571Z"
   },
   {
    "duration": 23,
    "start_time": "2021-12-21T22:26:45.361Z"
   },
   {
    "duration": 161,
    "start_time": "2021-12-21T22:26:52.802Z"
   },
   {
    "duration": 79,
    "start_time": "2021-12-21T22:26:53.269Z"
   },
   {
    "duration": 104,
    "start_time": "2021-12-21T22:26:54.660Z"
   },
   {
    "duration": 190,
    "start_time": "2021-12-21T22:26:56.446Z"
   },
   {
    "duration": 61,
    "start_time": "2021-12-21T22:27:12.873Z"
   },
   {
    "duration": 4,
    "start_time": "2021-12-21T22:27:27.051Z"
   },
   {
    "duration": 4,
    "start_time": "2021-12-21T22:27:41.695Z"
   },
   {
    "duration": 50,
    "start_time": "2021-12-21T22:27:43.448Z"
   },
   {
    "duration": 55,
    "start_time": "2021-12-21T22:27:44.809Z"
   },
   {
    "duration": 3,
    "start_time": "2021-12-21T22:27:53.407Z"
   },
   {
    "duration": 3,
    "start_time": "2021-12-21T22:27:58.595Z"
   },
   {
    "duration": 119,
    "start_time": "2021-12-21T22:28:06.852Z"
   },
   {
    "duration": 298,
    "start_time": "2021-12-21T22:28:07.148Z"
   },
   {
    "duration": 26,
    "start_time": "2021-12-21T22:28:11.368Z"
   },
   {
    "duration": 966,
    "start_time": "2021-12-21T22:28:27.488Z"
   },
   {
    "duration": 891,
    "start_time": "2021-12-21T22:28:47.866Z"
   },
   {
    "duration": 877,
    "start_time": "2021-12-21T22:28:54.050Z"
   },
   {
    "duration": 2003,
    "start_time": "2021-12-21T22:28:59.843Z"
   },
   {
    "duration": 3,
    "start_time": "2021-12-21T22:29:56.197Z"
   },
   {
    "duration": 1476,
    "start_time": "2021-12-21T22:29:56.203Z"
   },
   {
    "duration": 645,
    "start_time": "2021-12-21T22:29:57.681Z"
   },
   {
    "duration": 2,
    "start_time": "2021-12-21T22:29:58.328Z"
   },
   {
    "duration": 126,
    "start_time": "2021-12-21T22:29:58.332Z"
   },
   {
    "duration": 16,
    "start_time": "2021-12-21T22:29:58.460Z"
   },
   {
    "duration": 48986,
    "start_time": "2021-12-21T22:29:58.477Z"
   },
   {
    "duration": 166,
    "start_time": "2021-12-21T22:30:47.465Z"
   },
   {
    "duration": 81,
    "start_time": "2021-12-21T22:30:47.634Z"
   },
   {
    "duration": 32,
    "start_time": "2021-12-21T22:30:47.717Z"
   },
   {
    "duration": 55,
    "start_time": "2021-12-21T22:30:47.750Z"
   },
   {
    "duration": 28,
    "start_time": "2021-12-21T22:30:47.807Z"
   },
   {
    "duration": 57,
    "start_time": "2021-12-21T22:30:47.836Z"
   },
   {
    "duration": 5,
    "start_time": "2021-12-21T22:30:47.896Z"
   },
   {
    "duration": 9,
    "start_time": "2021-12-21T22:30:47.903Z"
   },
   {
    "duration": 6,
    "start_time": "2021-12-21T22:30:47.913Z"
   },
   {
    "duration": 7,
    "start_time": "2021-12-21T22:30:47.920Z"
   },
   {
    "duration": 6,
    "start_time": "2021-12-21T22:30:47.928Z"
   },
   {
    "duration": 6,
    "start_time": "2021-12-21T22:30:47.935Z"
   },
   {
    "duration": 6,
    "start_time": "2021-12-21T22:30:47.943Z"
   },
   {
    "duration": 7,
    "start_time": "2021-12-21T22:30:47.950Z"
   },
   {
    "duration": 5,
    "start_time": "2021-12-21T22:30:47.958Z"
   },
   {
    "duration": 6,
    "start_time": "2021-12-21T22:30:47.965Z"
   },
   {
    "duration": 198,
    "start_time": "2021-12-21T22:30:47.973Z"
   },
   {
    "duration": 84,
    "start_time": "2021-12-21T22:30:48.173Z"
   },
   {
    "duration": 111,
    "start_time": "2021-12-21T22:30:48.259Z"
   },
   {
    "duration": 4,
    "start_time": "2021-12-21T22:30:48.372Z"
   },
   {
    "duration": 61,
    "start_time": "2021-12-21T22:30:48.377Z"
   },
   {
    "duration": 2,
    "start_time": "2021-12-21T22:30:48.439Z"
   },
   {
    "duration": 5,
    "start_time": "2021-12-21T22:30:48.443Z"
   },
   {
    "duration": 128,
    "start_time": "2021-12-21T22:30:48.450Z"
   },
   {
    "duration": 270,
    "start_time": "2021-12-21T22:30:48.580Z"
   },
   {
    "duration": 24,
    "start_time": "2021-12-21T22:31:36.300Z"
   },
   {
    "duration": 1054,
    "start_time": "2021-12-21T22:31:38.100Z"
   },
   {
    "duration": 17731,
    "start_time": "2021-12-21T22:31:53.560Z"
   },
   {
    "duration": 1050,
    "start_time": "2021-12-21T22:32:36.537Z"
   },
   {
    "duration": 974,
    "start_time": "2021-12-21T22:32:44.245Z"
   },
   {
    "duration": 1929,
    "start_time": "2021-12-21T22:33:14.007Z"
   },
   {
    "duration": 3,
    "start_time": "2021-12-21T22:33:46.883Z"
   },
   {
    "duration": 64,
    "start_time": "2021-12-21T22:33:49.324Z"
   },
   {
    "duration": 862,
    "start_time": "2021-12-21T22:34:03.402Z"
   },
   {
    "duration": 1756,
    "start_time": "2021-12-21T22:34:09.623Z"
   },
   {
    "duration": 50,
    "start_time": "2021-12-21T22:34:28.031Z"
   },
   {
    "duration": 4,
    "start_time": "2021-12-21T22:34:32.658Z"
   },
   {
    "duration": 3,
    "start_time": "2021-12-21T22:34:36.214Z"
   },
   {
    "duration": 4,
    "start_time": "2021-12-21T22:34:36.970Z"
   },
   {
    "duration": 3,
    "start_time": "2021-12-21T22:34:47.901Z"
   },
   {
    "duration": 5,
    "start_time": "2021-12-21T22:34:48.947Z"
   },
   {
    "duration": 4,
    "start_time": "2021-12-21T22:34:51.670Z"
   },
   {
    "duration": 1157,
    "start_time": "2021-12-21T22:34:53.495Z"
   },
   {
    "duration": 59957,
    "start_time": "2021-12-21T22:35:17.306Z"
   },
   {
    "duration": 20416,
    "start_time": "2021-12-21T22:36:29.259Z"
   },
   {
    "duration": 1969,
    "start_time": "2021-12-21T22:37:02.923Z"
   },
   {
    "duration": 3,
    "start_time": "2021-12-21T22:37:38.378Z"
   },
   {
    "duration": 14,
    "start_time": "2021-12-21T22:37:38.383Z"
   },
   {
    "duration": 1467,
    "start_time": "2021-12-21T22:37:38.398Z"
   },
   {
    "duration": 654,
    "start_time": "2021-12-21T22:37:39.867Z"
   },
   {
    "duration": 3,
    "start_time": "2021-12-21T22:37:40.523Z"
   },
   {
    "duration": 126,
    "start_time": "2021-12-21T22:37:40.528Z"
   },
   {
    "duration": 16,
    "start_time": "2021-12-21T22:37:40.655Z"
   },
   {
    "duration": 49300,
    "start_time": "2021-12-21T22:37:40.673Z"
   },
   {
    "duration": 177,
    "start_time": "2021-12-21T22:38:29.976Z"
   },
   {
    "duration": 82,
    "start_time": "2021-12-21T22:38:30.156Z"
   },
   {
    "duration": 32,
    "start_time": "2021-12-21T22:38:30.240Z"
   },
   {
    "duration": 62,
    "start_time": "2021-12-21T22:38:30.273Z"
   },
   {
    "duration": 28,
    "start_time": "2021-12-21T22:38:30.337Z"
   },
   {
    "duration": 53,
    "start_time": "2021-12-21T22:38:30.367Z"
   },
   {
    "duration": 5,
    "start_time": "2021-12-21T22:38:30.423Z"
   },
   {
    "duration": 15,
    "start_time": "2021-12-21T22:38:30.429Z"
   },
   {
    "duration": 20,
    "start_time": "2021-12-21T22:38:30.445Z"
   },
   {
    "duration": 26,
    "start_time": "2021-12-21T22:38:30.467Z"
   },
   {
    "duration": 14,
    "start_time": "2021-12-21T22:38:30.495Z"
   },
   {
    "duration": 31,
    "start_time": "2021-12-21T22:38:30.510Z"
   },
   {
    "duration": 16,
    "start_time": "2021-12-21T22:38:30.542Z"
   },
   {
    "duration": 11,
    "start_time": "2021-12-21T22:38:30.559Z"
   },
   {
    "duration": 7,
    "start_time": "2021-12-21T22:38:30.572Z"
   },
   {
    "duration": 22,
    "start_time": "2021-12-21T22:38:30.581Z"
   },
   {
    "duration": 186,
    "start_time": "2021-12-21T22:38:30.605Z"
   },
   {
    "duration": 78,
    "start_time": "2021-12-21T22:38:30.792Z"
   },
   {
    "duration": 114,
    "start_time": "2021-12-21T22:38:30.873Z"
   },
   {
    "duration": 5,
    "start_time": "2021-12-21T22:38:30.989Z"
   },
   {
    "duration": 55,
    "start_time": "2021-12-21T22:38:30.995Z"
   },
   {
    "duration": 3,
    "start_time": "2021-12-21T22:38:31.051Z"
   },
   {
    "duration": 8,
    "start_time": "2021-12-21T22:38:31.055Z"
   },
   {
    "duration": 140,
    "start_time": "2021-12-21T22:38:31.064Z"
   },
   {
    "duration": 286,
    "start_time": "2021-12-21T22:38:31.206Z"
   },
   {
    "duration": 25,
    "start_time": "2021-12-21T22:38:31.493Z"
   },
   {
    "duration": 4559,
    "start_time": "2021-12-21T22:38:31.520Z"
   },
   {
    "duration": 2,
    "start_time": "2021-12-21T22:38:36.081Z"
   },
   {
    "duration": 53,
    "start_time": "2021-12-21T22:38:36.091Z"
   },
   {
    "duration": 4425,
    "start_time": "2021-12-21T22:38:36.145Z"
   },
   {
    "duration": 52,
    "start_time": "2021-12-21T22:38:40.572Z"
   },
   {
    "duration": 4,
    "start_time": "2021-12-21T22:38:40.626Z"
   },
   {
    "duration": 5,
    "start_time": "2021-12-21T22:38:40.631Z"
   },
   {
    "duration": 5,
    "start_time": "2021-12-21T22:38:40.638Z"
   },
   {
    "duration": 4,
    "start_time": "2021-12-21T22:38:40.645Z"
   },
   {
    "duration": 4,
    "start_time": "2021-12-21T22:38:40.651Z"
   },
   {
    "duration": 3,
    "start_time": "2021-12-21T22:39:58.728Z"
   },
   {
    "duration": 1198,
    "start_time": "2021-12-21T22:40:03.499Z"
   },
   {
    "duration": 1012,
    "start_time": "2021-12-21T22:40:31.083Z"
   },
   {
    "duration": 3,
    "start_time": "2021-12-22T06:57:19.466Z"
   },
   {
    "duration": 6,
    "start_time": "2021-12-22T06:57:19.471Z"
   },
   {
    "duration": 1624,
    "start_time": "2021-12-22T06:57:19.479Z"
   },
   {
    "duration": 1039,
    "start_time": "2021-12-22T06:57:21.106Z"
   },
   {
    "duration": 35,
    "start_time": "2021-12-22T06:57:22.148Z"
   },
   {
    "duration": 3,
    "start_time": "2021-12-22T06:57:22.185Z"
   },
   {
    "duration": 21,
    "start_time": "2021-12-22T06:57:22.189Z"
   },
   {
    "duration": 16,
    "start_time": "2021-12-22T06:57:22.211Z"
   },
   {
    "duration": 1450,
    "start_time": "2021-12-22T06:57:22.228Z"
   },
   {
    "duration": 12,
    "start_time": "2021-12-22T06:57:23.680Z"
   },
   {
    "duration": 19,
    "start_time": "2021-12-22T06:57:23.694Z"
   },
   {
    "duration": 18,
    "start_time": "2021-12-22T06:57:23.715Z"
   },
   {
    "duration": 19,
    "start_time": "2021-12-22T06:57:23.734Z"
   },
   {
    "duration": 19,
    "start_time": "2021-12-22T06:57:23.755Z"
   },
   {
    "duration": 5,
    "start_time": "2021-12-22T06:57:23.776Z"
   },
   {
    "duration": 6,
    "start_time": "2021-12-22T06:57:23.782Z"
   },
   {
    "duration": 11,
    "start_time": "2021-12-22T06:57:23.789Z"
   },
   {
    "duration": 5,
    "start_time": "2021-12-22T06:57:23.802Z"
   },
   {
    "duration": 7,
    "start_time": "2021-12-22T06:57:23.809Z"
   },
   {
    "duration": 6,
    "start_time": "2021-12-22T06:57:23.818Z"
   },
   {
    "duration": 23,
    "start_time": "2021-12-22T06:57:23.826Z"
   },
   {
    "duration": 7,
    "start_time": "2021-12-22T06:57:23.851Z"
   },
   {
    "duration": 15,
    "start_time": "2021-12-22T06:57:23.860Z"
   },
   {
    "duration": 8,
    "start_time": "2021-12-22T06:57:23.877Z"
   },
   {
    "duration": 13,
    "start_time": "2021-12-22T06:57:23.888Z"
   },
   {
    "duration": 13,
    "start_time": "2021-12-22T06:57:23.904Z"
   },
   {
    "duration": 8,
    "start_time": "2021-12-22T06:57:23.918Z"
   },
   {
    "duration": 10,
    "start_time": "2021-12-22T06:57:23.928Z"
   },
   {
    "duration": 4,
    "start_time": "2021-12-22T06:57:23.939Z"
   },
   {
    "duration": 9,
    "start_time": "2021-12-22T06:57:23.944Z"
   },
   {
    "duration": 6,
    "start_time": "2021-12-22T06:57:23.955Z"
   },
   {
    "duration": 7,
    "start_time": "2021-12-22T06:57:23.963Z"
   },
   {
    "duration": 15,
    "start_time": "2021-12-22T06:57:23.971Z"
   },
   {
    "duration": 19,
    "start_time": "2021-12-22T06:57:23.988Z"
   },
   {
    "duration": 16,
    "start_time": "2021-12-22T06:57:24.009Z"
   },
   {
    "duration": 1757,
    "start_time": "2021-12-22T06:57:24.027Z"
   },
   {
    "duration": 2,
    "start_time": "2021-12-22T06:57:25.786Z"
   },
   {
    "duration": 12,
    "start_time": "2021-12-22T06:57:25.790Z"
   },
   {
    "duration": 1507,
    "start_time": "2021-12-22T06:57:25.804Z"
   },
   {
    "duration": 7,
    "start_time": "2021-12-22T06:57:27.313Z"
   },
   {
    "duration": 3,
    "start_time": "2021-12-22T06:57:27.322Z"
   },
   {
    "duration": 6,
    "start_time": "2021-12-22T06:57:27.327Z"
   },
   {
    "duration": 28,
    "start_time": "2021-12-22T06:57:27.335Z"
   },
   {
    "duration": 8,
    "start_time": "2021-12-22T06:57:27.365Z"
   },
   {
    "duration": 6,
    "start_time": "2021-12-22T06:57:27.375Z"
   },
   {
    "duration": 5,
    "start_time": "2021-12-22T06:57:27.383Z"
   },
   {
    "duration": 174,
    "start_time": "2021-12-22T06:57:27.390Z"
   },
   {
    "duration": 570,
    "start_time": "2021-12-22T06:57:27.566Z"
   },
   {
    "duration": 33,
    "start_time": "2021-12-22T06:57:28.105Z"
   },
   {
    "duration": 21,
    "start_time": "2021-12-22T06:57:28.118Z"
   },
   {
    "duration": 13,
    "start_time": "2021-12-22T06:57:28.127Z"
   },
   {
    "duration": 8,
    "start_time": "2021-12-22T06:57:28.133Z"
   },
   {
    "duration": -2,
    "start_time": "2021-12-22T06:57:28.144Z"
   },
   {
    "duration": -7,
    "start_time": "2021-12-22T06:57:28.150Z"
   },
   {
    "duration": -15,
    "start_time": "2021-12-22T06:57:28.159Z"
   },
   {
    "duration": -21,
    "start_time": "2021-12-22T06:57:28.166Z"
   },
   {
    "duration": -29,
    "start_time": "2021-12-22T06:57:28.175Z"
   },
   {
    "duration": -35,
    "start_time": "2021-12-22T06:57:28.182Z"
   },
   {
    "duration": -44,
    "start_time": "2021-12-22T06:57:28.192Z"
   },
   {
    "duration": -49,
    "start_time": "2021-12-22T06:57:28.199Z"
   },
   {
    "duration": -58,
    "start_time": "2021-12-22T06:57:28.209Z"
   },
   {
    "duration": -64,
    "start_time": "2021-12-22T06:57:28.216Z"
   },
   {
    "duration": -73,
    "start_time": "2021-12-22T06:57:28.226Z"
   },
   {
    "duration": -79,
    "start_time": "2021-12-22T06:57:28.233Z"
   },
   {
    "duration": -90,
    "start_time": "2021-12-22T06:57:28.245Z"
   },
   {
    "duration": 117,
    "start_time": "2021-12-22T06:59:09.844Z"
   },
   {
    "duration": 2,
    "start_time": "2021-12-22T06:59:15.451Z"
   },
   {
    "duration": 6,
    "start_time": "2021-12-22T06:59:16.411Z"
   },
   {
    "duration": 204,
    "start_time": "2021-12-22T06:59:23.589Z"
   },
   {
    "duration": 276,
    "start_time": "2021-12-22T07:00:25.079Z"
   },
   {
    "duration": 23394,
    "start_time": "2021-12-22T07:00:36.450Z"
   },
   {
    "duration": 309,
    "start_time": "2021-12-22T07:02:00.985Z"
   },
   {
    "duration": 23102,
    "start_time": "2021-12-22T07:02:03.905Z"
   },
   {
    "duration": 3,
    "start_time": "2021-12-22T07:02:27.009Z"
   },
   {
    "duration": 56558,
    "start_time": "2021-12-22T07:02:42.073Z"
   },
   {
    "duration": 22768,
    "start_time": "2021-12-22T07:03:42.993Z"
   },
   {
    "duration": 3,
    "start_time": "2021-12-22T07:04:26.967Z"
   },
   {
    "duration": 18431,
    "start_time": "2021-12-22T07:04:43.886Z"
   },
   {
    "duration": 15585,
    "start_time": "2021-12-22T07:05:12.821Z"
   },
   {
    "duration": 3,
    "start_time": "2021-12-22T07:05:28.408Z"
   },
   {
    "duration": 212,
    "start_time": "2021-12-22T07:05:42.031Z"
   },
   {
    "duration": 201186,
    "start_time": "2021-12-22T07:05:51.664Z"
   },
   {
    "duration": 3,
    "start_time": "2021-12-22T07:09:12.853Z"
   },
   {
    "duration": 777097,
    "start_time": "2021-12-22T07:09:41.944Z"
   },
   {
    "duration": 1178,
    "start_time": "2021-12-22T07:23:09.648Z"
   },
   {
    "duration": 1037,
    "start_time": "2021-12-22T07:23:29.930Z"
   },
   {
    "duration": 9784,
    "start_time": "2021-12-22T07:24:10.185Z"
   },
   {
    "duration": 3748,
    "start_time": "2021-12-22T07:24:46.813Z"
   },
   {
    "duration": 1124,
    "start_time": "2021-12-22T07:24:55.252Z"
   },
   {
    "duration": 1143,
    "start_time": "2021-12-22T07:25:01.731Z"
   },
   {
    "duration": 2288,
    "start_time": "2021-12-22T07:25:18.379Z"
   },
   {
    "duration": 2440,
    "start_time": "2021-12-22T07:25:26.321Z"
   },
   {
    "duration": 2718,
    "start_time": "2021-12-22T07:25:30.552Z"
   },
   {
    "duration": 1039,
    "start_time": "2021-12-22T07:25:35.222Z"
   },
   {
    "duration": 1279,
    "start_time": "2021-12-22T07:25:41.593Z"
   },
   {
    "duration": 4845,
    "start_time": "2021-12-22T07:25:46.426Z"
   },
   {
    "duration": 62155,
    "start_time": "2021-12-22T07:26:29.410Z"
   },
   {
    "duration": 7,
    "start_time": "2021-12-22T07:27:46.111Z"
   },
   {
    "duration": 5662,
    "start_time": "2021-12-22T07:28:24.914Z"
   },
   {
    "duration": 3,
    "start_time": "2021-12-22T07:28:47.252Z"
   },
   {
    "duration": 2433,
    "start_time": "2021-12-22T07:28:50.852Z"
   },
   {
    "duration": 2387,
    "start_time": "2021-12-22T07:29:01.197Z"
   },
   {
    "duration": 247,
    "start_time": "2021-12-22T07:29:27.225Z"
   },
   {
    "duration": 3,
    "start_time": "2021-12-22T07:29:38.373Z"
   },
   {
    "duration": 81,
    "start_time": "2021-12-22T07:31:24.539Z"
   },
   {
    "duration": 644,
    "start_time": "2021-12-22T07:31:32.130Z"
   },
   {
    "duration": 80,
    "start_time": "2021-12-22T07:31:43.847Z"
   },
   {
    "duration": 5,
    "start_time": "2021-12-22T07:32:02.522Z"
   },
   {
    "duration": 7,
    "start_time": "2021-12-22T07:32:12.146Z"
   },
   {
    "duration": 6,
    "start_time": "2021-12-22T07:32:23.509Z"
   },
   {
    "duration": 4,
    "start_time": "2021-12-22T07:33:03.946Z"
   },
   {
    "duration": 8,
    "start_time": "2021-12-22T07:33:03.952Z"
   },
   {
    "duration": 1634,
    "start_time": "2021-12-22T07:33:03.963Z"
   },
   {
    "duration": 626,
    "start_time": "2021-12-22T07:33:05.600Z"
   },
   {
    "duration": 41,
    "start_time": "2021-12-22T07:33:06.228Z"
   },
   {
    "duration": 4,
    "start_time": "2021-12-22T07:33:06.271Z"
   },
   {
    "duration": 20,
    "start_time": "2021-12-22T07:33:06.276Z"
   },
   {
    "duration": 15,
    "start_time": "2021-12-22T07:33:06.298Z"
   },
   {
    "duration": 1439,
    "start_time": "2021-12-22T07:33:06.315Z"
   },
   {
    "duration": 16,
    "start_time": "2021-12-22T07:33:07.756Z"
   },
   {
    "duration": 14,
    "start_time": "2021-12-22T07:33:07.774Z"
   },
   {
    "duration": 7,
    "start_time": "2021-12-22T07:33:07.790Z"
   },
   {
    "duration": 17,
    "start_time": "2021-12-22T07:33:07.799Z"
   },
   {
    "duration": 40,
    "start_time": "2021-12-22T07:33:07.820Z"
   },
   {
    "duration": 4,
    "start_time": "2021-12-22T07:33:07.863Z"
   },
   {
    "duration": 19,
    "start_time": "2021-12-22T07:33:07.869Z"
   },
   {
    "duration": 5,
    "start_time": "2021-12-22T07:33:07.890Z"
   },
   {
    "duration": 20,
    "start_time": "2021-12-22T07:33:07.897Z"
   },
   {
    "duration": 5,
    "start_time": "2021-12-22T07:33:07.919Z"
   },
   {
    "duration": 6,
    "start_time": "2021-12-22T07:33:07.926Z"
   },
   {
    "duration": 13,
    "start_time": "2021-12-22T07:33:07.934Z"
   },
   {
    "duration": 9,
    "start_time": "2021-12-22T07:33:07.949Z"
   },
   {
    "duration": 16,
    "start_time": "2021-12-22T07:33:07.960Z"
   },
   {
    "duration": 10,
    "start_time": "2021-12-22T07:33:07.977Z"
   },
   {
    "duration": 7,
    "start_time": "2021-12-22T07:33:07.988Z"
   },
   {
    "duration": 16,
    "start_time": "2021-12-22T07:33:07.996Z"
   },
   {
    "duration": 8,
    "start_time": "2021-12-22T07:33:08.013Z"
   },
   {
    "duration": 8,
    "start_time": "2021-12-22T07:33:08.022Z"
   },
   {
    "duration": 5,
    "start_time": "2021-12-22T07:33:08.031Z"
   },
   {
    "duration": 12,
    "start_time": "2021-12-22T07:33:08.037Z"
   },
   {
    "duration": 5,
    "start_time": "2021-12-22T07:33:08.050Z"
   },
   {
    "duration": 6,
    "start_time": "2021-12-22T07:33:08.061Z"
   },
   {
    "duration": 17,
    "start_time": "2021-12-22T07:33:08.069Z"
   },
   {
    "duration": 18,
    "start_time": "2021-12-22T07:33:08.088Z"
   },
   {
    "duration": 13,
    "start_time": "2021-12-22T07:33:08.107Z"
   },
   {
    "duration": 1757,
    "start_time": "2021-12-22T07:33:08.122Z"
   },
   {
    "duration": 3,
    "start_time": "2021-12-22T07:33:09.880Z"
   },
   {
    "duration": 16,
    "start_time": "2021-12-22T07:33:09.887Z"
   },
   {
    "duration": 1446,
    "start_time": "2021-12-22T07:33:09.905Z"
   },
   {
    "duration": 11,
    "start_time": "2021-12-22T07:33:11.353Z"
   },
   {
    "duration": 11,
    "start_time": "2021-12-22T07:33:11.366Z"
   },
   {
    "duration": 19,
    "start_time": "2021-12-22T07:33:11.379Z"
   },
   {
    "duration": 29,
    "start_time": "2021-12-22T07:33:11.400Z"
   },
   {
    "duration": 17,
    "start_time": "2021-12-22T07:33:11.430Z"
   },
   {
    "duration": 29,
    "start_time": "2021-12-22T07:33:11.448Z"
   },
   {
    "duration": 13,
    "start_time": "2021-12-22T07:33:11.479Z"
   },
   {
    "duration": 76,
    "start_time": "2021-12-22T07:33:11.493Z"
   },
   {
    "duration": 96,
    "start_time": "2021-12-22T07:33:11.664Z"
   },
   {
    "duration": 10,
    "start_time": "2021-12-22T07:33:11.762Z"
   },
   {
    "duration": 20,
    "start_time": "2021-12-22T07:33:11.773Z"
   },
   {
    "duration": 22591,
    "start_time": "2021-12-22T07:33:11.795Z"
   },
   {
    "duration": 2,
    "start_time": "2021-12-22T07:33:34.388Z"
   },
   {
    "duration": 17,
    "start_time": "2021-12-22T07:33:34.392Z"
   },
   {
    "duration": 21495,
    "start_time": "2021-12-22T07:33:34.411Z"
   },
   {
    "duration": 3,
    "start_time": "2021-12-22T07:33:55.907Z"
   },
   {
    "duration": 14,
    "start_time": "2021-12-22T07:33:55.912Z"
   },
   {
    "duration": 15771,
    "start_time": "2021-12-22T07:33:55.928Z"
   },
   {
    "duration": 2,
    "start_time": "2021-12-22T07:34:11.701Z"
   },
   {
    "duration": 10,
    "start_time": "2021-12-22T07:34:11.705Z"
   },
   {
    "duration": 76452,
    "start_time": "2021-12-22T07:34:11.716Z"
   },
   {
    "duration": 3,
    "start_time": "2021-12-22T07:35:28.170Z"
   },
   {
    "duration": 19,
    "start_time": "2021-12-22T07:35:28.174Z"
   },
   {
    "duration": 2288,
    "start_time": "2021-12-22T07:35:28.194Z"
   },
   {
    "duration": 2,
    "start_time": "2021-12-22T07:35:30.484Z"
   },
   {
    "duration": 38,
    "start_time": "2021-12-22T07:35:30.488Z"
   },
   {
    "duration": 27,
    "start_time": "2021-12-22T07:35:30.528Z"
   },
   {
    "duration": 3,
    "start_time": "2021-12-22T07:37:24.803Z"
   },
   {
    "duration": 14,
    "start_time": "2021-12-22T07:37:24.810Z"
   },
   {
    "duration": 1555,
    "start_time": "2021-12-22T07:37:24.849Z"
   },
   {
    "duration": 608,
    "start_time": "2021-12-22T07:37:26.406Z"
   },
   {
    "duration": 2,
    "start_time": "2021-12-22T07:37:27.016Z"
   },
   {
    "duration": 24,
    "start_time": "2021-12-22T07:37:27.020Z"
   },
   {
    "duration": 148,
    "start_time": "2021-12-22T07:37:27.045Z"
   },
   {
    "duration": 14,
    "start_time": "2021-12-22T07:37:27.195Z"
   },
   {
    "duration": 49924,
    "start_time": "2021-12-22T07:37:27.211Z"
   },
   {
    "duration": 169,
    "start_time": "2021-12-22T07:38:17.137Z"
   },
   {
    "duration": 77,
    "start_time": "2021-12-22T07:38:17.308Z"
   },
   {
    "duration": 32,
    "start_time": "2021-12-22T07:38:17.386Z"
   },
   {
    "duration": 58,
    "start_time": "2021-12-22T07:38:17.419Z"
   },
   {
    "duration": 28,
    "start_time": "2021-12-22T07:38:17.478Z"
   },
   {
    "duration": 34,
    "start_time": "2021-12-22T07:38:17.507Z"
   },
   {
    "duration": 5,
    "start_time": "2021-12-22T07:38:17.560Z"
   },
   {
    "duration": 4,
    "start_time": "2021-12-22T07:38:17.567Z"
   },
   {
    "duration": 7,
    "start_time": "2021-12-22T07:38:17.573Z"
   },
   {
    "duration": 8,
    "start_time": "2021-12-22T07:38:17.581Z"
   },
   {
    "duration": 5,
    "start_time": "2021-12-22T07:38:17.591Z"
   },
   {
    "duration": 7,
    "start_time": "2021-12-22T07:38:17.598Z"
   },
   {
    "duration": 7,
    "start_time": "2021-12-22T07:38:17.606Z"
   },
   {
    "duration": 6,
    "start_time": "2021-12-22T07:38:17.615Z"
   },
   {
    "duration": 5,
    "start_time": "2021-12-22T07:38:17.623Z"
   },
   {
    "duration": 8,
    "start_time": "2021-12-22T07:38:17.632Z"
   },
   {
    "duration": 180,
    "start_time": "2021-12-22T07:38:17.642Z"
   },
   {
    "duration": 82,
    "start_time": "2021-12-22T07:38:17.823Z"
   },
   {
    "duration": 107,
    "start_time": "2021-12-22T07:38:17.907Z"
   },
   {
    "duration": 4,
    "start_time": "2021-12-22T07:38:18.016Z"
   },
   {
    "duration": 62,
    "start_time": "2021-12-22T07:38:18.022Z"
   },
   {
    "duration": 3,
    "start_time": "2021-12-22T07:38:18.086Z"
   },
   {
    "duration": 8,
    "start_time": "2021-12-22T07:38:18.091Z"
   },
   {
    "duration": 126,
    "start_time": "2021-12-22T07:38:18.101Z"
   },
   {
    "duration": 283,
    "start_time": "2021-12-22T07:38:18.230Z"
   },
   {
    "duration": 24,
    "start_time": "2021-12-22T07:38:18.514Z"
   },
   {
    "duration": 1865,
    "start_time": "2021-12-22T07:38:18.540Z"
   },
   {
    "duration": 3,
    "start_time": "2021-12-22T07:38:20.407Z"
   },
   {
    "duration": 69,
    "start_time": "2021-12-22T07:38:20.411Z"
   },
   {
    "duration": 1584,
    "start_time": "2021-12-22T07:38:20.482Z"
   },
   {
    "duration": 46,
    "start_time": "2021-12-22T07:38:22.068Z"
   },
   {
    "duration": 4,
    "start_time": "2021-12-22T07:38:22.115Z"
   },
   {
    "duration": 4,
    "start_time": "2021-12-22T07:38:22.121Z"
   },
   {
    "duration": 7,
    "start_time": "2021-12-22T07:38:22.126Z"
   },
   {
    "duration": 8,
    "start_time": "2021-12-22T07:38:22.134Z"
   },
   {
    "duration": 8,
    "start_time": "2021-12-22T07:38:22.161Z"
   },
   {
    "duration": 8,
    "start_time": "2021-12-22T07:38:22.171Z"
   },
   {
    "duration": 788,
    "start_time": "2021-12-22T07:38:22.181Z"
   },
   {
    "duration": 4,
    "start_time": "2021-12-22T07:38:23.060Z"
   },
   {
    "duration": 8,
    "start_time": "2021-12-22T07:38:23.066Z"
   },
   {
    "duration": 5,
    "start_time": "2021-12-22T07:38:23.075Z"
   },
   {
    "duration": 1351824,
    "start_time": "2021-12-22T07:38:23.082Z"
   },
   {
    "duration": 3,
    "start_time": "2021-12-22T08:00:54.908Z"
   },
   {
    "duration": 33,
    "start_time": "2021-12-22T08:00:54.912Z"
   },
   {
    "duration": 1656509,
    "start_time": "2021-12-22T08:00:54.947Z"
   },
   {
    "duration": 3,
    "start_time": "2021-12-22T08:28:31.458Z"
   },
   {
    "duration": 78,
    "start_time": "2021-12-22T08:28:31.463Z"
   },
   {
    "duration": 100327,
    "start_time": "2021-12-22T08:28:31.544Z"
   },
   {
    "duration": 3,
    "start_time": "2021-12-22T08:30:11.874Z"
   },
   {
    "duration": 5,
    "start_time": "2021-12-22T08:30:11.879Z"
   },
   {
    "duration": 367478,
    "start_time": "2021-12-22T08:30:11.885Z"
   },
   {
    "duration": 2,
    "start_time": "2021-12-22T08:36:19.365Z"
   },
   {
    "duration": 9,
    "start_time": "2021-12-22T08:36:19.369Z"
   },
   {
    "duration": 97352,
    "start_time": "2021-12-22T08:36:19.380Z"
   },
   {
    "duration": 2,
    "start_time": "2021-12-22T08:37:56.734Z"
   },
   {
    "duration": 14,
    "start_time": "2021-12-22T08:37:56.738Z"
   },
   {
    "duration": 19,
    "start_time": "2021-12-22T08:37:56.754Z"
   },
   {
    "duration": 11322,
    "start_time": "2021-12-22T08:59:57.963Z"
   },
   {
    "duration": 10848,
    "start_time": "2021-12-22T09:00:25.852Z"
   },
   {
    "duration": 21020,
    "start_time": "2021-12-22T09:00:47.631Z"
   },
   {
    "duration": 92032,
    "start_time": "2021-12-22T09:01:14.639Z"
   },
   {
    "duration": 95556,
    "start_time": "2021-12-22T09:04:46.610Z"
   },
   {
    "duration": 1254520,
    "start_time": "2021-12-22T09:08:45.391Z"
   },
   {
    "duration": 576097,
    "start_time": "2021-12-22T09:29:57.883Z"
   },
   {
    "duration": 8,
    "start_time": "2021-12-22T10:05:51.748Z"
   },
   {
    "duration": 3,
    "start_time": "2021-12-22T20:34:48.047Z"
   },
   {
    "duration": 4,
    "start_time": "2021-12-22T20:34:48.052Z"
   },
   {
    "duration": 1834,
    "start_time": "2021-12-22T20:34:48.059Z"
   },
   {
    "duration": 7849,
    "start_time": "2021-12-22T20:34:49.895Z"
   },
   {
    "duration": 2,
    "start_time": "2021-12-22T20:34:57.746Z"
   },
   {
    "duration": 6,
    "start_time": "2021-12-22T20:34:57.749Z"
   },
   {
    "duration": 125,
    "start_time": "2021-12-22T20:34:57.757Z"
   },
   {
    "duration": 25,
    "start_time": "2021-12-22T20:34:57.886Z"
   },
   {
    "duration": 51226,
    "start_time": "2021-12-22T20:34:57.913Z"
   },
   {
    "duration": 181,
    "start_time": "2021-12-22T20:35:49.141Z"
   },
   {
    "duration": 85,
    "start_time": "2021-12-22T20:35:49.323Z"
   },
   {
    "duration": 35,
    "start_time": "2021-12-22T20:35:49.409Z"
   },
   {
    "duration": 45,
    "start_time": "2021-12-22T20:35:49.446Z"
   },
   {
    "duration": 29,
    "start_time": "2021-12-22T20:35:49.507Z"
   },
   {
    "duration": 35,
    "start_time": "2021-12-22T20:35:49.537Z"
   },
   {
    "duration": 6,
    "start_time": "2021-12-22T20:35:49.574Z"
   },
   {
    "duration": 26,
    "start_time": "2021-12-22T20:35:49.581Z"
   },
   {
    "duration": 5,
    "start_time": "2021-12-22T20:35:49.609Z"
   },
   {
    "duration": 6,
    "start_time": "2021-12-22T20:35:49.616Z"
   },
   {
    "duration": 6,
    "start_time": "2021-12-22T20:35:49.623Z"
   },
   {
    "duration": 6,
    "start_time": "2021-12-22T20:35:49.631Z"
   },
   {
    "duration": 7,
    "start_time": "2021-12-22T20:35:49.638Z"
   },
   {
    "duration": 5,
    "start_time": "2021-12-22T20:35:49.648Z"
   },
   {
    "duration": 6,
    "start_time": "2021-12-22T20:35:49.655Z"
   },
   {
    "duration": 6,
    "start_time": "2021-12-22T20:35:49.662Z"
   },
   {
    "duration": 184,
    "start_time": "2021-12-22T20:35:49.670Z"
   },
   {
    "duration": 87,
    "start_time": "2021-12-22T20:35:49.856Z"
   },
   {
    "duration": 108,
    "start_time": "2021-12-22T20:35:49.945Z"
   },
   {
    "duration": 4,
    "start_time": "2021-12-22T20:35:50.055Z"
   },
   {
    "duration": 60,
    "start_time": "2021-12-22T20:35:50.061Z"
   },
   {
    "duration": 2,
    "start_time": "2021-12-22T20:35:50.122Z"
   },
   {
    "duration": 6,
    "start_time": "2021-12-22T20:35:50.126Z"
   },
   {
    "duration": 131,
    "start_time": "2021-12-22T20:35:50.133Z"
   },
   {
    "duration": 270,
    "start_time": "2021-12-22T20:35:50.266Z"
   },
   {
    "duration": 23,
    "start_time": "2021-12-22T20:35:50.537Z"
   },
   {
    "duration": 1958,
    "start_time": "2021-12-22T20:35:50.562Z"
   },
   {
    "duration": 2,
    "start_time": "2021-12-22T20:35:52.522Z"
   },
   {
    "duration": 54,
    "start_time": "2021-12-22T20:35:52.526Z"
   },
   {
    "duration": 1863,
    "start_time": "2021-12-22T20:35:52.582Z"
   },
   {
    "duration": 58,
    "start_time": "2021-12-22T20:35:54.448Z"
   },
   {
    "duration": 6,
    "start_time": "2021-12-22T20:35:54.508Z"
   },
   {
    "duration": 6,
    "start_time": "2021-12-22T20:35:54.516Z"
   },
   {
    "duration": 7,
    "start_time": "2021-12-22T20:35:54.524Z"
   },
   {
    "duration": 4,
    "start_time": "2021-12-22T20:35:54.534Z"
   },
   {
    "duration": 18,
    "start_time": "2021-12-22T20:35:54.540Z"
   },
   {
    "duration": 9,
    "start_time": "2021-12-22T20:35:54.561Z"
   },
   {
    "duration": 1137,
    "start_time": "2021-12-22T20:35:54.574Z"
   },
   {
    "duration": 4,
    "start_time": "2021-12-22T20:35:55.713Z"
   },
   {
    "duration": 4,
    "start_time": "2021-12-22T20:35:55.806Z"
   },
   {
    "duration": 5,
    "start_time": "2021-12-22T20:35:55.812Z"
   },
   {
    "duration": 1495746,
    "start_time": "2021-12-22T20:35:55.819Z"
   },
   {
    "duration": 3,
    "start_time": "2021-12-22T21:00:51.568Z"
   },
   {
    "duration": 6,
    "start_time": "2021-12-22T21:00:51.573Z"
   },
   {
    "duration": 1524861,
    "start_time": "2021-12-22T21:00:51.580Z"
   },
   {
    "duration": 3,
    "start_time": "2021-12-22T21:26:16.443Z"
   },
   {
    "duration": 7,
    "start_time": "2021-12-22T21:26:16.447Z"
   },
   {
    "duration": 20111,
    "start_time": "2021-12-22T21:26:16.456Z"
   },
   {
    "duration": 467,
    "start_time": "2021-12-22T21:26:36.102Z"
   },
   {
    "duration": 454,
    "start_time": "2021-12-22T21:26:36.117Z"
   },
   {
    "duration": 452,
    "start_time": "2021-12-22T21:26:36.120Z"
   },
   {
    "duration": 449,
    "start_time": "2021-12-22T21:26:36.124Z"
   },
   {
    "duration": 447,
    "start_time": "2021-12-22T21:26:36.127Z"
   },
   {
    "duration": 445,
    "start_time": "2021-12-22T21:26:36.131Z"
   },
   {
    "duration": 443,
    "start_time": "2021-12-22T21:26:36.134Z"
   },
   {
    "duration": 441,
    "start_time": "2021-12-22T21:26:36.137Z"
   },
   {
    "duration": 440,
    "start_time": "2021-12-22T21:26:36.139Z"
   },
   {
    "duration": 3725,
    "start_time": "2021-12-23T07:27:06.371Z"
   },
   {
    "duration": 2843,
    "start_time": "2021-12-23T07:28:00.215Z"
   },
   {
    "duration": 2736,
    "start_time": "2021-12-23T07:53:59.677Z"
   },
   {
    "duration": 21812,
    "start_time": "2021-12-23T07:54:57.019Z"
   },
   {
    "duration": 3788,
    "start_time": "2021-12-23T07:56:12.172Z"
   },
   {
    "duration": 9375,
    "start_time": "2021-12-23T07:57:26.034Z"
   },
   {
    "duration": 18863,
    "start_time": "2021-12-23T07:57:46.605Z"
   },
   {
    "duration": 384,
    "start_time": "2021-12-23T12:22:24.683Z"
   },
   {
    "duration": 5088,
    "start_time": "2021-12-23T12:25:04.209Z"
   },
   {
    "duration": 3,
    "start_time": "2021-12-23T12:25:09.301Z"
   },
   {
    "duration": 2945,
    "start_time": "2021-12-23T12:25:09.309Z"
   },
   {
    "duration": 1346,
    "start_time": "2021-12-23T12:25:12.257Z"
   },
   {
    "duration": 3,
    "start_time": "2021-12-23T12:25:13.605Z"
   },
   {
    "duration": 7,
    "start_time": "2021-12-23T12:25:13.611Z"
   },
   {
    "duration": 195,
    "start_time": "2021-12-23T12:25:13.620Z"
   },
   {
    "duration": 24,
    "start_time": "2021-12-23T12:25:13.819Z"
   },
   {
    "duration": 101755,
    "start_time": "2021-12-23T12:25:13.846Z"
   },
   {
    "duration": 225,
    "start_time": "2021-12-23T12:26:55.603Z"
   },
   {
    "duration": 111,
    "start_time": "2021-12-23T12:26:55.830Z"
   },
   {
    "duration": 55,
    "start_time": "2021-12-23T12:26:55.944Z"
   },
   {
    "duration": 76,
    "start_time": "2021-12-23T12:26:56.002Z"
   },
   {
    "duration": 41,
    "start_time": "2021-12-23T12:26:56.081Z"
   },
   {
    "duration": 65,
    "start_time": "2021-12-23T12:26:56.124Z"
   },
   {
    "duration": 8,
    "start_time": "2021-12-23T12:26:56.192Z"
   },
   {
    "duration": 5,
    "start_time": "2021-12-23T12:26:56.202Z"
   },
   {
    "duration": 8,
    "start_time": "2021-12-23T12:26:56.209Z"
   },
   {
    "duration": 7,
    "start_time": "2021-12-23T12:26:56.219Z"
   },
   {
    "duration": 35,
    "start_time": "2021-12-23T12:26:56.228Z"
   },
   {
    "duration": 3,
    "start_time": "2021-12-23T12:26:56.265Z"
   },
   {
    "duration": 10,
    "start_time": "2021-12-23T12:26:56.270Z"
   },
   {
    "duration": 5,
    "start_time": "2021-12-23T12:26:56.285Z"
   },
   {
    "duration": 9,
    "start_time": "2021-12-23T12:26:56.293Z"
   },
   {
    "duration": 7,
    "start_time": "2021-12-23T12:26:56.304Z"
   },
   {
    "duration": 270,
    "start_time": "2021-12-23T12:26:56.313Z"
   },
   {
    "duration": 113,
    "start_time": "2021-12-23T12:26:56.585Z"
   },
   {
    "duration": 152,
    "start_time": "2021-12-23T12:26:56.700Z"
   },
   {
    "duration": 9,
    "start_time": "2021-12-23T12:26:56.855Z"
   },
   {
    "duration": 66,
    "start_time": "2021-12-23T12:26:56.867Z"
   },
   {
    "duration": 3,
    "start_time": "2021-12-23T12:26:56.936Z"
   },
   {
    "duration": 5,
    "start_time": "2021-12-23T12:26:56.962Z"
   },
   {
    "duration": 189,
    "start_time": "2021-12-23T12:26:56.969Z"
   },
   {
    "duration": 428,
    "start_time": "2021-12-23T12:26:57.163Z"
   },
   {
    "duration": 44,
    "start_time": "2021-12-23T12:26:57.594Z"
   },
   {
    "duration": 9604,
    "start_time": "2021-12-23T12:26:57.640Z"
   },
   {
    "duration": 4,
    "start_time": "2021-12-23T12:27:07.247Z"
   },
   {
    "duration": 116,
    "start_time": "2021-12-23T12:27:07.253Z"
   },
   {
    "duration": 9371,
    "start_time": "2021-12-23T12:27:07.371Z"
   },
   {
    "duration": 93,
    "start_time": "2021-12-23T12:27:16.745Z"
   },
   {
    "duration": 6,
    "start_time": "2021-12-23T12:27:16.840Z"
   },
   {
    "duration": 16,
    "start_time": "2021-12-23T12:27:16.848Z"
   },
   {
    "duration": 4,
    "start_time": "2021-12-23T12:27:16.868Z"
   },
   {
    "duration": 4,
    "start_time": "2021-12-23T12:27:16.875Z"
   },
   {
    "duration": 9,
    "start_time": "2021-12-23T12:27:16.883Z"
   },
   {
    "duration": 4,
    "start_time": "2021-12-23T12:27:16.895Z"
   },
   {
    "duration": 1168,
    "start_time": "2021-12-23T12:27:16.902Z"
   },
   {
    "duration": 91,
    "start_time": "2021-12-23T12:27:18.073Z"
   },
   {
    "duration": 5,
    "start_time": "2021-12-23T12:27:18.166Z"
   },
   {
    "duration": 7,
    "start_time": "2021-12-23T12:27:18.174Z"
   },
   {
    "duration": 212323,
    "start_time": "2021-12-23T12:27:18.183Z"
   },
   {
    "duration": 458,
    "start_time": "2021-12-23T12:30:50.050Z"
   },
   {
    "duration": 417,
    "start_time": "2021-12-23T12:30:50.093Z"
   },
   {
    "duration": 414,
    "start_time": "2021-12-23T12:30:50.097Z"
   },
   {
    "duration": 413,
    "start_time": "2021-12-23T12:30:50.100Z"
   },
   {
    "duration": 406,
    "start_time": "2021-12-23T12:30:50.108Z"
   },
   {
    "duration": 405,
    "start_time": "2021-12-23T12:30:50.111Z"
   },
   {
    "duration": 405,
    "start_time": "2021-12-23T12:30:50.113Z"
   },
   {
    "duration": 402,
    "start_time": "2021-12-23T12:30:50.117Z"
   },
   {
    "duration": 400,
    "start_time": "2021-12-23T12:30:50.120Z"
   },
   {
    "duration": 400,
    "start_time": "2021-12-23T12:30:50.122Z"
   },
   {
    "duration": 398,
    "start_time": "2021-12-23T12:30:50.125Z"
   },
   {
    "duration": 397,
    "start_time": "2021-12-23T12:30:50.128Z"
   },
   {
    "duration": 396,
    "start_time": "2021-12-23T12:30:50.130Z"
   },
   {
    "duration": 393,
    "start_time": "2021-12-23T12:30:50.134Z"
   },
   {
    "duration": 391,
    "start_time": "2021-12-23T12:30:50.137Z"
   },
   {
    "duration": 3627,
    "start_time": "2021-12-23T12:35:38.150Z"
   },
   {
    "duration": 3,
    "start_time": "2021-12-23T12:35:41.780Z"
   },
   {
    "duration": 2050,
    "start_time": "2021-12-23T12:35:41.786Z"
   },
   {
    "duration": 944,
    "start_time": "2021-12-23T12:35:43.840Z"
   },
   {
    "duration": 3,
    "start_time": "2021-12-23T12:35:44.788Z"
   },
   {
    "duration": 6,
    "start_time": "2021-12-23T12:35:44.794Z"
   },
   {
    "duration": 180,
    "start_time": "2021-12-23T12:35:44.802Z"
   },
   {
    "duration": 24,
    "start_time": "2021-12-23T12:35:44.987Z"
   },
   {
    "duration": 75718,
    "start_time": "2021-12-23T12:35:45.015Z"
   },
   {
    "duration": 519,
    "start_time": "2021-12-23T12:37:00.219Z"
   },
   {
    "duration": 517,
    "start_time": "2021-12-23T12:37:00.223Z"
   },
   {
    "duration": 515,
    "start_time": "2021-12-23T12:37:00.226Z"
   },
   {
    "duration": 506,
    "start_time": "2021-12-23T12:37:00.236Z"
   },
   {
    "duration": 505,
    "start_time": "2021-12-23T12:37:00.239Z"
   },
   {
    "duration": 504,
    "start_time": "2021-12-23T12:37:00.241Z"
   },
   {
    "duration": 499,
    "start_time": "2021-12-23T12:37:00.247Z"
   },
   {
    "duration": 496,
    "start_time": "2021-12-23T12:37:00.252Z"
   },
   {
    "duration": 494,
    "start_time": "2021-12-23T12:37:00.255Z"
   },
   {
    "duration": 491,
    "start_time": "2021-12-23T12:37:00.259Z"
   },
   {
    "duration": 487,
    "start_time": "2021-12-23T12:37:00.265Z"
   },
   {
    "duration": 484,
    "start_time": "2021-12-23T12:37:00.269Z"
   },
   {
    "duration": 483,
    "start_time": "2021-12-23T12:37:00.272Z"
   },
   {
    "duration": 480,
    "start_time": "2021-12-23T12:37:00.276Z"
   },
   {
    "duration": 478,
    "start_time": "2021-12-23T12:37:00.279Z"
   },
   {
    "duration": 477,
    "start_time": "2021-12-23T12:37:00.282Z"
   },
   {
    "duration": 474,
    "start_time": "2021-12-23T12:37:00.286Z"
   },
   {
    "duration": 433,
    "start_time": "2021-12-23T12:37:00.329Z"
   },
   {
    "duration": 363,
    "start_time": "2021-12-23T12:37:00.400Z"
   },
   {
    "duration": 360,
    "start_time": "2021-12-23T12:37:00.404Z"
   },
   {
    "duration": 359,
    "start_time": "2021-12-23T12:37:00.407Z"
   },
   {
    "duration": 357,
    "start_time": "2021-12-23T12:37:00.410Z"
   },
   {
    "duration": 356,
    "start_time": "2021-12-23T12:37:00.413Z"
   },
   {
    "duration": 353,
    "start_time": "2021-12-23T12:37:00.417Z"
   },
   {
    "duration": 350,
    "start_time": "2021-12-23T12:37:00.422Z"
   },
   {
    "duration": 347,
    "start_time": "2021-12-23T12:37:00.426Z"
   },
   {
    "duration": 339,
    "start_time": "2021-12-23T12:37:00.435Z"
   },
   {
    "duration": 338,
    "start_time": "2021-12-23T12:37:00.438Z"
   },
   {
    "duration": 338,
    "start_time": "2021-12-23T12:37:00.440Z"
   },
   {
    "duration": 336,
    "start_time": "2021-12-23T12:37:00.443Z"
   },
   {
    "duration": 336,
    "start_time": "2021-12-23T12:37:00.445Z"
   },
   {
    "duration": 256,
    "start_time": "2021-12-23T12:37:00.527Z"
   },
   {
    "duration": 180,
    "start_time": "2021-12-23T12:37:00.604Z"
   },
   {
    "duration": 178,
    "start_time": "2021-12-23T12:37:00.607Z"
   },
   {
    "duration": 177,
    "start_time": "2021-12-23T12:37:00.610Z"
   },
   {
    "duration": 176,
    "start_time": "2021-12-23T12:37:00.612Z"
   },
   {
    "duration": 174,
    "start_time": "2021-12-23T12:37:00.615Z"
   },
   {
    "duration": 173,
    "start_time": "2021-12-23T12:37:00.618Z"
   },
   {
    "duration": 172,
    "start_time": "2021-12-23T12:37:00.620Z"
   },
   {
    "duration": 170,
    "start_time": "2021-12-23T12:37:00.623Z"
   },
   {
    "duration": 168,
    "start_time": "2021-12-23T12:37:00.626Z"
   },
   {
    "duration": 168,
    "start_time": "2021-12-23T12:37:00.628Z"
   },
   {
    "duration": 166,
    "start_time": "2021-12-23T12:37:00.631Z"
   },
   {
    "duration": 165,
    "start_time": "2021-12-23T12:37:00.634Z"
   },
   {
    "duration": 164,
    "start_time": "2021-12-23T12:37:00.636Z"
   },
   {
    "duration": 223,
    "start_time": "2021-12-23T12:37:00.639Z"
   },
   {
    "duration": 223,
    "start_time": "2021-12-23T12:37:00.641Z"
   },
   {
    "duration": 222,
    "start_time": "2021-12-23T12:37:00.644Z"
   },
   {
    "duration": 220,
    "start_time": "2021-12-23T12:37:00.647Z"
   },
   {
    "duration": 218,
    "start_time": "2021-12-23T12:37:00.650Z"
   },
   {
    "duration": 217,
    "start_time": "2021-12-23T12:37:00.652Z"
   },
   {
    "duration": 217,
    "start_time": "2021-12-23T12:37:00.654Z"
   },
   {
    "duration": 216,
    "start_time": "2021-12-23T12:37:00.656Z"
   },
   {
    "duration": 206,
    "start_time": "2021-12-23T12:37:00.667Z"
   },
   {
    "duration": 205,
    "start_time": "2021-12-23T12:37:00.670Z"
   },
   {
    "duration": 204,
    "start_time": "2021-12-23T12:37:00.672Z"
   },
   {
    "duration": 204,
    "start_time": "2021-12-23T12:37:00.675Z"
   },
   {
    "duration": 380,
    "start_time": "2021-12-23T12:38:17.688Z"
   },
   {
    "duration": 22,
    "start_time": "2021-12-23T12:38:25.731Z"
   },
   {
    "duration": 72,
    "start_time": "2021-12-23T12:38:58.052Z"
   },
   {
    "duration": 3781,
    "start_time": "2021-12-23T12:39:13.723Z"
   },
   {
    "duration": 3,
    "start_time": "2021-12-23T12:39:17.507Z"
   },
   {
    "duration": 2052,
    "start_time": "2021-12-23T12:39:17.514Z"
   },
   {
    "duration": 919,
    "start_time": "2021-12-23T12:39:19.569Z"
   },
   {
    "duration": 3,
    "start_time": "2021-12-23T12:39:20.490Z"
   },
   {
    "duration": 6,
    "start_time": "2021-12-23T12:39:20.496Z"
   },
   {
    "duration": 189,
    "start_time": "2021-12-23T12:39:20.504Z"
   },
   {
    "duration": 24,
    "start_time": "2021-12-23T12:39:20.697Z"
   },
   {
    "duration": 6,
    "start_time": "2021-12-23T12:39:20.724Z"
   },
   {
    "duration": 370,
    "start_time": "2021-12-23T12:39:20.733Z"
   },
   {
    "duration": 129,
    "start_time": "2021-12-23T12:39:21.106Z"
   },
   {
    "duration": 49,
    "start_time": "2021-12-23T12:39:21.237Z"
   },
   {
    "duration": 92,
    "start_time": "2021-12-23T12:39:21.289Z"
   },
   {
    "duration": 41,
    "start_time": "2021-12-23T12:39:21.383Z"
   },
   {
    "duration": 89,
    "start_time": "2021-12-23T12:39:21.426Z"
   },
   {
    "duration": 8,
    "start_time": "2021-12-23T12:39:21.518Z"
   },
   {
    "duration": 5,
    "start_time": "2021-12-23T12:39:21.529Z"
   },
   {
    "duration": 29,
    "start_time": "2021-12-23T12:39:21.537Z"
   },
   {
    "duration": 4,
    "start_time": "2021-12-23T12:39:21.569Z"
   },
   {
    "duration": 11,
    "start_time": "2021-12-23T12:39:21.576Z"
   },
   {
    "duration": 7,
    "start_time": "2021-12-23T12:39:21.590Z"
   },
   {
    "duration": 12,
    "start_time": "2021-12-23T12:39:21.600Z"
   },
   {
    "duration": 44,
    "start_time": "2021-12-23T12:39:21.621Z"
   },
   {
    "duration": 13,
    "start_time": "2021-12-23T12:39:21.671Z"
   },
   {
    "duration": 5,
    "start_time": "2021-12-23T12:39:21.687Z"
   },
   {
    "duration": 549,
    "start_time": "2021-12-23T12:39:21.695Z"
   },
   {
    "duration": 289,
    "start_time": "2021-12-23T12:39:22.248Z"
   },
   {
    "duration": 384,
    "start_time": "2021-12-23T12:39:22.540Z"
   },
   {
    "duration": 7,
    "start_time": "2021-12-23T12:39:22.927Z"
   },
   {
    "duration": 169,
    "start_time": "2021-12-23T12:39:22.937Z"
   },
   {
    "duration": 3,
    "start_time": "2021-12-23T12:39:23.108Z"
   },
   {
    "duration": 6,
    "start_time": "2021-12-23T12:39:23.114Z"
   },
   {
    "duration": 299,
    "start_time": "2021-12-23T12:39:23.123Z"
   },
   {
    "duration": 621,
    "start_time": "2021-12-23T12:39:23.425Z"
   },
   {
    "duration": 51,
    "start_time": "2021-12-23T12:39:24.048Z"
   },
   {
    "duration": 76,
    "start_time": "2021-12-23T12:39:24.102Z"
   },
   {
    "duration": 8804,
    "start_time": "2021-12-23T12:39:24.181Z"
   },
   {
    "duration": 3,
    "start_time": "2021-12-23T12:39:32.988Z"
   },
   {
    "duration": 145,
    "start_time": "2021-12-23T12:39:32.994Z"
   },
   {
    "duration": 8596,
    "start_time": "2021-12-23T12:39:33.141Z"
   },
   {
    "duration": 123,
    "start_time": "2021-12-23T12:39:41.740Z"
   },
   {
    "duration": 5,
    "start_time": "2021-12-23T12:39:41.865Z"
   },
   {
    "duration": 5,
    "start_time": "2021-12-23T12:39:41.872Z"
   },
   {
    "duration": 4,
    "start_time": "2021-12-23T12:39:41.880Z"
   },
   {
    "duration": 5,
    "start_time": "2021-12-23T12:39:41.886Z"
   },
   {
    "duration": 7,
    "start_time": "2021-12-23T12:39:41.893Z"
   },
   {
    "duration": 4,
    "start_time": "2021-12-23T12:39:41.903Z"
   },
   {
    "duration": 2055,
    "start_time": "2021-12-23T12:39:41.909Z"
   },
   {
    "duration": 5,
    "start_time": "2021-12-23T12:39:43.967Z"
   },
   {
    "duration": 7,
    "start_time": "2021-12-23T12:39:43.975Z"
   },
   {
    "duration": 10,
    "start_time": "2021-12-23T12:39:43.984Z"
   },
   {
    "duration": 168336,
    "start_time": "2021-12-23T12:39:43.996Z"
   },
   {
    "duration": 379,
    "start_time": "2021-12-23T12:42:31.956Z"
   },
   {
    "duration": 376,
    "start_time": "2021-12-23T12:42:31.960Z"
   },
   {
    "duration": 375,
    "start_time": "2021-12-23T12:42:31.963Z"
   },
   {
    "duration": 372,
    "start_time": "2021-12-23T12:42:31.967Z"
   },
   {
    "duration": 370,
    "start_time": "2021-12-23T12:42:31.970Z"
   },
   {
    "duration": 370,
    "start_time": "2021-12-23T12:42:31.972Z"
   },
   {
    "duration": 367,
    "start_time": "2021-12-23T12:42:31.976Z"
   },
   {
    "duration": 365,
    "start_time": "2021-12-23T12:42:31.979Z"
   },
   {
    "duration": 364,
    "start_time": "2021-12-23T12:42:31.982Z"
   },
   {
    "duration": 361,
    "start_time": "2021-12-23T12:42:31.986Z"
   },
   {
    "duration": 359,
    "start_time": "2021-12-23T12:42:31.989Z"
   },
   {
    "duration": 357,
    "start_time": "2021-12-23T12:42:31.993Z"
   },
   {
    "duration": 355,
    "start_time": "2021-12-23T12:42:31.996Z"
   },
   {
    "duration": 351,
    "start_time": "2021-12-23T12:42:32.001Z"
   },
   {
    "duration": 351,
    "start_time": "2021-12-23T12:42:32.003Z"
   },
   {
    "duration": 3983,
    "start_time": "2021-12-23T12:43:08.980Z"
   },
   {
    "duration": 4,
    "start_time": "2021-12-23T12:43:12.966Z"
   },
   {
    "duration": 2761,
    "start_time": "2021-12-23T12:43:12.973Z"
   },
   {
    "duration": 1708,
    "start_time": "2021-12-23T12:43:15.737Z"
   },
   {
    "duration": 4,
    "start_time": "2021-12-23T12:43:17.448Z"
   },
   {
    "duration": 10,
    "start_time": "2021-12-23T12:43:17.455Z"
   },
   {
    "duration": 306,
    "start_time": "2021-12-23T12:43:17.468Z"
   },
   {
    "duration": 38,
    "start_time": "2021-12-23T12:43:17.779Z"
   },
   {
    "duration": 4,
    "start_time": "2021-12-23T12:43:17.821Z"
   },
   {
    "duration": 571,
    "start_time": "2021-12-23T12:43:17.828Z"
   },
   {
    "duration": 128,
    "start_time": "2021-12-23T12:43:18.401Z"
   },
   {
    "duration": 55,
    "start_time": "2021-12-23T12:43:18.531Z"
   },
   {
    "duration": 81,
    "start_time": "2021-12-23T12:43:18.589Z"
   },
   {
    "duration": 42,
    "start_time": "2021-12-23T12:43:18.672Z"
   },
   {
    "duration": 87,
    "start_time": "2021-12-23T12:43:18.716Z"
   },
   {
    "duration": 8,
    "start_time": "2021-12-23T12:43:18.806Z"
   },
   {
    "duration": 8,
    "start_time": "2021-12-23T12:43:18.816Z"
   },
   {
    "duration": 8,
    "start_time": "2021-12-23T12:43:18.826Z"
   },
   {
    "duration": 8,
    "start_time": "2021-12-23T12:43:18.836Z"
   },
   {
    "duration": 8,
    "start_time": "2021-12-23T12:43:18.863Z"
   },
   {
    "duration": 7,
    "start_time": "2021-12-23T12:43:18.873Z"
   },
   {
    "duration": 10,
    "start_time": "2021-12-23T12:43:18.882Z"
   },
   {
    "duration": 3,
    "start_time": "2021-12-23T12:43:18.899Z"
   },
   {
    "duration": 9,
    "start_time": "2021-12-23T12:43:18.907Z"
   },
   {
    "duration": 43,
    "start_time": "2021-12-23T12:43:18.919Z"
   },
   {
    "duration": 421,
    "start_time": "2021-12-23T12:43:18.965Z"
   },
   {
    "duration": 198,
    "start_time": "2021-12-23T12:43:19.389Z"
   },
   {
    "duration": 236,
    "start_time": "2021-12-23T12:43:19.589Z"
   },
   {
    "duration": 5,
    "start_time": "2021-12-23T12:43:19.828Z"
   },
   {
    "duration": 115,
    "start_time": "2021-12-23T12:43:19.835Z"
   },
   {
    "duration": 4,
    "start_time": "2021-12-23T12:43:19.962Z"
   },
   {
    "duration": 9,
    "start_time": "2021-12-23T12:43:19.968Z"
   },
   {
    "duration": 286,
    "start_time": "2021-12-23T12:43:19.979Z"
   },
   {
    "duration": 606,
    "start_time": "2021-12-23T12:43:20.268Z"
   },
   {
    "duration": 47,
    "start_time": "2021-12-23T12:43:20.876Z"
   },
   {
    "duration": 77,
    "start_time": "2021-12-23T12:43:20.925Z"
   },
   {
    "duration": 9422,
    "start_time": "2021-12-23T12:43:21.005Z"
   },
   {
    "duration": 4,
    "start_time": "2021-12-23T12:43:30.429Z"
   },
   {
    "duration": 147,
    "start_time": "2021-12-23T12:43:30.435Z"
   },
   {
    "duration": 9255,
    "start_time": "2021-12-23T12:43:30.585Z"
   },
   {
    "duration": 129,
    "start_time": "2021-12-23T12:43:39.843Z"
   },
   {
    "duration": 5,
    "start_time": "2021-12-23T12:43:39.974Z"
   },
   {
    "duration": 5,
    "start_time": "2021-12-23T12:43:39.981Z"
   },
   {
    "duration": 4,
    "start_time": "2021-12-23T12:43:39.989Z"
   },
   {
    "duration": 4,
    "start_time": "2021-12-23T12:43:39.996Z"
   },
   {
    "duration": 6,
    "start_time": "2021-12-23T12:43:40.003Z"
   },
   {
    "duration": 53,
    "start_time": "2021-12-23T12:43:40.012Z"
   },
   {
    "duration": 2002,
    "start_time": "2021-12-23T12:43:40.068Z"
   },
   {
    "duration": 4,
    "start_time": "2021-12-23T12:43:42.073Z"
   },
   {
    "duration": 86,
    "start_time": "2021-12-23T12:43:42.079Z"
   },
   {
    "duration": 9,
    "start_time": "2021-12-23T12:43:42.168Z"
   },
   {
    "duration": 3734,
    "start_time": "2021-12-23T12:51:18.198Z"
   },
   {
    "duration": 4,
    "start_time": "2021-12-23T12:51:21.934Z"
   },
   {
    "duration": 2447,
    "start_time": "2021-12-23T12:51:21.941Z"
   },
   {
    "duration": 1349,
    "start_time": "2021-12-23T12:51:24.392Z"
   },
   {
    "duration": 3,
    "start_time": "2021-12-23T12:51:25.744Z"
   },
   {
    "duration": 14,
    "start_time": "2021-12-23T12:51:25.749Z"
   },
   {
    "duration": 179,
    "start_time": "2021-12-23T12:51:25.766Z"
   },
   {
    "duration": 29,
    "start_time": "2021-12-23T12:51:25.950Z"
   },
   {
    "duration": 3,
    "start_time": "2021-12-23T12:51:25.982Z"
   },
   {
    "duration": 335,
    "start_time": "2021-12-23T12:51:25.988Z"
   },
   {
    "duration": 125,
    "start_time": "2021-12-23T12:51:26.325Z"
   },
   {
    "duration": 51,
    "start_time": "2021-12-23T12:51:26.452Z"
   },
   {
    "duration": 89,
    "start_time": "2021-12-23T12:51:26.506Z"
   },
   {
    "duration": 45,
    "start_time": "2021-12-23T12:51:26.598Z"
   },
   {
    "duration": 64,
    "start_time": "2021-12-23T12:51:26.663Z"
   },
   {
    "duration": 9,
    "start_time": "2021-12-23T12:51:26.730Z"
   },
   {
    "duration": 23,
    "start_time": "2021-12-23T12:51:26.741Z"
   },
   {
    "duration": 9,
    "start_time": "2021-12-23T12:51:26.767Z"
   },
   {
    "duration": 11,
    "start_time": "2021-12-23T12:51:26.778Z"
   },
   {
    "duration": 9,
    "start_time": "2021-12-23T12:51:26.791Z"
   },
   {
    "duration": 16,
    "start_time": "2021-12-23T12:51:26.803Z"
   },
   {
    "duration": 12,
    "start_time": "2021-12-23T12:51:26.821Z"
   },
   {
    "duration": 5,
    "start_time": "2021-12-23T12:51:26.866Z"
   },
   {
    "duration": 9,
    "start_time": "2021-12-23T12:51:26.875Z"
   },
   {
    "duration": 7,
    "start_time": "2021-12-23T12:51:26.886Z"
   },
   {
    "duration": 369,
    "start_time": "2021-12-23T12:51:26.896Z"
   },
   {
    "duration": 165,
    "start_time": "2021-12-23T12:51:27.268Z"
   },
   {
    "duration": 245,
    "start_time": "2021-12-23T12:51:27.436Z"
   },
   {
    "duration": 5,
    "start_time": "2021-12-23T12:51:27.683Z"
   },
   {
    "duration": 116,
    "start_time": "2021-12-23T12:51:27.691Z"
   },
   {
    "duration": 3,
    "start_time": "2021-12-23T12:51:27.809Z"
   },
   {
    "duration": 7,
    "start_time": "2021-12-23T12:51:27.814Z"
   },
   {
    "duration": 295,
    "start_time": "2021-12-23T12:51:27.824Z"
   },
   {
    "duration": 702,
    "start_time": "2021-12-23T12:51:28.122Z"
   },
   {
    "duration": 59,
    "start_time": "2021-12-23T12:51:28.826Z"
   },
   {
    "duration": 57,
    "start_time": "2021-12-23T12:51:28.887Z"
   },
   {
    "duration": 9853,
    "start_time": "2021-12-23T12:51:28.947Z"
   },
   {
    "duration": 6,
    "start_time": "2021-12-23T12:51:38.802Z"
   },
   {
    "duration": 147,
    "start_time": "2021-12-23T12:51:38.810Z"
   },
   {
    "duration": 8680,
    "start_time": "2021-12-23T12:51:38.963Z"
   },
   {
    "duration": 130,
    "start_time": "2021-12-23T12:51:47.645Z"
   },
   {
    "duration": 5,
    "start_time": "2021-12-23T12:51:47.778Z"
   },
   {
    "duration": 8,
    "start_time": "2021-12-23T12:51:47.786Z"
   },
   {
    "duration": 6,
    "start_time": "2021-12-23T12:51:47.796Z"
   },
   {
    "duration": 6,
    "start_time": "2021-12-23T12:51:47.804Z"
   },
   {
    "duration": 6,
    "start_time": "2021-12-23T12:51:47.813Z"
   },
   {
    "duration": 41,
    "start_time": "2021-12-23T12:51:47.821Z"
   },
   {
    "duration": 2099,
    "start_time": "2021-12-23T12:51:47.865Z"
   },
   {
    "duration": 3,
    "start_time": "2021-12-23T12:51:49.967Z"
   },
   {
    "duration": 4,
    "start_time": "2021-12-23T12:51:49.973Z"
   },
   {
    "duration": 7,
    "start_time": "2021-12-23T12:51:49.980Z"
   },
   {
    "duration": 4536,
    "start_time": "2021-12-23T12:55:32.780Z"
   },
   {
    "duration": 4,
    "start_time": "2021-12-23T12:55:37.320Z"
   },
   {
    "duration": 3517,
    "start_time": "2021-12-23T12:55:37.327Z"
   },
   {
    "duration": 1517,
    "start_time": "2021-12-23T12:55:40.847Z"
   },
   {
    "duration": 4,
    "start_time": "2021-12-23T12:55:42.367Z"
   },
   {
    "duration": 5,
    "start_time": "2021-12-23T12:55:42.374Z"
   },
   {
    "duration": 188,
    "start_time": "2021-12-23T12:55:42.382Z"
   },
   {
    "duration": 25,
    "start_time": "2021-12-23T12:55:42.572Z"
   },
   {
    "duration": 6,
    "start_time": "2021-12-23T12:55:42.601Z"
   },
   {
    "duration": 375,
    "start_time": "2021-12-23T12:55:42.610Z"
   },
   {
    "duration": 124,
    "start_time": "2021-12-23T12:55:42.987Z"
   },
   {
    "duration": 75,
    "start_time": "2021-12-23T12:55:43.114Z"
   },
   {
    "duration": 76,
    "start_time": "2021-12-23T12:55:43.191Z"
   },
   {
    "duration": 43,
    "start_time": "2021-12-23T12:55:43.270Z"
   },
   {
    "duration": 97,
    "start_time": "2021-12-23T12:55:43.316Z"
   },
   {
    "duration": 9,
    "start_time": "2021-12-23T12:55:43.415Z"
   },
   {
    "duration": 7,
    "start_time": "2021-12-23T12:55:43.426Z"
   },
   {
    "duration": 8,
    "start_time": "2021-12-23T12:55:43.436Z"
   },
   {
    "duration": 8,
    "start_time": "2021-12-23T12:55:43.464Z"
   },
   {
    "duration": 9,
    "start_time": "2021-12-23T12:55:43.474Z"
   },
   {
    "duration": 6,
    "start_time": "2021-12-23T12:55:43.486Z"
   },
   {
    "duration": 12,
    "start_time": "2021-12-23T12:55:43.495Z"
   },
   {
    "duration": 7,
    "start_time": "2021-12-23T12:55:43.510Z"
   },
   {
    "duration": 53,
    "start_time": "2021-12-23T12:55:43.521Z"
   },
   {
    "duration": 10,
    "start_time": "2021-12-23T12:55:43.577Z"
   },
   {
    "duration": 528,
    "start_time": "2021-12-23T12:55:43.590Z"
   },
   {
    "duration": 272,
    "start_time": "2021-12-23T12:55:44.125Z"
   },
   {
    "duration": 373,
    "start_time": "2021-12-23T12:55:44.402Z"
   },
   {
    "duration": 7,
    "start_time": "2021-12-23T12:55:44.778Z"
   },
   {
    "duration": 196,
    "start_time": "2021-12-23T12:55:44.788Z"
   },
   {
    "duration": 5,
    "start_time": "2021-12-23T12:55:44.986Z"
   },
   {
    "duration": 6,
    "start_time": "2021-12-23T12:55:44.994Z"
   },
   {
    "duration": 401,
    "start_time": "2021-12-23T12:55:45.003Z"
   },
   {
    "duration": 717,
    "start_time": "2021-12-23T12:55:45.407Z"
   },
   {
    "duration": 63,
    "start_time": "2021-12-23T12:55:46.127Z"
   },
   {
    "duration": 70,
    "start_time": "2021-12-23T12:55:46.193Z"
   },
   {
    "duration": 9532,
    "start_time": "2021-12-23T12:55:46.265Z"
   },
   {
    "duration": 4,
    "start_time": "2021-12-23T12:55:55.799Z"
   },
   {
    "duration": 138,
    "start_time": "2021-12-23T12:55:55.806Z"
   },
   {
    "duration": 9478,
    "start_time": "2021-12-23T12:55:55.947Z"
   },
   {
    "duration": 140,
    "start_time": "2021-12-23T12:56:05.428Z"
   },
   {
    "duration": 6,
    "start_time": "2021-12-23T12:56:05.571Z"
   },
   {
    "duration": 5,
    "start_time": "2021-12-23T12:56:05.580Z"
   },
   {
    "duration": 5,
    "start_time": "2021-12-23T12:56:05.588Z"
   },
   {
    "duration": 4,
    "start_time": "2021-12-23T12:56:05.596Z"
   },
   {
    "duration": 7,
    "start_time": "2021-12-23T12:56:05.604Z"
   },
   {
    "duration": 51,
    "start_time": "2021-12-23T12:56:05.614Z"
   },
   {
    "duration": 2004,
    "start_time": "2021-12-23T12:56:05.667Z"
   },
   {
    "duration": 89,
    "start_time": "2021-12-23T12:56:07.675Z"
   },
   {
    "duration": 6,
    "start_time": "2021-12-23T12:56:07.767Z"
   },
   {
    "duration": 7,
    "start_time": "2021-12-23T12:57:20.633Z"
   },
   {
    "duration": 4524,
    "start_time": "2021-12-23T12:57:53.874Z"
   },
   {
    "duration": 3,
    "start_time": "2021-12-23T12:57:58.401Z"
   },
   {
    "duration": 2839,
    "start_time": "2021-12-23T12:57:58.408Z"
   },
   {
    "duration": 1373,
    "start_time": "2021-12-23T12:58:01.250Z"
   },
   {
    "duration": 3,
    "start_time": "2021-12-23T12:58:02.626Z"
   },
   {
    "duration": 6,
    "start_time": "2021-12-23T12:58:02.632Z"
   },
   {
    "duration": 176,
    "start_time": "2021-12-23T12:58:02.641Z"
   },
   {
    "duration": 41,
    "start_time": "2021-12-23T12:58:02.821Z"
   },
   {
    "duration": 3,
    "start_time": "2021-12-23T12:58:02.866Z"
   },
   {
    "duration": 314,
    "start_time": "2021-12-23T12:58:02.872Z"
   },
   {
    "duration": 116,
    "start_time": "2021-12-23T12:58:03.188Z"
   },
   {
    "duration": 59,
    "start_time": "2021-12-23T12:58:03.306Z"
   },
   {
    "duration": 61,
    "start_time": "2021-12-23T12:58:03.368Z"
   },
   {
    "duration": 64,
    "start_time": "2021-12-23T12:58:03.431Z"
   },
   {
    "duration": 79,
    "start_time": "2021-12-23T12:58:03.497Z"
   },
   {
    "duration": 9,
    "start_time": "2021-12-23T12:58:03.578Z"
   },
   {
    "duration": 5,
    "start_time": "2021-12-23T12:58:03.589Z"
   },
   {
    "duration": 7,
    "start_time": "2021-12-23T12:58:03.597Z"
   },
   {
    "duration": 7,
    "start_time": "2021-12-23T12:58:03.607Z"
   },
   {
    "duration": 8,
    "start_time": "2021-12-23T12:58:03.616Z"
   },
   {
    "duration": 37,
    "start_time": "2021-12-23T12:58:03.627Z"
   },
   {
    "duration": 10,
    "start_time": "2021-12-23T12:58:03.667Z"
   },
   {
    "duration": 5,
    "start_time": "2021-12-23T12:58:03.684Z"
   },
   {
    "duration": 11,
    "start_time": "2021-12-23T12:58:03.692Z"
   },
   {
    "duration": 10,
    "start_time": "2021-12-23T12:58:03.705Z"
   },
   {
    "duration": 485,
    "start_time": "2021-12-23T12:58:03.717Z"
   },
   {
    "duration": 161,
    "start_time": "2021-12-23T12:58:04.204Z"
   },
   {
    "duration": 231,
    "start_time": "2021-12-23T12:58:04.368Z"
   },
   {
    "duration": 5,
    "start_time": "2021-12-23T12:58:04.602Z"
   },
   {
    "duration": 120,
    "start_time": "2021-12-23T12:58:04.609Z"
   },
   {
    "duration": 3,
    "start_time": "2021-12-23T12:58:04.732Z"
   },
   {
    "duration": 26,
    "start_time": "2021-12-23T12:58:04.738Z"
   },
   {
    "duration": 279,
    "start_time": "2021-12-23T12:58:04.767Z"
   },
   {
    "duration": 625,
    "start_time": "2021-12-23T12:58:05.049Z"
   },
   {
    "duration": 47,
    "start_time": "2021-12-23T12:58:05.677Z"
   },
   {
    "duration": 76,
    "start_time": "2021-12-23T12:58:05.726Z"
   },
   {
    "duration": 8816,
    "start_time": "2021-12-23T12:58:05.804Z"
   },
   {
    "duration": 4,
    "start_time": "2021-12-23T12:58:14.622Z"
   },
   {
    "duration": 142,
    "start_time": "2021-12-23T12:58:14.628Z"
   },
   {
    "duration": 8780,
    "start_time": "2021-12-23T12:58:14.773Z"
   },
   {
    "duration": 132,
    "start_time": "2021-12-23T12:58:23.555Z"
   },
   {
    "duration": 5,
    "start_time": "2021-12-23T12:58:23.690Z"
   },
   {
    "duration": 6,
    "start_time": "2021-12-23T12:58:23.698Z"
   },
   {
    "duration": 7,
    "start_time": "2021-12-23T12:58:23.706Z"
   },
   {
    "duration": 5,
    "start_time": "2021-12-23T12:58:23.715Z"
   },
   {
    "duration": 7,
    "start_time": "2021-12-23T12:58:23.722Z"
   },
   {
    "duration": 3,
    "start_time": "2021-12-23T12:58:23.763Z"
   },
   {
    "duration": 2114,
    "start_time": "2021-12-23T12:58:23.768Z"
   },
   {
    "duration": 5,
    "start_time": "2021-12-23T12:58:25.965Z"
   },
   {
    "duration": 91,
    "start_time": "2021-12-23T12:58:25.975Z"
   },
   {
    "duration": 6,
    "start_time": "2021-12-23T12:58:26.068Z"
   },
   {
    "duration": 20,
    "start_time": "2021-12-23T12:58:49.289Z"
   },
   {
    "duration": 20,
    "start_time": "2021-12-23T12:59:20.804Z"
   },
   {
    "duration": 22,
    "start_time": "2021-12-23T12:59:27.110Z"
   },
   {
    "duration": 5,
    "start_time": "2021-12-23T12:59:50.241Z"
   },
   {
    "duration": 5,
    "start_time": "2021-12-23T12:59:57.922Z"
   },
   {
    "duration": 40,
    "start_time": "2021-12-23T13:00:09.478Z"
   },
   {
    "duration": 9369,
    "start_time": "2021-12-23T13:00:10.074Z"
   },
   {
    "duration": 4,
    "start_time": "2021-12-23T13:00:19.446Z"
   },
   {
    "duration": 110,
    "start_time": "2021-12-23T13:00:19.464Z"
   },
   {
    "duration": 8773,
    "start_time": "2021-12-23T13:00:19.578Z"
   },
   {
    "duration": 92,
    "start_time": "2021-12-23T13:00:28.362Z"
   },
   {
    "duration": 5,
    "start_time": "2021-12-23T13:00:28.463Z"
   },
   {
    "duration": 6,
    "start_time": "2021-12-23T13:00:28.471Z"
   },
   {
    "duration": 5,
    "start_time": "2021-12-23T13:00:28.481Z"
   },
   {
    "duration": 3,
    "start_time": "2021-12-23T13:00:33.934Z"
   },
   {
    "duration": 7,
    "start_time": "2021-12-23T13:00:34.404Z"
   },
   {
    "duration": 4,
    "start_time": "2021-12-23T13:00:34.954Z"
   },
   {
    "duration": 1052,
    "start_time": "2021-12-23T13:00:35.412Z"
   },
   {
    "duration": 4,
    "start_time": "2021-12-23T13:00:38.353Z"
   },
   {
    "duration": 7,
    "start_time": "2021-12-23T13:00:38.576Z"
   },
   {
    "duration": 6,
    "start_time": "2021-12-23T13:00:40.144Z"
   },
   {
    "duration": 6,
    "start_time": "2021-12-23T13:00:45.933Z"
   },
   {
    "duration": 6,
    "start_time": "2021-12-23T13:00:59.036Z"
   },
   {
    "duration": 1431,
    "start_time": "2021-12-23T13:01:14.533Z"
   },
   {
    "duration": 48832,
    "start_time": "2021-12-23T13:01:24.654Z"
   },
   {
    "duration": 59518,
    "start_time": "2021-12-23T13:02:40.440Z"
   },
   {
    "duration": 3751,
    "start_time": "2021-12-23T13:04:03.624Z"
   },
   {
    "duration": 4,
    "start_time": "2021-12-23T13:04:07.378Z"
   },
   {
    "duration": 2149,
    "start_time": "2021-12-23T13:04:07.385Z"
   },
   {
    "duration": 985,
    "start_time": "2021-12-23T13:04:09.537Z"
   },
   {
    "duration": 3,
    "start_time": "2021-12-23T13:04:10.524Z"
   },
   {
    "duration": 7,
    "start_time": "2021-12-23T13:04:10.529Z"
   },
   {
    "duration": 174,
    "start_time": "2021-12-23T13:04:10.539Z"
   },
   {
    "duration": 23,
    "start_time": "2021-12-23T13:04:10.717Z"
   },
   {
    "duration": 20,
    "start_time": "2021-12-23T13:04:10.743Z"
   },
   {
    "duration": 338,
    "start_time": "2021-12-23T13:04:10.766Z"
   },
   {
    "duration": 126,
    "start_time": "2021-12-23T13:04:11.106Z"
   },
   {
    "duration": 52,
    "start_time": "2021-12-23T13:04:11.234Z"
   },
   {
    "duration": 76,
    "start_time": "2021-12-23T13:04:11.288Z"
   },
   {
    "duration": 48,
    "start_time": "2021-12-23T13:04:11.367Z"
   },
   {
    "duration": 84,
    "start_time": "2021-12-23T13:04:11.417Z"
   },
   {
    "duration": 8,
    "start_time": "2021-12-23T13:04:11.504Z"
   },
   {
    "duration": 5,
    "start_time": "2021-12-23T13:04:11.514Z"
   },
   {
    "duration": 8,
    "start_time": "2021-12-23T13:04:11.521Z"
   },
   {
    "duration": 8,
    "start_time": "2021-12-23T13:04:11.531Z"
   },
   {
    "duration": 9,
    "start_time": "2021-12-23T13:04:11.563Z"
   },
   {
    "duration": 7,
    "start_time": "2021-12-23T13:04:11.574Z"
   },
   {
    "duration": 9,
    "start_time": "2021-12-23T13:04:11.583Z"
   },
   {
    "duration": 3,
    "start_time": "2021-12-23T13:04:11.598Z"
   },
   {
    "duration": 9,
    "start_time": "2021-12-23T13:04:11.605Z"
   },
   {
    "duration": 7,
    "start_time": "2021-12-23T13:04:11.616Z"
   },
   {
    "duration": 376,
    "start_time": "2021-12-23T13:04:11.625Z"
   },
   {
    "duration": 163,
    "start_time": "2021-12-23T13:04:12.004Z"
   },
   {
    "duration": 234,
    "start_time": "2021-12-23T13:04:12.170Z"
   },
   {
    "duration": 5,
    "start_time": "2021-12-23T13:04:12.407Z"
   },
   {
    "duration": 128,
    "start_time": "2021-12-23T13:04:12.415Z"
   },
   {
    "duration": 4,
    "start_time": "2021-12-23T13:04:12.545Z"
   },
   {
    "duration": 17,
    "start_time": "2021-12-23T13:04:12.551Z"
   },
   {
    "duration": 292,
    "start_time": "2021-12-23T13:04:12.571Z"
   },
   {
    "duration": 697,
    "start_time": "2021-12-23T13:04:12.866Z"
   },
   {
    "duration": 33,
    "start_time": "2021-12-23T13:04:13.565Z"
   },
   {
    "duration": 63,
    "start_time": "2021-12-23T13:04:13.601Z"
   },
   {
    "duration": 8774,
    "start_time": "2021-12-23T13:04:13.668Z"
   },
   {
    "duration": 5,
    "start_time": "2021-12-23T13:04:22.444Z"
   },
   {
    "duration": 119,
    "start_time": "2021-12-23T13:04:22.451Z"
   },
   {
    "duration": 8608,
    "start_time": "2021-12-23T13:04:22.573Z"
   },
   {
    "duration": 104,
    "start_time": "2021-12-23T13:04:31.184Z"
   },
   {
    "duration": 5,
    "start_time": "2021-12-23T13:04:31.291Z"
   },
   {
    "duration": 14,
    "start_time": "2021-12-23T13:04:31.299Z"
   },
   {
    "duration": 11,
    "start_time": "2021-12-23T13:04:31.315Z"
   },
   {
    "duration": 25,
    "start_time": "2021-12-23T13:04:31.328Z"
   },
   {
    "duration": 14,
    "start_time": "2021-12-23T13:04:31.355Z"
   },
   {
    "duration": 20,
    "start_time": "2021-12-23T13:04:31.372Z"
   },
   {
    "duration": 1075,
    "start_time": "2021-12-23T13:04:31.394Z"
   },
   {
    "duration": 92,
    "start_time": "2021-12-23T13:04:32.473Z"
   },
   {
    "duration": 7,
    "start_time": "2021-12-23T13:04:32.568Z"
   },
   {
    "duration": 6,
    "start_time": "2021-12-23T13:04:32.577Z"
   },
   {
    "duration": 61329,
    "start_time": "2021-12-23T13:04:32.586Z"
   },
   {
    "duration": 3,
    "start_time": "2021-12-23T13:05:33.918Z"
   },
   {
    "duration": 20,
    "start_time": "2021-12-23T13:05:33.924Z"
   },
   {
    "duration": 50454,
    "start_time": "2021-12-23T13:05:33.947Z"
   },
   {
    "duration": 586,
    "start_time": "2021-12-23T13:06:23.818Z"
   },
   {
    "duration": 584,
    "start_time": "2021-12-23T13:06:23.821Z"
   },
   {
    "duration": 583,
    "start_time": "2021-12-23T13:06:23.823Z"
   },
   {
    "duration": 487,
    "start_time": "2021-12-23T13:06:23.921Z"
   },
   {
    "duration": 484,
    "start_time": "2021-12-23T13:06:23.925Z"
   },
   {
    "duration": 483,
    "start_time": "2021-12-23T13:06:23.928Z"
   },
   {
    "duration": 479,
    "start_time": "2021-12-23T13:06:23.933Z"
   },
   {
    "duration": 478,
    "start_time": "2021-12-23T13:06:23.936Z"
   },
   {
    "duration": 477,
    "start_time": "2021-12-23T13:06:23.938Z"
   },
   {
    "duration": 475,
    "start_time": "2021-12-23T13:06:23.942Z"
   },
   {
    "duration": 473,
    "start_time": "2021-12-23T13:06:23.945Z"
   },
   {
    "duration": 471,
    "start_time": "2021-12-23T13:06:23.948Z"
   },
   {
    "duration": 4,
    "start_time": "2021-12-23T13:08:55.598Z"
   },
   {
    "duration": 137367,
    "start_time": "2021-12-23T13:08:55.607Z"
   },
   {
    "duration": 4,
    "start_time": "2021-12-23T13:11:12.977Z"
   },
   {
    "duration": 9,
    "start_time": "2021-12-23T13:11:12.984Z"
   },
   {
    "duration": 397295,
    "start_time": "2021-12-23T13:11:12.995Z"
   },
   {
    "duration": 4,
    "start_time": "2021-12-23T13:17:50.292Z"
   },
   {
    "duration": 7,
    "start_time": "2021-12-23T13:17:50.299Z"
   },
   {
    "duration": 623055,
    "start_time": "2021-12-23T13:17:50.309Z"
   },
   {
    "duration": 3,
    "start_time": "2021-12-23T13:28:13.368Z"
   },
   {
    "duration": 24,
    "start_time": "2021-12-23T13:28:13.374Z"
   },
   {
    "duration": 164360,
    "start_time": "2021-12-23T13:28:13.400Z"
   },
   {
    "duration": 3,
    "start_time": "2021-12-23T13:30:57.763Z"
   },
   {
    "duration": 17,
    "start_time": "2021-12-23T13:30:57.769Z"
   },
   {
    "duration": 11,
    "start_time": "2021-12-23T13:30:57.789Z"
   },
   {
    "duration": 12948,
    "start_time": "2021-12-23T13:33:22.093Z"
   },
   {
    "duration": 18124,
    "start_time": "2021-12-23T13:36:39.159Z"
   },
   {
    "duration": 7,
    "start_time": "2021-12-23T13:37:52.977Z"
   },
   {
    "duration": 864074,
    "start_time": "2021-12-23T13:39:37.603Z"
   },
   {
    "duration": 8,
    "start_time": "2021-12-23T14:03:33.283Z"
   },
   {
    "duration": 2549021,
    "start_time": "2021-12-23T14:06:52.770Z"
   },
   {
    "duration": 6,
    "start_time": "2021-12-23T14:55:26.342Z"
   },
   {
    "duration": 6,
    "start_time": "2021-12-23T14:55:30.485Z"
   },
   {
    "duration": 8,
    "start_time": "2021-12-23T14:55:36.822Z"
   },
   {
    "duration": 5,
    "start_time": "2021-12-23T14:55:42.446Z"
   },
   {
    "duration": 18,
    "start_time": "2021-12-23T14:55:46.293Z"
   },
   {
    "duration": 3547,
    "start_time": "2021-12-23T16:56:51.351Z"
   },
   {
    "duration": 4,
    "start_time": "2021-12-23T16:56:54.900Z"
   },
   {
    "duration": 1947,
    "start_time": "2021-12-23T16:56:54.908Z"
   },
   {
    "duration": 893,
    "start_time": "2021-12-23T16:56:56.858Z"
   },
   {
    "duration": 3,
    "start_time": "2021-12-23T16:56:57.754Z"
   },
   {
    "duration": 6,
    "start_time": "2021-12-23T16:56:57.763Z"
   },
   {
    "duration": 177,
    "start_time": "2021-12-23T16:56:57.771Z"
   },
   {
    "duration": 33,
    "start_time": "2021-12-23T16:56:57.952Z"
   },
   {
    "duration": 3,
    "start_time": "2021-12-23T16:56:57.988Z"
   },
   {
    "duration": 328,
    "start_time": "2021-12-23T16:56:57.993Z"
   },
   {
    "duration": 129,
    "start_time": "2021-12-23T16:56:58.324Z"
   },
   {
    "duration": 49,
    "start_time": "2021-12-23T16:56:58.455Z"
   },
   {
    "duration": 89,
    "start_time": "2021-12-23T16:56:58.506Z"
   },
   {
    "duration": 42,
    "start_time": "2021-12-23T16:56:58.597Z"
   },
   {
    "duration": 78,
    "start_time": "2021-12-23T16:56:58.642Z"
   },
   {
    "duration": 9,
    "start_time": "2021-12-23T16:56:58.723Z"
   },
   {
    "duration": 4,
    "start_time": "2021-12-23T16:56:58.736Z"
   },
   {
    "duration": 24,
    "start_time": "2021-12-23T16:56:58.743Z"
   },
   {
    "duration": 6,
    "start_time": "2021-12-23T16:56:58.770Z"
   },
   {
    "duration": 9,
    "start_time": "2021-12-23T16:56:58.779Z"
   },
   {
    "duration": 7,
    "start_time": "2021-12-23T16:56:58.791Z"
   },
   {
    "duration": 10,
    "start_time": "2021-12-23T16:56:58.801Z"
   },
   {
    "duration": 47,
    "start_time": "2021-12-23T16:56:58.817Z"
   },
   {
    "duration": 8,
    "start_time": "2021-12-23T16:56:58.868Z"
   },
   {
    "duration": 8,
    "start_time": "2021-12-23T16:56:58.878Z"
   },
   {
    "duration": 360,
    "start_time": "2021-12-23T16:56:58.888Z"
   },
   {
    "duration": 163,
    "start_time": "2021-12-23T16:56:59.250Z"
   },
   {
    "duration": 247,
    "start_time": "2021-12-23T16:56:59.416Z"
   },
   {
    "duration": 6,
    "start_time": "2021-12-23T16:56:59.665Z"
   },
   {
    "duration": 122,
    "start_time": "2021-12-23T16:56:59.674Z"
   },
   {
    "duration": 3,
    "start_time": "2021-12-23T16:56:59.798Z"
   },
   {
    "duration": 6,
    "start_time": "2021-12-23T16:56:59.804Z"
   },
   {
    "duration": 297,
    "start_time": "2021-12-23T16:56:59.813Z"
   },
   {
    "duration": 651,
    "start_time": "2021-12-23T16:57:00.112Z"
   },
   {
    "duration": 30,
    "start_time": "2021-12-23T16:57:00.765Z"
   },
   {
    "duration": 40,
    "start_time": "2021-12-23T16:57:00.798Z"
   },
   {
    "duration": 8859,
    "start_time": "2021-12-23T16:57:00.840Z"
   },
   {
    "duration": 5,
    "start_time": "2021-12-23T16:57:09.702Z"
   },
   {
    "duration": 119,
    "start_time": "2021-12-23T16:57:09.709Z"
   },
   {
    "duration": 8699,
    "start_time": "2021-12-23T16:57:09.830Z"
   },
   {
    "duration": 98,
    "start_time": "2021-12-23T16:57:18.531Z"
   },
   {
    "duration": 4,
    "start_time": "2021-12-23T16:57:18.632Z"
   },
   {
    "duration": 24,
    "start_time": "2021-12-23T16:57:18.638Z"
   },
   {
    "duration": 4,
    "start_time": "2021-12-23T16:57:18.665Z"
   },
   {
    "duration": 5,
    "start_time": "2021-12-23T16:57:18.671Z"
   },
   {
    "duration": 7,
    "start_time": "2021-12-23T16:57:18.679Z"
   },
   {
    "duration": 5,
    "start_time": "2021-12-23T16:57:18.689Z"
   },
   {
    "duration": 1084,
    "start_time": "2021-12-23T16:57:18.697Z"
   },
   {
    "duration": 5,
    "start_time": "2021-12-23T16:57:19.865Z"
   },
   {
    "duration": 95,
    "start_time": "2021-12-23T16:57:19.872Z"
   },
   {
    "duration": 7,
    "start_time": "2021-12-23T16:57:19.969Z"
   },
   {
    "duration": 60175,
    "start_time": "2021-12-23T16:57:19.978Z"
   },
   {
    "duration": 3,
    "start_time": "2021-12-23T16:58:20.163Z"
   },
   {
    "duration": 9,
    "start_time": "2021-12-23T16:58:20.169Z"
   },
   {
    "duration": 175514,
    "start_time": "2021-12-23T16:58:20.180Z"
   },
   {
    "duration": 4,
    "start_time": "2021-12-23T17:01:15.696Z"
   },
   {
    "duration": 10,
    "start_time": "2021-12-23T17:01:15.702Z"
   },
   {
    "duration": 187713,
    "start_time": "2021-12-23T17:01:15.714Z"
   },
   {
    "duration": 49,
    "start_time": "2021-12-23T17:04:23.382Z"
   },
   {
    "duration": 43,
    "start_time": "2021-12-23T17:04:23.391Z"
   },
   {
    "duration": 42,
    "start_time": "2021-12-23T17:04:23.394Z"
   },
   {
    "duration": 41,
    "start_time": "2021-12-23T17:04:23.397Z"
   },
   {
    "duration": 39,
    "start_time": "2021-12-23T17:04:23.401Z"
   },
   {
    "duration": 40,
    "start_time": "2021-12-23T17:04:23.403Z"
   },
   {
    "duration": 38,
    "start_time": "2021-12-23T17:04:23.407Z"
   },
   {
    "duration": 38,
    "start_time": "2021-12-23T17:04:23.409Z"
   },
   {
    "duration": 36,
    "start_time": "2021-12-23T17:04:23.413Z"
   },
   {
    "duration": 980972,
    "start_time": "2021-12-23T17:04:44.204Z"
   },
   {
    "duration": 4,
    "start_time": "2021-12-23T17:21:05.179Z"
   },
   {
    "duration": 17,
    "start_time": "2021-12-23T17:21:05.186Z"
   },
   {
    "duration": 1084860,
    "start_time": "2021-12-23T17:21:05.206Z"
   },
   {
    "duration": 3,
    "start_time": "2021-12-23T17:39:10.069Z"
   },
   {
    "duration": 14,
    "start_time": "2021-12-23T17:39:10.075Z"
   },
   {
    "duration": 161830,
    "start_time": "2021-12-23T17:39:10.091Z"
   },
   {
    "duration": 3,
    "start_time": "2021-12-23T17:41:51.924Z"
   },
   {
    "duration": 5,
    "start_time": "2021-12-23T17:41:51.930Z"
   },
   {
    "duration": 30,
    "start_time": "2021-12-23T17:41:51.938Z"
   },
   {
    "duration": 295,
    "start_time": "2021-12-23T17:50:12.800Z"
   },
   {
    "duration": 490,
    "start_time": "2021-12-23T17:50:17.825Z"
   },
   {
    "duration": 6,
    "start_time": "2021-12-23T17:50:24.660Z"
   },
   {
    "duration": 102,
    "start_time": "2021-12-23T17:50:39.483Z"
   },
   {
    "duration": 6,
    "start_time": "2021-12-23T17:50:47.852Z"
   },
   {
    "duration": 7,
    "start_time": "2021-12-23T17:51:00.471Z"
   },
   {
    "duration": 6,
    "start_time": "2021-12-23T17:51:05.250Z"
   },
   {
    "duration": 43,
    "start_time": "2021-12-23T17:51:28.783Z"
   },
   {
    "duration": 3652,
    "start_time": "2021-12-23T17:52:24.044Z"
   },
   {
    "duration": 3,
    "start_time": "2021-12-23T17:52:27.699Z"
   },
   {
    "duration": 2078,
    "start_time": "2021-12-23T17:52:27.706Z"
   },
   {
    "duration": 941,
    "start_time": "2021-12-23T17:52:29.787Z"
   },
   {
    "duration": 4,
    "start_time": "2021-12-23T17:52:30.730Z"
   },
   {
    "duration": 12,
    "start_time": "2021-12-23T17:52:30.736Z"
   },
   {
    "duration": 175,
    "start_time": "2021-12-23T17:52:30.751Z"
   },
   {
    "duration": 39,
    "start_time": "2021-12-23T17:52:30.929Z"
   },
   {
    "duration": 13,
    "start_time": "2021-12-23T17:52:30.971Z"
   },
   {
    "duration": 313,
    "start_time": "2021-12-23T17:52:30.986Z"
   },
   {
    "duration": 128,
    "start_time": "2021-12-23T17:52:31.302Z"
   },
   {
    "duration": 53,
    "start_time": "2021-12-23T17:52:31.432Z"
   },
   {
    "duration": 84,
    "start_time": "2021-12-23T17:52:31.488Z"
   },
   {
    "duration": 42,
    "start_time": "2021-12-23T17:52:31.574Z"
   },
   {
    "duration": 89,
    "start_time": "2021-12-23T17:52:31.619Z"
   },
   {
    "duration": 9,
    "start_time": "2021-12-23T17:52:31.710Z"
   },
   {
    "duration": 5,
    "start_time": "2021-12-23T17:52:31.721Z"
   },
   {
    "duration": 9,
    "start_time": "2021-12-23T17:52:31.728Z"
   },
   {
    "duration": 25,
    "start_time": "2021-12-23T17:52:31.739Z"
   },
   {
    "duration": 8,
    "start_time": "2021-12-23T17:52:31.766Z"
   },
   {
    "duration": 7,
    "start_time": "2021-12-23T17:52:31.777Z"
   },
   {
    "duration": 10,
    "start_time": "2021-12-23T17:52:31.786Z"
   },
   {
    "duration": 3,
    "start_time": "2021-12-23T17:52:31.804Z"
   },
   {
    "duration": 9,
    "start_time": "2021-12-23T17:52:31.811Z"
   },
   {
    "duration": 42,
    "start_time": "2021-12-23T17:52:31.822Z"
   },
   {
    "duration": 356,
    "start_time": "2021-12-23T17:52:31.866Z"
   },
   {
    "duration": 173,
    "start_time": "2021-12-23T17:52:32.224Z"
   },
   {
    "duration": 234,
    "start_time": "2021-12-23T17:52:32.400Z"
   },
   {
    "duration": 5,
    "start_time": "2021-12-23T17:52:32.636Z"
   },
   {
    "duration": 112,
    "start_time": "2021-12-23T17:52:32.643Z"
   },
   {
    "duration": 3,
    "start_time": "2021-12-23T17:52:32.762Z"
   },
   {
    "duration": 7,
    "start_time": "2021-12-23T17:52:32.767Z"
   },
   {
    "duration": 287,
    "start_time": "2021-12-23T17:52:32.777Z"
   },
   {
    "duration": 623,
    "start_time": "2021-12-23T17:52:33.067Z"
   },
   {
    "duration": 31,
    "start_time": "2021-12-23T17:52:33.692Z"
   },
   {
    "duration": 56,
    "start_time": "2021-12-23T17:52:33.725Z"
   },
   {
    "duration": 9165,
    "start_time": "2021-12-23T17:52:33.783Z"
   },
   {
    "duration": 13,
    "start_time": "2021-12-23T17:52:42.950Z"
   },
   {
    "duration": 113,
    "start_time": "2021-12-23T17:52:42.966Z"
   },
   {
    "duration": 8973,
    "start_time": "2021-12-23T17:52:43.082Z"
   },
   {
    "duration": 92,
    "start_time": "2021-12-23T17:52:52.057Z"
   },
   {
    "duration": 5,
    "start_time": "2021-12-23T17:52:52.162Z"
   },
   {
    "duration": 4,
    "start_time": "2021-12-23T17:52:52.170Z"
   },
   {
    "duration": 4,
    "start_time": "2021-12-23T17:52:52.176Z"
   },
   {
    "duration": 710,
    "start_time": "2021-12-23T17:52:52.183Z"
   },
   {
    "duration": 181,
    "start_time": "2021-12-23T17:52:52.714Z"
   },
   {
    "duration": 180,
    "start_time": "2021-12-23T17:52:52.717Z"
   },
   {
    "duration": 178,
    "start_time": "2021-12-23T17:52:52.720Z"
   },
   {
    "duration": 177,
    "start_time": "2021-12-23T17:52:52.723Z"
   },
   {
    "duration": 175,
    "start_time": "2021-12-23T17:52:52.726Z"
   },
   {
    "duration": 174,
    "start_time": "2021-12-23T17:52:52.729Z"
   },
   {
    "duration": 173,
    "start_time": "2021-12-23T17:52:52.731Z"
   },
   {
    "duration": 171,
    "start_time": "2021-12-23T17:52:52.734Z"
   },
   {
    "duration": 170,
    "start_time": "2021-12-23T17:52:52.737Z"
   },
   {
    "duration": 169,
    "start_time": "2021-12-23T17:52:52.740Z"
   },
   {
    "duration": 164,
    "start_time": "2021-12-23T17:52:52.747Z"
   },
   {
    "duration": 162,
    "start_time": "2021-12-23T17:52:52.750Z"
   },
   {
    "duration": 160,
    "start_time": "2021-12-23T17:52:52.753Z"
   },
   {
    "duration": 159,
    "start_time": "2021-12-23T17:52:52.756Z"
   },
   {
    "duration": 157,
    "start_time": "2021-12-23T17:52:52.759Z"
   },
   {
    "duration": 157,
    "start_time": "2021-12-23T17:52:52.761Z"
   },
   {
    "duration": 156,
    "start_time": "2021-12-23T17:52:52.764Z"
   },
   {
    "duration": 155,
    "start_time": "2021-12-23T17:52:52.767Z"
   },
   {
    "duration": 147,
    "start_time": "2021-12-23T17:52:52.776Z"
   },
   {
    "duration": 146,
    "start_time": "2021-12-23T17:52:52.779Z"
   },
   {
    "duration": 138,
    "start_time": "2021-12-23T17:52:52.788Z"
   },
   {
    "duration": 135,
    "start_time": "2021-12-23T17:52:52.792Z"
   },
   {
    "duration": 135,
    "start_time": "2021-12-23T17:52:52.794Z"
   },
   {
    "duration": 22,
    "start_time": "2021-12-23T17:55:33.886Z"
   },
   {
    "duration": 3747,
    "start_time": "2021-12-23T17:55:42.165Z"
   },
   {
    "duration": 4,
    "start_time": "2021-12-23T17:55:45.916Z"
   },
   {
    "duration": 2043,
    "start_time": "2021-12-23T17:55:45.925Z"
   },
   {
    "duration": 1054,
    "start_time": "2021-12-23T17:55:47.971Z"
   },
   {
    "duration": 3,
    "start_time": "2021-12-23T17:55:49.028Z"
   },
   {
    "duration": 8,
    "start_time": "2021-12-23T17:55:49.034Z"
   },
   {
    "duration": 177,
    "start_time": "2021-12-23T17:55:49.044Z"
   },
   {
    "duration": 39,
    "start_time": "2021-12-23T17:55:49.224Z"
   },
   {
    "duration": 4,
    "start_time": "2021-12-23T17:55:49.267Z"
   },
   {
    "duration": 481,
    "start_time": "2021-12-23T17:55:49.274Z"
   },
   {
    "duration": 131,
    "start_time": "2021-12-23T17:55:49.762Z"
   },
   {
    "duration": 44,
    "start_time": "2021-12-23T17:55:49.895Z"
   },
   {
    "duration": 86,
    "start_time": "2021-12-23T17:55:49.942Z"
   },
   {
    "duration": 56,
    "start_time": "2021-12-23T17:55:50.030Z"
   },
   {
    "duration": 78,
    "start_time": "2021-12-23T17:55:50.088Z"
   },
   {
    "duration": 9,
    "start_time": "2021-12-23T17:55:50.168Z"
   },
   {
    "duration": 5,
    "start_time": "2021-12-23T17:55:50.179Z"
   },
   {
    "duration": 8,
    "start_time": "2021-12-23T17:55:50.187Z"
   },
   {
    "duration": 18,
    "start_time": "2021-12-23T17:55:50.197Z"
   },
   {
    "duration": 8,
    "start_time": "2021-12-23T17:55:50.217Z"
   },
   {
    "duration": 14,
    "start_time": "2021-12-23T17:55:50.227Z"
   },
   {
    "duration": 11,
    "start_time": "2021-12-23T17:55:50.264Z"
   },
   {
    "duration": 3,
    "start_time": "2021-12-23T17:55:50.284Z"
   },
   {
    "duration": 9,
    "start_time": "2021-12-23T17:55:50.291Z"
   },
   {
    "duration": 6,
    "start_time": "2021-12-23T17:55:50.303Z"
   },
   {
    "duration": 403,
    "start_time": "2021-12-23T17:55:50.312Z"
   },
   {
    "duration": 177,
    "start_time": "2021-12-23T17:55:50.718Z"
   },
   {
    "duration": 246,
    "start_time": "2021-12-23T17:55:50.898Z"
   },
   {
    "duration": 7,
    "start_time": "2021-12-23T17:55:51.146Z"
   },
   {
    "duration": 117,
    "start_time": "2021-12-23T17:55:51.162Z"
   },
   {
    "duration": 3,
    "start_time": "2021-12-23T17:55:51.282Z"
   },
   {
    "duration": 6,
    "start_time": "2021-12-23T17:55:51.287Z"
   },
   {
    "duration": 335,
    "start_time": "2021-12-23T17:55:51.295Z"
   },
   {
    "duration": 736,
    "start_time": "2021-12-23T17:55:51.633Z"
   },
   {
    "duration": 30,
    "start_time": "2021-12-23T17:55:52.371Z"
   },
   {
    "duration": 58,
    "start_time": "2021-12-23T17:55:52.404Z"
   },
   {
    "duration": 9062,
    "start_time": "2021-12-23T17:55:52.465Z"
   },
   {
    "duration": 3,
    "start_time": "2021-12-23T17:56:01.529Z"
   },
   {
    "duration": 129,
    "start_time": "2021-12-23T17:56:01.535Z"
   },
   {
    "duration": 8777,
    "start_time": "2021-12-23T17:56:01.667Z"
   },
   {
    "duration": 98,
    "start_time": "2021-12-23T17:56:10.447Z"
   },
   {
    "duration": 15,
    "start_time": "2021-12-23T17:56:10.548Z"
   },
   {
    "duration": 4,
    "start_time": "2021-12-23T17:56:10.566Z"
   },
   {
    "duration": 11,
    "start_time": "2021-12-23T17:56:10.573Z"
   },
   {
    "duration": 29,
    "start_time": "2021-12-23T17:56:10.586Z"
   },
   {
    "duration": 3,
    "start_time": "2021-12-23T17:56:10.618Z"
   },
   {
    "duration": 7,
    "start_time": "2021-12-23T17:56:10.623Z"
   },
   {
    "duration": 8,
    "start_time": "2021-12-23T17:56:10.664Z"
   },
   {
    "duration": 1096,
    "start_time": "2021-12-23T17:56:10.675Z"
   },
   {
    "duration": 5,
    "start_time": "2021-12-23T17:56:11.865Z"
   },
   {
    "duration": 98,
    "start_time": "2021-12-23T17:56:11.874Z"
   },
   {
    "duration": 7,
    "start_time": "2021-12-23T17:56:11.974Z"
   },
   {
    "duration": 62774,
    "start_time": "2021-12-23T17:56:11.983Z"
   },
   {
    "duration": 3,
    "start_time": "2021-12-23T17:57:14.763Z"
   },
   {
    "duration": 8,
    "start_time": "2021-12-23T17:57:14.769Z"
   },
   {
    "duration": 186524,
    "start_time": "2021-12-23T17:57:14.780Z"
   },
   {
    "duration": 4,
    "start_time": "2021-12-23T18:00:21.306Z"
   },
   {
    "duration": 26,
    "start_time": "2021-12-23T18:00:21.312Z"
   },
   {
    "duration": 744149,
    "start_time": "2021-12-23T18:00:21.341Z"
   },
   {
    "duration": 4,
    "start_time": "2021-12-23T18:12:45.493Z"
   },
   {
    "duration": 8,
    "start_time": "2021-12-23T18:12:45.499Z"
   },
   {
    "duration": 160657,
    "start_time": "2021-12-23T18:12:45.509Z"
   },
   {
    "duration": 3,
    "start_time": "2021-12-23T18:15:26.168Z"
   },
   {
    "duration": 7,
    "start_time": "2021-12-23T18:15:26.173Z"
   },
   {
    "duration": 165367,
    "start_time": "2021-12-23T18:15:26.184Z"
   },
   {
    "duration": 9,
    "start_time": "2021-12-23T18:18:11.554Z"
   },
   {
    "duration": 8,
    "start_time": "2021-12-23T18:18:11.565Z"
   },
   {
    "duration": 7,
    "start_time": "2021-12-23T18:18:11.579Z"
   },
   {
    "duration": 17,
    "start_time": "2021-12-23T18:21:47.609Z"
   },
   {
    "duration": 2558,
    "start_time": "2021-12-23T20:04:20.504Z"
   },
   {
    "duration": 2,
    "start_time": "2021-12-23T20:04:23.064Z"
   },
   {
    "duration": 1810,
    "start_time": "2021-12-23T20:04:23.069Z"
   },
   {
    "duration": 6163,
    "start_time": "2021-12-23T20:04:24.880Z"
   },
   {
    "duration": 2,
    "start_time": "2021-12-23T20:04:31.045Z"
   },
   {
    "duration": 9,
    "start_time": "2021-12-23T20:04:31.048Z"
   },
   {
    "duration": 116,
    "start_time": "2021-12-23T20:04:31.059Z"
   },
   {
    "duration": 15,
    "start_time": "2021-12-23T20:04:31.177Z"
   },
   {
    "duration": 9,
    "start_time": "2021-12-23T20:04:31.194Z"
   },
   {
    "duration": 216,
    "start_time": "2021-12-23T20:04:31.204Z"
   },
   {
    "duration": 71,
    "start_time": "2021-12-23T20:04:31.422Z"
   },
   {
    "duration": 45,
    "start_time": "2021-12-23T20:04:31.495Z"
   },
   {
    "duration": 45,
    "start_time": "2021-12-23T20:04:31.541Z"
   },
   {
    "duration": 40,
    "start_time": "2021-12-23T20:04:31.587Z"
   },
   {
    "duration": 52,
    "start_time": "2021-12-23T20:04:31.628Z"
   },
   {
    "duration": 5,
    "start_time": "2021-12-23T20:04:31.682Z"
   },
   {
    "duration": 4,
    "start_time": "2021-12-23T20:04:31.689Z"
   },
   {
    "duration": 6,
    "start_time": "2021-12-23T20:04:31.694Z"
   },
   {
    "duration": 6,
    "start_time": "2021-12-23T20:04:31.701Z"
   },
   {
    "duration": 22,
    "start_time": "2021-12-23T20:04:31.708Z"
   },
   {
    "duration": 7,
    "start_time": "2021-12-23T20:04:31.731Z"
   },
   {
    "duration": 6,
    "start_time": "2021-12-23T20:04:31.739Z"
   },
   {
    "duration": 3,
    "start_time": "2021-12-23T20:04:31.748Z"
   },
   {
    "duration": 5,
    "start_time": "2021-12-23T20:04:31.754Z"
   },
   {
    "duration": 7,
    "start_time": "2021-12-23T20:04:31.760Z"
   },
   {
    "duration": 267,
    "start_time": "2021-12-23T20:04:31.768Z"
   },
   {
    "duration": 113,
    "start_time": "2021-12-23T20:04:32.037Z"
   },
   {
    "duration": 144,
    "start_time": "2021-12-23T20:04:32.152Z"
   },
   {
    "duration": 3,
    "start_time": "2021-12-23T20:04:32.298Z"
   },
   {
    "duration": 77,
    "start_time": "2021-12-23T20:04:32.303Z"
   },
   {
    "duration": 2,
    "start_time": "2021-12-23T20:04:32.381Z"
   },
   {
    "duration": 8,
    "start_time": "2021-12-23T20:04:32.384Z"
   },
   {
    "duration": 177,
    "start_time": "2021-12-23T20:04:32.393Z"
   },
   {
    "duration": 363,
    "start_time": "2021-12-23T20:04:32.572Z"
   },
   {
    "duration": 16,
    "start_time": "2021-12-23T20:04:32.937Z"
   },
   {
    "duration": 21,
    "start_time": "2021-12-23T20:04:32.954Z"
   },
   {
    "duration": 6130,
    "start_time": "2021-12-23T20:04:32.977Z"
   },
   {
    "duration": 3,
    "start_time": "2021-12-23T20:04:39.109Z"
   },
   {
    "duration": 82,
    "start_time": "2021-12-23T20:04:39.114Z"
   },
   {
    "duration": 5725,
    "start_time": "2021-12-23T20:04:39.198Z"
   },
   {
    "duration": 47,
    "start_time": "2021-12-23T20:04:44.925Z"
   },
   {
    "duration": 3,
    "start_time": "2021-12-23T20:04:44.974Z"
   },
   {
    "duration": 5,
    "start_time": "2021-12-23T20:04:44.979Z"
   },
   {
    "duration": 5,
    "start_time": "2021-12-23T20:04:44.985Z"
   },
   {
    "duration": 36,
    "start_time": "2021-12-23T20:04:44.991Z"
   },
   {
    "duration": 2,
    "start_time": "2021-12-23T20:04:45.029Z"
   },
   {
    "duration": 5,
    "start_time": "2021-12-23T20:04:45.033Z"
   },
   {
    "duration": 8,
    "start_time": "2021-12-23T20:04:45.040Z"
   },
   {
    "duration": 780,
    "start_time": "2021-12-23T20:04:45.049Z"
   },
   {
    "duration": 95,
    "start_time": "2021-12-23T20:04:45.831Z"
   },
   {
    "duration": 4,
    "start_time": "2021-12-23T20:04:45.928Z"
   },
   {
    "duration": 5,
    "start_time": "2021-12-23T20:04:45.934Z"
   },
   {
    "duration": 41639,
    "start_time": "2021-12-23T20:04:45.941Z"
   },
   {
    "duration": 2,
    "start_time": "2021-12-23T20:05:27.582Z"
   },
   {
    "duration": 8,
    "start_time": "2021-12-23T20:05:27.585Z"
   },
   {
    "duration": 122181,
    "start_time": "2021-12-23T20:05:27.595Z"
   },
   {
    "duration": 2,
    "start_time": "2021-12-23T20:07:29.778Z"
   },
   {
    "duration": 7,
    "start_time": "2021-12-23T20:07:29.782Z"
   },
   {
    "duration": 483791,
    "start_time": "2021-12-23T20:07:29.791Z"
   },
   {
    "duration": 2,
    "start_time": "2021-12-23T20:15:33.628Z"
   },
   {
    "duration": 7,
    "start_time": "2021-12-23T20:15:33.631Z"
   },
   {
    "duration": 85903,
    "start_time": "2021-12-23T20:15:33.639Z"
   },
   {
    "duration": 2,
    "start_time": "2021-12-23T20:16:59.544Z"
   },
   {
    "duration": 7,
    "start_time": "2021-12-23T20:16:59.547Z"
   },
   {
    "duration": 94243,
    "start_time": "2021-12-23T20:16:59.556Z"
   },
   {
    "duration": 2,
    "start_time": "2021-12-23T20:18:33.800Z"
   },
   {
    "duration": 5,
    "start_time": "2021-12-23T20:18:33.803Z"
   },
   {
    "duration": 15,
    "start_time": "2021-12-23T20:18:33.812Z"
   },
   {
    "duration": 5254,
    "start_time": "2021-12-24T08:10:18.566Z"
   },
   {
    "duration": 5,
    "start_time": "2021-12-24T08:10:23.823Z"
   },
   {
    "duration": 2214,
    "start_time": "2021-12-24T08:10:23.832Z"
   },
   {
    "duration": 2696,
    "start_time": "2021-12-24T08:10:26.049Z"
   },
   {
    "duration": 4,
    "start_time": "2021-12-24T08:10:28.748Z"
   },
   {
    "duration": 6,
    "start_time": "2021-12-24T08:10:28.755Z"
   },
   {
    "duration": 185,
    "start_time": "2021-12-24T08:10:28.764Z"
   },
   {
    "duration": 26,
    "start_time": "2021-12-24T08:10:28.955Z"
   },
   {
    "duration": 3,
    "start_time": "2021-12-24T08:10:28.986Z"
   },
   {
    "duration": 315,
    "start_time": "2021-12-24T08:10:29.017Z"
   },
   {
    "duration": 133,
    "start_time": "2021-12-24T08:10:29.335Z"
   },
   {
    "duration": 56,
    "start_time": "2021-12-24T08:10:29.471Z"
   },
   {
    "duration": 65,
    "start_time": "2021-12-24T08:10:29.530Z"
   },
   {
    "duration": 53,
    "start_time": "2021-12-24T08:10:29.598Z"
   },
   {
    "duration": 76,
    "start_time": "2021-12-24T08:10:29.654Z"
   },
   {
    "duration": 8,
    "start_time": "2021-12-24T08:10:29.733Z"
   },
   {
    "duration": 11,
    "start_time": "2021-12-24T08:10:29.744Z"
   },
   {
    "duration": 13,
    "start_time": "2021-12-24T08:10:29.757Z"
   },
   {
    "duration": 11,
    "start_time": "2021-12-24T08:10:29.773Z"
   },
   {
    "duration": 8,
    "start_time": "2021-12-24T08:10:29.787Z"
   },
   {
    "duration": 3,
    "start_time": "2021-12-24T08:10:29.818Z"
   },
   {
    "duration": 11,
    "start_time": "2021-12-24T08:10:29.824Z"
   },
   {
    "duration": 3,
    "start_time": "2021-12-24T08:10:29.844Z"
   },
   {
    "duration": 9,
    "start_time": "2021-12-24T08:10:29.852Z"
   },
   {
    "duration": 6,
    "start_time": "2021-12-24T08:10:29.864Z"
   },
   {
    "duration": 343,
    "start_time": "2021-12-24T08:10:29.917Z"
   },
   {
    "duration": 161,
    "start_time": "2021-12-24T08:10:30.262Z"
   },
   {
    "duration": 228,
    "start_time": "2021-12-24T08:10:30.425Z"
   },
   {
    "duration": 5,
    "start_time": "2021-12-24T08:10:30.655Z"
   },
   {
    "duration": 113,
    "start_time": "2021-12-24T08:10:30.663Z"
   },
   {
    "duration": 3,
    "start_time": "2021-12-24T08:10:30.778Z"
   },
   {
    "duration": 9,
    "start_time": "2021-12-24T08:10:30.783Z"
   },
   {
    "duration": 311,
    "start_time": "2021-12-24T08:10:30.794Z"
   },
   {
    "duration": 658,
    "start_time": "2021-12-24T08:10:31.108Z"
   },
   {
    "duration": 29,
    "start_time": "2021-12-24T08:10:31.769Z"
   },
   {
    "duration": 50,
    "start_time": "2021-12-24T08:10:31.800Z"
   },
   {
    "duration": 9377,
    "start_time": "2021-12-24T08:10:31.852Z"
   },
   {
    "duration": 4,
    "start_time": "2021-12-24T08:10:41.231Z"
   },
   {
    "duration": 125,
    "start_time": "2021-12-24T08:10:41.238Z"
   },
   {
    "duration": 8807,
    "start_time": "2021-12-24T08:10:41.366Z"
   },
   {
    "duration": 105,
    "start_time": "2021-12-24T08:10:50.175Z"
   },
   {
    "duration": 4,
    "start_time": "2021-12-24T08:10:50.283Z"
   },
   {
    "duration": 6,
    "start_time": "2021-12-24T08:10:50.289Z"
   },
   {
    "duration": 19,
    "start_time": "2021-12-24T08:10:50.298Z"
   },
   {
    "duration": 29,
    "start_time": "2021-12-24T08:10:50.319Z"
   },
   {
    "duration": 3,
    "start_time": "2021-12-24T08:10:50.350Z"
   },
   {
    "duration": 9,
    "start_time": "2021-12-24T08:10:50.356Z"
   },
   {
    "duration": 9,
    "start_time": "2021-12-24T08:10:50.367Z"
   },
   {
    "duration": 1138,
    "start_time": "2021-12-24T08:10:50.379Z"
   },
   {
    "duration": 5,
    "start_time": "2021-12-24T08:10:51.521Z"
   },
   {
    "duration": 9,
    "start_time": "2021-12-24T08:10:51.618Z"
   },
   {
    "duration": 7,
    "start_time": "2021-12-24T08:10:51.630Z"
   },
   {
    "duration": 60904,
    "start_time": "2021-12-24T08:10:51.639Z"
   },
   {
    "duration": 3,
    "start_time": "2021-12-24T08:11:52.545Z"
   },
   {
    "duration": 11,
    "start_time": "2021-12-24T08:11:52.551Z"
   },
   {
    "duration": 176863,
    "start_time": "2021-12-24T08:11:52.565Z"
   },
   {
    "duration": 3,
    "start_time": "2021-12-24T08:14:49.431Z"
   },
   {
    "duration": 12,
    "start_time": "2021-12-24T08:14:49.436Z"
   },
   {
    "duration": 640282,
    "start_time": "2021-12-24T08:14:49.451Z"
   },
   {
    "duration": 3,
    "start_time": "2021-12-24T08:25:29.735Z"
   },
   {
    "duration": 10,
    "start_time": "2021-12-24T08:25:29.740Z"
   },
   {
    "duration": 113079,
    "start_time": "2021-12-24T08:25:29.752Z"
   },
   {
    "duration": 4,
    "start_time": "2021-12-24T08:27:22.833Z"
   },
   {
    "duration": 77,
    "start_time": "2021-12-24T08:27:22.839Z"
   },
   {
    "duration": 162429,
    "start_time": "2021-12-24T08:27:22.919Z"
   },
   {
    "duration": 4,
    "start_time": "2021-12-24T08:30:05.352Z"
   },
   {
    "duration": 8,
    "start_time": "2021-12-24T08:30:05.359Z"
   },
   {
    "duration": 9,
    "start_time": "2021-12-24T08:30:05.374Z"
   },
   {
    "duration": 61,
    "start_time": "2021-12-24T10:58:08.607Z"
   },
   {
    "duration": 108,
    "start_time": "2021-12-24T10:58:13.198Z"
   },
   {
    "duration": 158,
    "start_time": "2021-12-24T10:58:16.599Z"
   },
   {
    "duration": 57,
    "start_time": "2021-12-24T15:09:44.295Z"
   }
  ],
  "kernelspec": {
   "display_name": "Python 3",
   "language": "python",
   "name": "python3"
  },
  "language_info": {
   "codemirror_mode": {
    "name": "ipython",
    "version": 3
   },
   "file_extension": ".py",
   "mimetype": "text/x-python",
   "name": "python",
   "nbconvert_exporter": "python",
   "pygments_lexer": "ipython3",
   "version": "3.8.8"
  },
  "toc": {
   "base_numbering": 1,
   "nav_menu": {},
   "number_sections": true,
   "sideBar": true,
   "skip_h1_title": true,
   "title_cell": "Table of Contents",
   "title_sidebar": "Contents",
   "toc_cell": false,
   "toc_position": {
    "height": "calc(100% - 180px)",
    "left": "10px",
    "top": "150px",
    "width": "366.391px"
   },
   "toc_section_display": true,
   "toc_window_display": false
  }
 },
 "nbformat": 4,
 "nbformat_minor": 2
}
